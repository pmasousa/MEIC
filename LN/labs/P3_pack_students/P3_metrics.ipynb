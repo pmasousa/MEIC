{
  "cells": [
    {
      "cell_type": "markdown",
      "metadata": {
        "id": "Iq2ysIWcYrqJ"
      },
      "source": [
        "# Part 1: Distance/similarities between strings\n",
        "\n",
        "From https://pypi.org/project/textdistance/ (you can find here many more similarity/ditance metrics)\n"
      ]
    },
    {
      "cell_type": "markdown",
      "metadata": {
        "id": "nb5oTgceZKYb"
      },
      "source": [
        "## Use case\n",
        "\n",
        "Hamming distance between two strings (of equal length) is the number of positions at which the corresponding symbols are different\n",
        "\n"
      ]
    },
    {
      "cell_type": "code",
      "execution_count": 1,
      "metadata": {
        "colab": {
          "base_uri": "https://localhost:8080/"
        },
        "id": "B-Pu_xZixJZd",
        "outputId": "192b0c23-8520-44de-b84e-8b28cb713afc"
      },
      "outputs": [
        {
          "output_type": "stream",
          "name": "stdout",
          "text": [
            "Requirement already satisfied: textdistance in /usr/local/lib/python3.12/dist-packages (4.6.3)\n"
          ]
        }
      ],
      "source": [
        "pip install textdistance"
      ]
    },
    {
      "cell_type": "code",
      "execution_count": 2,
      "metadata": {
        "id": "R8CRpK3yxJZe"
      },
      "outputs": [],
      "source": [
        "import textdistance"
      ]
    },
    {
      "cell_type": "code",
      "execution_count": 3,
      "metadata": {
        "colab": {
          "base_uri": "https://localhost:8080/"
        },
        "id": "Fo2dkiaHxJZe",
        "outputId": "3efca7f1-5876-4925-ae72-a69693ecaede"
      },
      "outputs": [
        {
          "output_type": "stream",
          "name": "stdout",
          "text": [
            "Hamming:\n",
            "\traw distance = 1 (normalized = 0.25)\n",
            "\traw similarity = 3  (normalized = 0.75)\n"
          ]
        }
      ],
      "source": [
        "dist = textdistance.hamming.distance('test', 'text')\n",
        "norm_dist = textdistance.hamming.normalized_distance('test', 'text')\n",
        "sim = textdistance.hamming.similarity('test', 'text')\n",
        "norm_sim = textdistance.hamming.normalized_similarity('test', 'text')\n",
        "print(\"Hamming:\\n\\traw distance = %d (normalized = %.2f)\\n\\traw similarity = %d  (normalized = %.2f)\" % (dist,norm_dist,sim,norm_sim))"
      ]
    },
    {
      "cell_type": "markdown",
      "metadata": {
        "id": "yAseoRz5xJZf"
      },
      "source": [
        "# Part 2: Evaluating simple annotation tasks"
      ]
    },
    {
      "cell_type": "code",
      "execution_count": 4,
      "metadata": {
        "id": "llNUBQNtxJZf"
      },
      "outputs": [],
      "source": [
        "from sklearn import metrics"
      ]
    },
    {
      "cell_type": "code",
      "execution_count": 5,
      "metadata": {
        "id": "wWQnjn5HxJZf"
      },
      "outputs": [],
      "source": [
        "# Just a short example.\n",
        "y_true = [0, 1, 0, 1, 1]\n",
        "y_pred = [0, 1, 0, 0, 1]"
      ]
    },
    {
      "cell_type": "code",
      "execution_count": 6,
      "metadata": {
        "colab": {
          "base_uri": "https://localhost:8080/",
          "height": 557
        },
        "id": "9bX7fWo0xJZf",
        "outputId": "1a937aec-7362-48a0-c5f7-83b89320892d"
      },
      "outputs": [
        {
          "output_type": "stream",
          "name": "stdout",
          "text": [
            "accuracy = 0.80\n",
            "precision = 1.00\n",
            "recall = 0.67\n",
            "F1 = F_beta=1 = 0.80\n",
            "F_beta=2 = 0.71\n"
          ]
        },
        {
          "output_type": "execute_result",
          "data": {
            "text/plain": [
              "<sklearn.metrics._plot.confusion_matrix.ConfusionMatrixDisplay at 0x785c76d3d190>"
            ]
          },
          "metadata": {},
          "execution_count": 6
        },
        {
          "output_type": "display_data",
          "data": {
            "text/plain": [
              "<Figure size 640x480 with 2 Axes>"
            ],
            "image/png": "[encoded data removed]"
          },
          "metadata": {}
        }
      ],
      "source": [
        "print(\"accuracy = %.2f\" % metrics.accuracy_score(y_true, y_pred))\n",
        "print(\"precision = %.2f\" % metrics.precision_score(y_true, y_pred))\n",
        "print(\"recall = %.2f\" % metrics.recall_score(y_true, y_pred))\n",
        "# Precision as important as Recall:\n",
        "print(\"F1 = F_beta=1 = %.2f\" % metrics.f1_score(y_true, y_pred))\n",
        "# Recall more important than Precision:\n",
        "print(\"F_beta=2 = %.2f\" % metrics.fbeta_score(y_true, y_pred, beta=2))\n",
        "metrics.ConfusionMatrixDisplay(metrics.confusion_matrix(y_true, y_pred)).plot()"
      ]
    },
    {
      "cell_type": "code",
      "execution_count": 7,
      "metadata": {
        "colab": {
          "base_uri": "https://localhost:8080/"
        },
        "id": "0J9fGyxlxJZf",
        "outputId": "27e62476-5c07-4fdd-dbd7-0aadf87dd2c0"
      },
      "outputs": [
        {
          "output_type": "stream",
          "name": "stdout",
          "text": [
            "micro-precision = 0.67\n",
            "macro-precision = 0.83\n"
          ]
        }
      ],
      "source": [
        "# Although we are using 0, 1, 2, this is a categorial example\n",
        "y_true = [0, 1, 0, 1, 2, 1]\n",
        "y_pred = [0, 1, 0, 0, 2, 0]\n",
        "print(\"micro-precision = %.2f\" % metrics.precision_score(y_true, y_pred, average='micro'))\n",
        "print(\"macro-precision = %.2f\" % metrics.precision_score(y_true, y_pred, average='macro'))"
      ]
    },
    {
      "cell_type": "code",
      "execution_count": 8,
      "metadata": {
        "colab": {
          "base_uri": "https://localhost:8080/"
        },
        "id": "wFJmIg_2xJZf",
        "outputId": "bb9076c8-7814-4dca-b52d-cb3644736f71"
      },
      "outputs": [
        {
          "output_type": "stream",
          "name": "stdout",
          "text": [
            "mae = 0.10\n",
            "rmse = 0.12\n"
          ]
        }
      ],
      "source": [
        "# Numeric example (not categories)\n",
        "y_true = [0.2, 0.7, 1.0, 0.4, 0.5]\n",
        "y_pred = [0.1, 0.8, 0.8, 0.3, 0.5]\n",
        "print(\"mae = %.2f\" % metrics.mean_absolute_error(y_true, y_pred))\n",
        "print(\"rmse = %.2f\" % metrics.root_mean_squared_error(y_true, y_pred))"
      ]
    },
    {
      "cell_type": "markdown",
      "metadata": {
        "id": "-c-rv0HzV-QI"
      },
      "source": [
        "# Part 3: Evaluating correlation of automatic evaluation with human evaluation\n",
        "\n",
        "Now we will see two ways to evaluate automatic metrics. Let us select *translation* as our task.<br>\n",
        "Fist, we will apply metrics that dirrectly compare scores between humans and metric systems; then we will apply metric systems that look at ranks.\n",
        "\n",
        "PS: Yes, I know, it is complicated: metrics to evaluate metrics that evaluate...\n",
        "\n",
        "## a) Pairwise score differences\n",
        "\n",
        "Remember from previous class:\n",
        "- Pearson correlation coefficient (r) measures the linear relationship between two datasets. It assumes that both datasets are normally distributed. The values range from -1 to 1, where 1 means a perfect positive linear relationship, -1 means a perfect negative linear relationship, and 0 indicates no linear relationship.   \n",
        "- Spearman's rank correlation coefficient (ρ) assesses monotonic relationships, whether linear or not. It is a non-parametric measure (does not assume a specific distribution of data) that uses rank-ordered values for each variable. It can identify any monotonic trend between two variables, not just linear. Positive correlations imply that as x increases, so does y. Negative correlations imply that as x increases, y decreases.\n",
        "- Kendall's tau (τ) also measures the strength of a monotonic relationship but is based on the concordance of pairs. It is used when the sample size is small. Like Spearman's, Kendall's tau values range from -1 (perfect disagreement) to 1 (perfect agreement)."
      ]
    },
    {
      "cell_type": "code",
      "execution_count": 9,
      "metadata": {
        "id": "6ozspUayT4Bl",
        "colab": {
          "base_uri": "https://localhost:8080/"
        },
        "outputId": "6535772e-8f42-4b73-d075-3e136ad8df93"
      },
      "outputs": [
        {
          "output_type": "stream",
          "name": "stdout",
          "text": [
            "Kendall Rank correlation Human vs. Metric1: 0.86518\n",
            "Kendall Rank correlation Human vs. Metric2: 0.76720\n",
            "Pearson correlation Human vs. Metric1: 0.90980\n",
            "Pearson correlation Human vs. Metric2: 0.83680\n",
            "Spearman correlation Human vs. Metric1: 0.92561\n",
            "Spearman correlation Human vs. Metric2: 0.84314\n"
          ]
        }
      ],
      "source": [
        "# Import required libraries\n",
        "from scipy.stats import kendalltau, pearsonr, spearmanr\n",
        "\n",
        "# Consider the translation of 10 sentences performed by system Sys1\n",
        "# These translations are evaluated by a human H and two metrics M1 and M2\n",
        "# Which metric better correles with human evaluation according with the\n",
        "# previous defined metrics?\n",
        "\n",
        "# Consider the scores\n",
        "Sys1Human = [6, 8, 9, 7, 9, 9, 7, 7, 6, 6]\n",
        "Sys1Metric1 = [5, 7, 8, 6, 8, 9, 7, 7, 6, 6]\n",
        "Sys1Metric2 = [6, 8, 9, 7, 9, 10, 8, 8, 7, 8]\n",
        "\n",
        "# Calculating Kendall Rank correlation\n",
        "corrKH1, _ = kendalltau(Sys1Human, Sys1Metric1)\n",
        "corrKH2, _ = kendalltau(Sys1Human, Sys1Metric2)\n",
        "print('Kendall Rank correlation Human vs. Metric1: %.5f' % corrKH1)\n",
        "print('Kendall Rank correlation Human vs. Metric2: %.5f' % corrKH2)\n",
        "\n",
        "# Calculating Pearson correlation\n",
        "corrPH1, _ = pearsonr(Sys1Human, Sys1Metric1)\n",
        "corrPH2, _ = pearsonr(Sys1Human, Sys1Metric2)\n",
        "print('Pearson correlation Human vs. Metric1: %.5f' % corrPH1)\n",
        "print('Pearson correlation Human vs. Metric2: %.5f' % corrPH2)\n",
        "\n",
        "\n",
        "# Calculating Spearman correlation\n",
        "corrSH1, _ = spearmanr(Sys1Human, Sys1Metric1)\n",
        "corrSH2, _ = spearmanr(Sys1Human, Sys1Metric2)\n",
        "print('Spearman correlation Human vs. Metric1: %.5f' % corrSH1)\n",
        "print('Spearman correlation Human vs. Metric2: %.5f' % corrSH2)\n"
      ]
    },
    {
      "cell_type": "markdown",
      "metadata": {
        "id": "agw8Y-rmb96g"
      },
      "source": [
        "## b) Pairwise system-level metric quality\n",
        "\n",
        "Accuracy on binary comparisons: which system is better when human rankings are considered gold labels.<br>Check: https://aclanthology.org/2021.wmt-1.57.pdf"
      ]
    },
    {
      "cell_type": "code",
      "execution_count": 10,
      "metadata": {
        "id": "JXU1cYsnbnRr",
        "colab": {
          "base_uri": "https://localhost:8080/"
        },
        "outputId": "d71e3fe2-a31e-416b-8917-6c071672fd94"
      },
      "outputs": [
        {
          "output_type": "stream",
          "name": "stdout",
          "text": [
            "[0, 1, 4, 2, 0, -1, -1, -3, -1, 0]\n",
            "[-1, -1, 3, -1, 1, 3, 0, 0, -1, -3]\n",
            "[-1, -1, 5, 1, 0, 1, -1, -2, 3, -1]\n",
            "0.2\n",
            "0.5\n"
          ]
        }
      ],
      "source": [
        "# We have seen this in the theoretical class.\n",
        "# We want to see how M1 and M2 relate with human evaluation.\n",
        "# Considering two systems, Sys1 and Sys2, let us assume that given 10 sentences as source:\n",
        "# - System 1 returns 10 translations that:\n",
        "# (1) are scored by humans as Sys1Human\n",
        "# (2) are scored by metric 1 as Sys1Metric1\n",
        "# (3) are scored by metric 2 as Sys1Metric2\n",
        "# - System 2 returns 10 translations that:\n",
        "# (1) are scored by humans as Sys2Human\n",
        "# (2) are scored by metric 1 as Sys2Metric1\n",
        "# (3) are scored by metric 2 as Sys2Metric2\n",
        "\n",
        "# We previously defined: Sys1Human, Sys1Metric1, Sys1Metric1\n",
        "# Which Metric better correlelates with Human evaluation according with these metrics?\n",
        "# Notice that we are evaluatin metrics and not the systems\n",
        "\n",
        "Sys2Human = [6, 7, 5, 5, 9, 10, 8, 10, 7, 6]\n",
        "Sys2Metric1 = [6, 8, 5, 7, 7, 6, 7, 7, 7, 9]\n",
        "Sys2Metric2 = [7, 9, 4, 6, 9, 9, 9, 10, 4, 9]\n",
        "\n",
        "\n",
        "def substract(list1, list2):\n",
        "  result = []\n",
        "  for i in range(len(list1)):\n",
        "    result.append(list1[i] - list2[i])\n",
        "  return result\n",
        "\n",
        "def accuracyMetric(list1, list2):\n",
        "  score = 0\n",
        "  for i in range(len(list1)):\n",
        "    if (list1[i] > 0 and list2[i] > 0) or (list1[i] < 0 and list2[i] < 0) or (list1[i] == 0 and list2[i] == 0): score += 1\n",
        "  return score/len(list1) # should have the same size\n",
        "\n",
        "# diffHuman: if >= 0, Sys1 is better; if < 0 , Sys2 is better\n",
        "diffHuman = substract(Sys1Human, Sys2Human)\n",
        "\n",
        "# diffMetric1 and diffMetric2: the same\n",
        "diffMetric1 = substract(Sys1Metric1, Sys2Metric1)\n",
        "diffMetric2 = substract(Sys1Metric2, Sys2Metric2)\n",
        "\n",
        "print(diffHuman)\n",
        "print(diffMetric1)\n",
        "print(diffMetric2)\n",
        "\n",
        "# calculates if the trend is the same (Sys1 better than Sys2 or otherwise)\n",
        "acurracyM1 = accuracyMetric(diffHuman, diffMetric1)\n",
        "acurracyM2 = accuracyMetric(diffHuman, diffMetric2)\n",
        "print(acurracyM1)\n",
        "print(acurracyM2)"
      ]
    }
  ],
  "metadata": {
    "colab": {
      "provenance": [],
      "toc_visible": true
    },
    "kernelspec": {
      "display_name": "Python 3 (ipykernel)",
      "language": "python",
      "name": "python3"
    },
    "language_info": {
      "codemirror_mode": {
        "name": "ipython",
        "version": 3
      },
      "file_extension": ".py",
      "mimetype": "text/x-python",
      "name": "python",
      "nbconvert_exporter": "python",
      "pygments_lexer": "ipython3",
      "version": "3.12.4"
    }
  },
  "nbformat": 4,
  "nbformat_minor": 0
}