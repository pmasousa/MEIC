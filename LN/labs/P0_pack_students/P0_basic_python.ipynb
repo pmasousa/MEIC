{
 "cells": [
  {
   "cell_type": "markdown",
   "metadata": {},
   "source": [
    "### **Natural Language 2025**\n",
    "## **P0: programming notes**"
   ]
  },
  {
   "cell_type": "markdown",
   "metadata": {},
   "source": [
    "## **Part 1: Python basics**"
   ]
  },
  {
   "cell_type": "markdown",
   "metadata": {
    "id": "6clW8Bkle4mM"
   },
   "source": [
    "Adapted from Fernando Batista and Ricardo Ribeiro (ISCTE) notebook, which was adapted from LxMLS [Python Introduction](https://github.com/luispedro/talk-python-intro) by Luis Pedro Coelho.<br>\n",
    "Python was started in the late 80's. It has become one of the most widely used languages (check https://www.youtube.com/watch?v=qQXXI5QFUfw)"
   ]
  },
  {
   "cell_type": "markdown",
   "metadata": {
    "id": "aZUXRKSve4mQ"
   },
   "source": [
    "**USING THE NOTEBOOK**\n",
    "\n",
    "There are cells of code and text.\n",
    "There is a *single context* and it changes _as you execute cells_."
   ]
  },
  {
   "cell_type": "code",
   "execution_count": 1,
   "metadata": {
    "colab": {
     "base_uri": "https://localhost:8080/"
    },
    "id": "tCTQDI0Le4mQ",
    "outputId": "4c1ce9a8-2485-4ee8-e541-3cbc4a4c8f89"
   },
   "outputs": [
    {
     "name": "stdout",
     "output_type": "stream",
     "text": [
      "Hello World\n"
     ]
    }
   ],
   "source": [
    "print(\"Hello World\")"
   ]
  },
  {
   "cell_type": "code",
   "execution_count": 2,
   "metadata": {
    "colab": {
     "base_uri": "https://localhost:8080/"
    },
    "id": "zEA2D_Dfe4mQ",
    "outputId": "8390e942-9563-434e-9b06-3b88518f8663"
   },
   "outputs": [
    {
     "name": "stdout",
     "output_type": "stream",
     "text": [
      "1\n"
     ]
    }
   ],
   "source": [
    "a = 1\n",
    "print(a)"
   ]
  },
  {
   "cell_type": "code",
   "execution_count": 3,
   "metadata": {
    "colab": {
     "base_uri": "https://localhost:8080/"
    },
    "id": "-1JkAKYZe4mQ",
    "outputId": "a90eec86-a833-4734-ed3b-e48bf01dca59"
   },
   "outputs": [
    {
     "data": {
      "text/plain": [
       "1"
      ]
     },
     "execution_count": 3,
     "metadata": {},
     "output_type": "execute_result"
    }
   ],
   "source": [
    "a"
   ]
  },
  {
   "cell_type": "markdown",
   "metadata": {
    "id": "7NJPSuSUe4mR"
   },
   "source": [
    "When you really get confused, restart everything."
   ]
  },
  {
   "cell_type": "markdown",
   "metadata": {
    "id": "eWUoDybnjlUE"
   },
   "source": [
    "**BEFORE WE START**"
   ]
  },
  {
   "cell_type": "markdown",
   "metadata": {
    "id": "5PclClSEe4ma"
   },
   "source": [
    "*Python blocks are defined by indentation*<br>\n",
    "Unlike almost all other modern programming languages, Python uses **indentation** to delimit blocks! (sometimes called the [off-side rule](https://en.wikipedia.org/wiki/Off-side_rule))\n",
    "- you can use any number of spaces, but you should use *4 spaces*\n",
    "- you can use TABs, but please don't"
   ]
  },
  {
   "cell_type": "markdown",
   "metadata": {},
   "source": [
    "### 1.1 PYTHON TYPES"
   ]
  },
  {
   "cell_type": "markdown",
   "metadata": {
    "id": "2nBqsoLke4mR"
   },
   "source": [
    "Basic types:\n",
    "- Numbers (integers and floating point)\n",
    "- Strings\n",
    "- Lists and tuples\n",
    "- Dictionaries and sets\n",
    "- Booleans (True, False)"
   ]
  },
  {
   "cell_type": "markdown",
   "metadata": {},
   "source": [
    "**NUMBERS**"
   ]
  },
  {
   "cell_type": "code",
   "execution_count": 4,
   "metadata": {
    "colab": {
     "base_uri": "https://localhost:8080/"
    },
    "id": "O_yCNqgxe4mS",
    "outputId": "a7cb73bb-7119-4bae-ebc8-225b7f4b83c5"
   },
   "outputs": [
    {
     "data": {
      "text/plain": [
       "7"
      ]
     },
     "execution_count": 4,
     "metadata": {},
     "output_type": "execute_result"
    }
   ],
   "source": [
    "a = 1\n",
    "b = 2\n",
    "c = 3\n",
    "a + b * c"
   ]
  },
  {
   "cell_type": "code",
   "execution_count": 5,
   "metadata": {
    "colab": {
     "base_uri": "https://localhost:8080/"
    },
    "id": "dP2pq_cye4mS",
    "outputId": "227c0c86-1667-463f-9df0-58adca02a1f7"
   },
   "outputs": [
    {
     "data": {
      "text/plain": [
       "9.84"
      ]
     },
     "execution_count": 5,
     "metadata": {},
     "output_type": "execute_result"
    }
   ],
   "source": [
    "a = 1.2\n",
    "b = 2.4\n",
    "c = 3.6\n",
    "\n",
    "a + b *c"
   ]
  },
  {
   "cell_type": "markdown",
   "metadata": {},
   "source": [
    "... when mixing integers and floats, results are converted to floats ..."
   ]
  },
  {
   "cell_type": "code",
   "execution_count": 6,
   "metadata": {
    "colab": {
     "base_uri": "https://localhost:8080/"
    },
    "id": "GXXvuhewe4mT",
    "outputId": "8b6fcadf-2f5f-47b9-cc17-f7ad2d59ef0b",
    "tags": []
   },
   "outputs": [
    {
     "data": {
      "text/plain": [
       "13.0"
      ]
     },
     "execution_count": 6,
     "metadata": {},
     "output_type": "execute_result"
    }
   ],
   "source": [
    "a = 2\n",
    "b = 2.5\n",
    "c = 4.4\n",
    "a + b * c"
   ]
  },
  {
   "cell_type": "markdown",
   "metadata": {
    "id": "DsJ2FVlOe4mT"
   },
   "source": [
    "... converting between types ..."
   ]
  },
  {
   "cell_type": "code",
   "execution_count": 7,
   "metadata": {
    "colab": {
     "base_uri": "https://localhost:8080/"
    },
    "id": "U6OdYmzEe4mT",
    "outputId": "f69f661a-460c-4761-ec47-1d889b8d5d2b"
   },
   "outputs": [
    {
     "data": {
      "text/plain": [
       "7"
      ]
     },
     "execution_count": 7,
     "metadata": {},
     "output_type": "execute_result"
    }
   ],
   "source": [
    "int(7.3)"
   ]
  },
  {
   "cell_type": "markdown",
   "metadata": {
    "id": "yChNBWote4mT"
   },
   "source": [
    "... just truncating and not rounding the number ..."
   ]
  },
  {
   "cell_type": "code",
   "execution_count": 8,
   "metadata": {
    "colab": {
     "base_uri": "https://localhost:8080/"
    },
    "id": "unlJ7BMte4mT",
    "outputId": "a58db4eb-89f3-4769-f152-69427ea027d3"
   },
   "outputs": [
    {
     "data": {
      "text/plain": [
       "7"
      ]
     },
     "execution_count": 8,
     "metadata": {},
     "output_type": "execute_result"
    }
   ],
   "source": [
    "int(7.8)"
   ]
  },
  {
   "cell_type": "code",
   "execution_count": 11,
   "metadata": {},
   "outputs": [
    {
     "data": {
      "text/plain": [
       "8"
      ]
     },
     "execution_count": 11,
     "metadata": {},
     "output_type": "execute_result"
    }
   ],
   "source": [
    "int(round(7.8, 0))"
   ]
  },
  {
   "cell_type": "code",
   "execution_count": 12,
   "metadata": {
    "colab": {
     "base_uri": "https://localhost:8080/"
    },
    "id": "72CgHoeje4mU",
    "outputId": "0aef6586-54bb-45cf-d561-f23bc908ea5d"
   },
   "outputs": [
    {
     "data": {
      "text/plain": [
       "8.0"
      ]
     },
     "execution_count": 12,
     "metadata": {},
     "output_type": "execute_result"
    }
   ],
   "source": [
    "float(8)"
   ]
  },
  {
   "cell_type": "markdown",
   "metadata": {
    "id": "jVj7z6HTe4mU"
   },
   "source": [
    "Other operations:\n",
    "- exponentiation: `a ** b`\n",
    "- floating point division: `a / b`\n",
    "- integer division: `a // b`\n",
    "- remainder of integer division: `a % b`"
   ]
  },
  {
   "cell_type": "code",
   "execution_count": 13,
   "metadata": {
    "colab": {
     "base_uri": "https://localhost:8080/"
    },
    "id": "YdxHndT_e4mV",
    "outputId": "8f6c4a3e-d2c0-4177-d85a-37e947787184"
   },
   "outputs": [
    {
     "name": "stdout",
     "output_type": "stream",
     "text": [
      "3.3333333333333335\n",
      "3\n",
      "1\n"
     ]
    }
   ],
   "source": [
    "a = 10\n",
    "b = 3\n",
    "\n",
    "print(a / b)\n",
    "print(a // b)\n",
    "print(a % b)"
   ]
  },
  {
   "cell_type": "markdown",
   "metadata": {
    "id": "vZOerdyUe4mV"
   },
   "source": [
    "**STRINGS**"
   ]
  },
  {
   "cell_type": "code",
   "execution_count": 14,
   "metadata": {
    "colab": {
     "base_uri": "https://localhost:8080/",
     "height": 35
    },
    "id": "poavn8aie4mV",
    "outputId": "dac71042-f53f-48fc-989c-d052538a3ecc"
   },
   "outputs": [
    {
     "data": {
      "text/plain": [
       "'John Doe'"
      ]
     },
     "execution_count": 14,
     "metadata": {},
     "output_type": "execute_result"
    }
   ],
   "source": [
    "first = 'John'\n",
    "last = \"Doe\"\n",
    "full = first + \" \" + last\n",
    "full"
   ]
  },
  {
   "cell_type": "markdown",
   "metadata": {
    "id": "O20oUiroe4mV"
   },
   "source": [
    "... we can easily obtain individual chars or substrings ..."
   ]
  },
  {
   "cell_type": "code",
   "execution_count": 15,
   "metadata": {
    "colab": {
     "base_uri": "https://localhost:8080/"
    },
    "id": "aFphyWYLe4mV",
    "outputId": "9698cc59-d767-4213-aa56-3ed9600b3cbd"
   },
   "outputs": [
    {
     "name": "stdout",
     "output_type": "stream",
     "text": [
      "J\n",
      "Joh\n",
      "e\n",
      "oe\n"
     ]
    }
   ],
   "source": [
    "print(full[0])      # gets the first char\n",
    "print(full[0:3])    # gets chars from 0 to 2\n",
    "print(full[-1])     # gets the last char\n",
    "print(full[-2:])    # gets the last 2 chars"
   ]
  },
  {
   "cell_type": "markdown",
   "metadata": {
    "id": "HHdupZ6be4mV"
   },
   "source": [
    "Strings are immutable objects. It means that you can't change a string, you can only create a new one.<br>\n",
    "They already have a set of pre-defined methods. We call a method with the `<object>.<method>()` syntax"
   ]
  },
  {
   "cell_type": "code",
   "execution_count": 16,
   "metadata": {
    "id": "34rNO5hFe4mW"
   },
   "outputs": [],
   "source": [
    "name = \"Mary Poppins\""
   ]
  },
  {
   "cell_type": "code",
   "execution_count": 17,
   "metadata": {
    "colab": {
     "base_uri": "https://localhost:8080/"
    },
    "id": "x0-2CU_ne4mW",
    "outputId": "40d2c1dc-80f9-4610-c165-616b6cfb821b"
   },
   "outputs": [
    {
     "data": {
      "text/plain": [
       "True"
      ]
     },
     "execution_count": 17,
     "metadata": {},
     "output_type": "execute_result"
    }
   ],
   "source": [
    "\"Pop\" in name"
   ]
  },
  {
   "cell_type": "markdown",
   "metadata": {
    "id": "fULphwEbe4mW"
   },
   "source": [
    "... the `len` function can be applied to strings, lists, dictionaries, arrays, etc ..."
   ]
  },
  {
   "cell_type": "code",
   "execution_count": 18,
   "metadata": {
    "colab": {
     "base_uri": "https://localhost:8080/"
    },
    "id": "5mAJH0zxe4mW",
    "outputId": "c5543b7a-53e9-416f-ba03-c8f51c48928a"
   },
   "outputs": [
    {
     "data": {
      "text/plain": [
       "12"
      ]
     },
     "execution_count": 18,
     "metadata": {},
     "output_type": "execute_result"
    }
   ],
   "source": [
    "len(name)"
   ]
  },
  {
   "cell_type": "code",
   "execution_count": 19,
   "metadata": {
    "colab": {
     "base_uri": "https://localhost:8080/"
    },
    "id": "EZEmpUn5e4mW",
    "outputId": "33e9dabc-7604-41c8-bc1c-2e7d3de5e9d0",
    "tags": []
   },
   "outputs": [
    {
     "data": {
      "text/plain": [
       "True"
      ]
     },
     "execution_count": 19,
     "metadata": {},
     "output_type": "execute_result"
    }
   ],
   "source": [
    "name.startswith(\"Mary\")"
   ]
  },
  {
   "cell_type": "markdown",
   "metadata": {
    "id": "52Gd9-boe4mW"
   },
   "source": [
    "... add a `?` at the end of an object or a method to get help inside the notebook ..."
   ]
  },
  {
   "cell_type": "code",
   "execution_count": 20,
   "metadata": {
    "id": "EOvJg0V9e4mW"
   },
   "outputs": [
    {
     "data": {
      "text/plain": [
       "\u001b[1;31mDocstring:\u001b[0m\n",
       "S.startswith(prefix[, start[, end]]) -> bool\n",
       "\n",
       "Return True if S starts with the specified prefix, False otherwise.\n",
       "With optional start, test S beginning at that position.\n",
       "With optional end, stop comparing S at that position.\n",
       "prefix can also be a tuple of strings to try.\n",
       "\u001b[1;31mType:\u001b[0m      builtin_function_or_method"
      ]
     },
     "metadata": {},
     "output_type": "display_data"
    }
   ],
   "source": [
    "name.startswith?"
   ]
  },
  {
   "cell_type": "markdown",
   "metadata": {
    "id": "kYtczNjte4mW"
   },
   "source": [
    "... short string literals are delimited by (`\"`) or (`'`) and special characters can be inputted using escape sequences (`\\n` for newline)  ...\n"
   ]
  },
  {
   "cell_type": "code",
   "execution_count": 21,
   "metadata": {
    "colab": {
     "base_uri": "https://localhost:8080/"
    },
    "id": "7OxFnVgue4mX",
    "outputId": "3a985e64-48cf-42b1-9159-dac1ed16f34f"
   },
   "outputs": [
    {
     "name": "stdout",
     "output_type": "stream",
     "text": [
      "Line 1\n",
      "Line 2\n",
      "\n",
      "Line 1\n",
      "Line 2\n",
      "\n"
     ]
    }
   ],
   "source": [
    "print(\"Line 1\\nLine 2\\n\")\n",
    "print('Line 1\\nLine 2\\n')"
   ]
  },
  {
   "cell_type": "markdown",
   "metadata": {
    "id": "AZWIsa_1e4mX"
   },
   "source": [
    "We use a method called `format` to replace placeholders in a string. Placeholders are denoted by `{}`:"
   ]
  },
  {
   "cell_type": "code",
   "execution_count": 22,
   "metadata": {
    "colab": {
     "base_uri": "https://localhost:8080/",
     "height": 35
    },
    "id": "yqiCcy7He4mX",
    "outputId": "ea977a2f-244b-41c9-8529-6b6fdcc283e3"
   },
   "outputs": [
    {
     "data": {
      "text/plain": [
       "'Name: John Smith'"
      ]
     },
     "execution_count": 22,
     "metadata": {},
     "output_type": "execute_result"
    }
   ],
   "source": [
    "\"Name: {}\".format('John Smith')"
   ]
  },
  {
   "cell_type": "code",
   "execution_count": 23,
   "metadata": {
    "colab": {
     "base_uri": "https://localhost:8080/"
    },
    "id": "U147TvOGe4mX",
    "outputId": "e9a64ac4-334a-4607-e517-ae5460d26c23"
   },
   "outputs": [
    {
     "name": "stdout",
     "output_type": "stream",
     "text": [
      "My friend John Smith lives in Lisbon\n"
     ]
    }
   ],
   "source": [
    "print(\"My friend {} lives in {}\".format('John Smith', 'Lisbon'))"
   ]
  },
  {
   "cell_type": "markdown",
   "metadata": {
    "id": "xyLyy8see4mX"
   },
   "source": [
    "You can also have numbers:"
   ]
  },
  {
   "cell_type": "code",
   "execution_count": 24,
   "metadata": {
    "colab": {
     "base_uri": "https://localhost:8080/"
    },
    "id": "GcGZ5Dl5e4mX",
    "outputId": "c151ef1d-48d2-4b08-b10d-41de29c3c0eb"
   },
   "outputs": [
    {
     "name": "stdout",
     "output_type": "stream",
     "text": [
      "Name: John Smith\n",
      "My friend John Smith lives in Lisbon\n",
      "John Smith lives in Lisbon, and Lisbon is in Portugal\n"
     ]
    }
   ],
   "source": [
    "print(\"Name: {0}\".format('John Smith'))\n",
    "print(\"My friend {0} lives in {1}\".format('John Smith', 'Lisbon'))\n",
    "print(\"{0} lives in {1}, and {1} is in {2}\".format('John Smith', 'Lisbon', 'Portugal'))"
   ]
  },
  {
   "cell_type": "markdown",
   "metadata": {
    "id": "Y2DhmZwAe4mX"
   },
   "source": [
    "F-strings is a *new* style of formatting, even simpler. Use `f\"string {variable}\"`"
   ]
  },
  {
   "cell_type": "code",
   "execution_count": 25,
   "metadata": {
    "colab": {
     "base_uri": "https://localhost:8080/"
    },
    "id": "_4YdPPuXe4mX",
    "outputId": "5630ef9c-2e86-4438-897c-4f5a05954d29"
   },
   "outputs": [
    {
     "name": "stdout",
     "output_type": "stream",
     "text": [
      "My friend John Smith lives in Lisbon and 1 + 2 = 3\n"
     ]
    }
   ],
   "source": [
    "name = \"John Smith\"\n",
    "place = \"Lisbon\"\n",
    "a = 1\n",
    "b = 2\n",
    "print(f\"My friend {name} lives in {place} and {a} + {b} = {a + b}\")"
   ]
  },
  {
   "cell_type": "markdown",
   "metadata": {
    "id": "QvfZSbA7e4mX"
   },
   "source": [
    "... you should not use the old formatting style, yet you may still see it in old code ..."
   ]
  },
  {
   "cell_type": "code",
   "execution_count": 26,
   "metadata": {
    "colab": {
     "base_uri": "https://localhost:8080/"
    },
    "id": "UnqhlNnde4mX",
    "outputId": "c03ff966-8d2a-4df4-e917-972a7afd5837"
   },
   "outputs": [
    {
     "name": "stdout",
     "output_type": "stream",
     "text": [
      "Name: John Smith\n",
      "My friend John Smith lives in Lisbon\n"
     ]
    }
   ],
   "source": [
    "print(\"Name: %s\" % 'John Smith')\n",
    "print(\"My friend %s lives in %s\" % ('John Smith', 'Lisbon'))"
   ]
  },
  {
   "cell_type": "markdown",
   "metadata": {
    "id": "skgBu_lBe4mX"
   },
   "source": [
    "... ways of handling long strings ..."
   ]
  },
  {
   "cell_type": "code",
   "execution_count": 27,
   "metadata": {
    "id": "jJNmNt53e4mX"
   },
   "outputs": [],
   "source": [
    "long = '''Tell me, is love\n",
    "Still a popular suggestion\n",
    "Or merely an obsolete art?\n",
    "\n",
    "Forgive me, for asking,\n",
    "This simple question,\n",
    "I am unfamiliar with his heart.'''"
   ]
  },
  {
   "cell_type": "code",
   "execution_count": 28,
   "metadata": {
    "colab": {
     "base_uri": "https://localhost:8080/"
    },
    "id": "3ONlFYu4e4mY",
    "outputId": "11619223-daa1-4514-dde6-afa8e51a6d43"
   },
   "outputs": [
    {
     "name": "stdout",
     "output_type": "stream",
     "text": [
      "Tell me, is love\n",
      "Still a popular suggestion\n",
      "Or merely an obsolete art?\n",
      "\n",
      "Forgive me, for asking,\n",
      "This simple question,\n",
      "I am unfamiliar with his heart.\n"
     ]
    }
   ],
   "source": [
    "print(long)"
   ]
  },
  {
   "cell_type": "markdown",
   "metadata": {
    "id": "anMLFE63e4mY"
   },
   "source": [
    "**LISTS**\n",
    "\n",
    "A python list is written with square brackets and commas. Elements can be acessed by their index"
   ]
  },
  {
   "cell_type": "code",
   "execution_count": 29,
   "metadata": {
    "colab": {
     "base_uri": "https://localhost:8080/"
    },
    "id": "bhQDeD6Ie4mY",
    "outputId": "2dfdf7b7-8bfc-4f61-b584-eb10f48774ad"
   },
   "outputs": [
    {
     "name": "stdout",
     "output_type": "stream",
     "text": [
      "3\n",
      "5\n",
      "10\n"
     ]
    }
   ],
   "source": [
    "values = [3, 5, 7, 10]\n",
    "print(values[0]) # <- first element\n",
    "print(values[1]) # <- second element\n",
    "print(values[-1]) # <- last element"
   ]
  },
  {
   "cell_type": "code",
   "execution_count": 30,
   "metadata": {
    "colab": {
     "base_uri": "https://localhost:8080/"
    },
    "id": "3WC_eLq5e4mY",
    "outputId": "334c1c3d-0d43-4d8b-b651-3d093d9686a8"
   },
   "outputs": [
    {
     "name": "stdout",
     "output_type": "stream",
     "text": [
      "[3, 5]\n",
      "[5]\n",
      "10\n",
      "4\n"
     ]
    }
   ],
   "source": [
    "print(values[0:2])\n",
    "print(values[1:2])\n",
    "print(values[-1])\n",
    "print(len(values))"
   ]
  },
  {
   "cell_type": "markdown",
   "metadata": {
    "id": "HU52UPiIe4mY"
   },
   "source": [
    "List methods:\n",
    "- `append(element)`\n",
    "- `insert(position, element)`\n",
    "- `remove(element)`"
   ]
  },
  {
   "cell_type": "code",
   "execution_count": 31,
   "metadata": {
    "colab": {
     "base_uri": "https://localhost:8080/"
    },
    "id": "q22bUjwde4mY",
    "outputId": "a5382ee1-188d-4db3-b9c0-e2ae991cee91"
   },
   "outputs": [
    {
     "name": "stdout",
     "output_type": "stream",
     "text": [
      "['Apple', 'Banana', 'Pineapple']\n"
     ]
    }
   ],
   "source": [
    "fruits = [\"Pineapple\", \"Banana\", \"Apple\"]\n",
    "fruits.sort()\n",
    "print(fruits)"
   ]
  },
  {
   "cell_type": "code",
   "execution_count": 32,
   "metadata": {
    "colab": {
     "base_uri": "https://localhost:8080/"
    },
    "id": "P354hcx7e4mY",
    "outputId": "e3e3109d-22b5-43c2-bb08-c97a66156f2c"
   },
   "outputs": [
    {
     "name": "stdout",
     "output_type": "stream",
     "text": [
      "['Apple', 'Banana', 'Pineapple', 'Orange']\n"
     ]
    }
   ],
   "source": [
    "fruits.append(\"Orange\")\n",
    "print(fruits)"
   ]
  },
  {
   "cell_type": "code",
   "execution_count": 33,
   "metadata": {
    "colab": {
     "base_uri": "https://localhost:8080/"
    },
    "id": "ch45oG1Ee4mY",
    "outputId": "dc2c8868-c67d-4c27-b09a-ae47316cf04d"
   },
   "outputs": [
    {
     "name": "stdout",
     "output_type": "stream",
     "text": [
      "['Apple', 'Banana', 'Pineapple', 'Orange', 123]\n"
     ]
    }
   ],
   "source": [
    "fruits.append(123)\n",
    "print(fruits)"
   ]
  },
  {
   "cell_type": "markdown",
   "metadata": {
    "id": "WLoLDSfie4mY"
   },
   "source": [
    "... you can even append other lists ..."
   ]
  },
  {
   "cell_type": "code",
   "execution_count": 34,
   "metadata": {
    "colab": {
     "base_uri": "https://localhost:8080/"
    },
    "id": "6HL8P3hTe4mY",
    "outputId": "8e488a45-d278-4472-8ad4-5b423c080d55"
   },
   "outputs": [
    {
     "name": "stdout",
     "output_type": "stream",
     "text": [
      "['Apple', 'Banana', 'Pineapple', 'Orange', 123, [1, 2, 3]]\n"
     ]
    }
   ],
   "source": [
    "numbers = [1,2,3]\n",
    "fruits.append(numbers)\n",
    "print(fruits)"
   ]
  },
  {
   "cell_type": "code",
   "execution_count": 35,
   "metadata": {
    "colab": {
     "base_uri": "https://localhost:8080/"
    },
    "id": "H_ftrDUhe4mY",
    "outputId": "d6b4f53b-96e9-4fcb-e45f-d3327e040df6"
   },
   "outputs": [
    {
     "data": {
      "text/plain": [
       "[1, 2, 3]"
      ]
     },
     "execution_count": 35,
     "metadata": {},
     "output_type": "execute_result"
    }
   ],
   "source": [
    "fruits[5]"
   ]
  },
  {
   "cell_type": "markdown",
   "metadata": {
    "id": "Mrt9UNhVe4mZ"
   },
   "source": [
    "Lists are mutable objects, so you can easily change a given element:"
   ]
  },
  {
   "cell_type": "code",
   "execution_count": 36,
   "metadata": {
    "colab": {
     "base_uri": "https://localhost:8080/"
    },
    "id": "T4AklTiHe4mZ",
    "outputId": "fb16ec74-ba41-48ad-817e-b231005de373"
   },
   "outputs": [
    {
     "name": "stdout",
     "output_type": "stream",
     "text": [
      "['Apple', 'Banana', 'Pineapple', 'Orange', 123, [1, 2, 3]]\n",
      "['Apple', 'Banana', 'Pineapple', 'Orange', 7654, [1, 2, 3]]\n"
     ]
    }
   ],
   "source": [
    "print(fruits)\n",
    "fruits[4] = 7654\n",
    "print(fruits)"
   ]
  },
  {
   "cell_type": "code",
   "execution_count": 37,
   "metadata": {
    "colab": {
     "base_uri": "https://localhost:8080/"
    },
    "id": "L-miesKMe4mZ",
    "outputId": "116c3330-1a9d-4954-c905-877ff8a26c7e"
   },
   "outputs": [
    {
     "name": "stdout",
     "output_type": "stream",
     "text": [
      "['Apple', 'Banana', 'Pineapple', 'Orange', 7654, [1, 333, 3]]\n"
     ]
    }
   ],
   "source": [
    "fruits[5][1] = 333\n",
    "print(fruits)"
   ]
  },
  {
   "cell_type": "markdown",
   "metadata": {
    "id": "dEY4tO4Ve4mZ"
   },
   "source": [
    "**TUPLES**\n",
    "\n",
    "Similar to lists, but *immutable*:"
   ]
  },
  {
   "cell_type": "code",
   "execution_count": 38,
   "metadata": {
    "colab": {
     "base_uri": "https://localhost:8080/"
    },
    "id": "nHAt8VPje4mZ",
    "outputId": "ce3b2618-f3c3-4eed-926d-be80c0ff7ec2"
   },
   "outputs": [
    {
     "data": {
      "text/plain": [
       "(3, 5, 7, 'hello', 'goodbye')"
      ]
     },
     "execution_count": 38,
     "metadata": {},
     "output_type": "execute_result"
    }
   ],
   "source": [
    "a = (3, 5, 7 , \"hello\", \"goodbye\")\n",
    "a"
   ]
  },
  {
   "cell_type": "code",
   "execution_count": 39,
   "metadata": {
    "colab": {
     "base_uri": "https://localhost:8080/"
    },
    "id": "yfcCvP_Je4mZ",
    "outputId": "ad79d0bb-2a00-4e81-aa8b-54cc06f423ab"
   },
   "outputs": [
    {
     "data": {
      "text/plain": [
       "(5, 7, 'hello')"
      ]
     },
     "execution_count": 39,
     "metadata": {},
     "output_type": "execute_result"
    }
   ],
   "source": [
    "a[1:4]"
   ]
  },
  {
   "cell_type": "markdown",
   "metadata": {
    "id": "8UC93p-ie4mZ"
   },
   "source": [
    "... remember that they are *immutable* ..."
   ]
  },
  {
   "cell_type": "code",
   "execution_count": 40,
   "metadata": {
    "colab": {
     "base_uri": "https://localhost:8080/",
     "height": 139
    },
    "id": "GQRMm7VEe4mZ",
    "outputId": "82fd632f-66fb-48cf-d8fd-58416ca69e5c"
   },
   "outputs": [
    {
     "ename": "TypeError",
     "evalue": "'tuple' object does not support item assignment",
     "output_type": "error",
     "traceback": [
      "\u001b[1;31m---------------------------------------------------------------------------\u001b[0m",
      "\u001b[1;31mTypeError\u001b[0m                                 Traceback (most recent call last)",
      "Cell \u001b[1;32mIn[40], line 1\u001b[0m\n\u001b[1;32m----> 1\u001b[0m a[\u001b[38;5;241m0\u001b[39m] \u001b[38;5;241m=\u001b[39m \u001b[38;5;241m1\u001b[39m\n",
      "\u001b[1;31mTypeError\u001b[0m: 'tuple' object does not support item assignment"
     ]
    }
   ],
   "source": [
    "a[0] = 1"
   ]
  },
  {
   "cell_type": "markdown",
   "metadata": {
    "id": "cCnlaEmEe4mZ"
   },
   "source": [
    "**DICTIONARIES**"
   ]
  },
  {
   "cell_type": "code",
   "execution_count": 41,
   "metadata": {
    "colab": {
     "base_uri": "https://localhost:8080/"
    },
    "id": "2ajVYbjRe4mZ",
    "outputId": "37631562-70f1-4936-820f-0bd50c6e24c2"
   },
   "outputs": [
    {
     "name": "stdout",
     "output_type": "stream",
     "text": [
      "Luis' email is luis@iscte.pt\n"
     ]
    }
   ],
   "source": [
    "emails = {\n",
    "    'Luis' : 'luis@iscte.pt',\n",
    "    'Rita' : 'rita@gmail.com',\n",
    "}\n",
    "\n",
    "print(\"Luis' email is {}\".format(emails['Luis']))"
   ]
  },
  {
   "cell_type": "code",
   "execution_count": 42,
   "metadata": {
    "colab": {
     "base_uri": "https://localhost:8080/"
    },
    "id": "VnEByiJKe4mZ",
    "outputId": "21f5ed2e-e33b-48f1-f35e-8b94665456dd"
   },
   "outputs": [
    {
     "name": "stdout",
     "output_type": "stream",
     "text": [
      "{'Luis': 'luis@iscte-iul.pt', 'Rita': 'rita@gmail.com', 'Pedro': 'pedro@gmail.com'}\n"
     ]
    }
   ],
   "source": [
    "emails['Pedro'] = 'pedro@gmail.com'  # <- add a new element\n",
    "emails['Luis'] = 'luis@iscte-iul.pt' # <- replace an element\n",
    "\n",
    "print(emails)"
   ]
  },
  {
   "cell_type": "code",
   "execution_count": 43,
   "metadata": {
    "colab": {
     "base_uri": "https://localhost:8080/"
    },
    "id": "y6_UKDnue4mZ",
    "outputId": "7b1c2eee-f853-4c1d-b00d-c78b3a4f4b60"
   },
   "outputs": [
    {
     "data": {
      "text/plain": [
       "3"
      ]
     },
     "execution_count": 43,
     "metadata": {},
     "output_type": "execute_result"
    }
   ],
   "source": [
    "len(emails)"
   ]
  },
  {
   "cell_type": "code",
   "execution_count": 44,
   "metadata": {
    "colab": {
     "base_uri": "https://localhost:8080/"
    },
    "id": "YxnysY4ke4ma",
    "outputId": "f3b2f1c0-75fb-40b4-a57a-e0927691ed38"
   },
   "outputs": [
    {
     "data": {
      "text/plain": [
       "dict_keys(['Luis', 'Rita', 'Pedro'])"
      ]
     },
     "execution_count": 44,
     "metadata": {},
     "output_type": "execute_result"
    }
   ],
   "source": [
    "emails.keys()"
   ]
  },
  {
   "cell_type": "code",
   "execution_count": 45,
   "metadata": {
    "colab": {
     "base_uri": "https://localhost:8080/"
    },
    "id": "_BUOEM1Re4ma",
    "outputId": "2fda62d3-f1e6-46c7-da08-92b4b9c64e11"
   },
   "outputs": [
    {
     "data": {
      "text/plain": [
       "True"
      ]
     },
     "execution_count": 45,
     "metadata": {},
     "output_type": "execute_result"
    }
   ],
   "source": [
    "'Pedro' in emails"
   ]
  },
  {
   "cell_type": "markdown",
   "metadata": {
    "id": "RUoL7DGDe4ma"
   },
   "source": [
    "**NONE**\n",
    "\n",
    "There is something called `None`. It's like a null pointer."
   ]
  },
  {
   "cell_type": "code",
   "execution_count": 46,
   "metadata": {
    "id": "Jlpiwisze4ma"
   },
   "outputs": [],
   "source": [
    "None"
   ]
  },
  {
   "cell_type": "markdown",
   "metadata": {},
   "source": [
    "### 1.2 RANDOM NUMBERS"
   ]
  },
  {
   "cell_type": "markdown",
   "metadata": {},
   "source": [
    "Random numbers generated through a computer program are called pseudo random.<br>\n",
    "*numpy* offers the *random*from numpy import random module to generate pseudo random numbers."
   ]
  },
  {
   "cell_type": "code",
   "execution_count": 10,
   "metadata": {},
   "outputs": [],
   "source": [
    "from numpy import random"
   ]
  },
  {
   "cell_type": "markdown",
   "metadata": {},
   "source": [
    "To replicate the sequences of generated numbers you can place a seed"
   ]
  },
  {
   "cell_type": "code",
   "execution_count": 25,
   "metadata": {},
   "outputs": [],
   "source": [
    "random.seed(0)"
   ]
  },
  {
   "cell_type": "markdown",
   "metadata": {},
   "source": [
    "Generate a random integer from 0 to 100"
   ]
  },
  {
   "cell_type": "code",
   "execution_count": 12,
   "metadata": {},
   "outputs": [
    {
     "data": {
      "text/plain": [
       "76"
      ]
     },
     "execution_count": 12,
     "metadata": {},
     "output_type": "execute_result"
    }
   ],
   "source": [
    "random.randint(100)"
   ]
  },
  {
   "cell_type": "markdown",
   "metadata": {},
   "source": [
    "Generate a 5-length numpy array of integers"
   ]
  },
  {
   "cell_type": "code",
   "execution_count": 19,
   "metadata": {},
   "outputs": [
    {
     "data": {
      "text/plain": [
       "array([97, 23, 53, 26, 53])"
      ]
     },
     "execution_count": 19,
     "metadata": {},
     "output_type": "execute_result"
    }
   ],
   "source": [
    "array = random.randint(100, size=(5))\n",
    "array"
   ]
  },
  {
   "cell_type": "markdown",
   "metadata": {},
   "source": [
    "numpy arrays can be converted to simple lists"
   ]
  },
  {
   "cell_type": "code",
   "execution_count": 20,
   "metadata": {},
   "outputs": [
    {
     "data": {
      "text/plain": [
       "[97, 23, 53, 26, 53]"
      ]
     },
     "execution_count": 20,
     "metadata": {},
     "output_type": "execute_result"
    }
   ],
   "source": [
    "list(array)"
   ]
  },
  {
   "cell_type": "markdown",
   "metadata": {},
   "source": [
    "Generate a random float from 0 to 1"
   ]
  },
  {
   "cell_type": "code",
   "execution_count": 15,
   "metadata": {},
   "outputs": [
    {
     "data": {
      "text/plain": [
       "0.26563984604067425"
      ]
     },
     "execution_count": 15,
     "metadata": {},
     "output_type": "execute_result"
    }
   ],
   "source": [
    "random.rand()"
   ]
  },
  {
   "cell_type": "markdown",
   "metadata": {},
   "source": [
    "Generate a numpy matrix of random floats"
   ]
  },
  {
   "cell_type": "code",
   "execution_count": 22,
   "metadata": {},
   "outputs": [
    {
     "data": {
      "text/plain": [
       "array([[0.3933434 , 0.59554445, 0.5165951 , 0.10225382, 0.97957922],\n",
       "       [0.21967549, 0.44422095, 0.7424238 , 0.63576779, 0.33147146],\n",
       "       [0.43030413, 0.28497521, 0.89444994, 0.51426073, 0.03431885]])"
      ]
     },
     "execution_count": 22,
     "metadata": {},
     "output_type": "execute_result"
    }
   ],
   "source": [
    "random.rand(3, 5)"
   ]
  },
  {
   "cell_type": "markdown",
   "metadata": {},
   "source": [
    "### 1.3 PYTHON CONTROL STRUCTURES"
   ]
  },
  {
   "cell_type": "markdown",
   "metadata": {
    "id": "mcUaHD2Ie4ma"
   },
   "source": [
    "- `if`\n",
    "- `while` loop\n",
    "- `for` loop"
   ]
  },
  {
   "cell_type": "markdown",
   "metadata": {},
   "source": [
    "**IF**"
   ]
  },
  {
   "cell_type": "code",
   "execution_count": 47,
   "metadata": {
    "colab": {
     "base_uri": "https://localhost:8080/"
    },
    "id": "_pN8p4Ece4ma",
    "outputId": "22308154-31a8-4608-bbea-37eb46b9fd74"
   },
   "outputs": [
    {
     "name": "stdout",
     "output_type": "stream",
     "text": [
      "Rita passed\n",
      "Congratulations\n"
     ]
    }
   ],
   "source": [
    "MIN_GRADE = 0.5\n",
    "student = \"Rita\"\n",
    "grade = 0.7\n",
    "\n",
    "if grade > MIN_GRADE:\n",
    "    print(\"{} passed\".format(student))\n",
    "    print(\"Congratulations\")\n",
    "else:\n",
    "    print(\"{} needs to take the test again\".format(student))"
   ]
  },
  {
   "cell_type": "markdown",
   "metadata": {
    "id": "fj8E8HATe4ma"
   },
   "source": [
    "Syntax:\n",
    "\n",
    "     if <condition>:\n",
    "        <statement 1>\n",
    "        <statement 2>\n",
    "        <statement 3>\n",
    "    <elif or else clauses>"
   ]
  },
  {
   "cell_type": "code",
   "execution_count": 48,
   "metadata": {
    "colab": {
     "base_uri": "https://localhost:8080/"
    },
    "id": "yZVSQhaye4ma",
    "outputId": "9b5cb813-ef8f-4e6b-e5f4-09e24aaab798"
   },
   "outputs": [
    {
     "name": "stdout",
     "output_type": "stream",
     "text": [
      "Greater than 1\n"
     ]
    }
   ],
   "source": [
    "a = 2\n",
    "if a > 3:\n",
    "    print(\"Greater than 3\")\n",
    "elif a > 2:\n",
    "    print(\"Greater than 2\")\n",
    "elif a > 1:\n",
    "    print(\"Greater than 1\")\n",
    "else:\n",
    "    print(\"Kind of small\")"
   ]
  },
  {
   "cell_type": "markdown",
   "metadata": {
    "id": "GGPWf9Ofe4ma"
   },
   "source": [
    "... conditions return booleans (either `True` or `False`) include:\n",
    "- `a == b`\n",
    "- `a != b`\n",
    "- `a < b`\n",
    "- `a > b`\n",
    "- `a >= b` and `a <= b`\n",
    "- `a in lst`\n",
    "- `a not in lst`"
   ]
  },
  {
   "cell_type": "code",
   "execution_count": 49,
   "metadata": {
    "colab": {
     "base_uri": "https://localhost:8080/"
    },
    "id": "2BJihTKae4ma",
    "outputId": "2376c84f-9905-4357-8c89-1603a4c65113"
   },
   "outputs": [
    {
     "name": "stdout",
     "output_type": "stream",
     "text": [
      "True\n",
      "False\n"
     ]
    }
   ],
   "source": [
    "a = 1\n",
    "b = 2\n",
    "print(a < b)\n",
    "print(a == b)"
   ]
  },
  {
   "cell_type": "markdown",
   "metadata": {
    "id": "IzFP7YzEe4ma"
   },
   "source": [
    "... we can also use booleans as values ..."
   ]
  },
  {
   "cell_type": "code",
   "execution_count": 50,
   "metadata": {
    "colab": {
     "base_uri": "https://localhost:8080/"
    },
    "id": "H2aAwb5ce4ma",
    "outputId": "7850068a-d0d4-43ce-d8bb-0083da068ec0"
   },
   "outputs": [
    {
     "name": "stdout",
     "output_type": "stream",
     "text": [
      "Yep\n"
     ]
    }
   ],
   "source": [
    "potato = True\n",
    "if potato:\n",
    "    print(\"Yep\")"
   ]
  },
  {
   "cell_type": "markdown",
   "metadata": {
    "id": "SpJb75HAe4mb"
   },
   "source": [
    "... many things can be evaluated as conditions:\n",
    "  - lists (the empty list gets evaluated as `False`, otherwise `True`)\n",
    "  - dicts (same)\n",
    "  - strings (empty string evaluates to `False`, otherwise `True`)\n",
    "  - numbers (zero is `False`, else `True`)\n",
    "  \n",
    "Several other objects can be evaluated in conditions ..."
   ]
  },
  {
   "cell_type": "code",
   "execution_count": 51,
   "metadata": {
    "colab": {
     "base_uri": "https://localhost:8080/"
    },
    "id": "qvFJTJ_6e4mb",
    "outputId": "c1c8b006-4ca4-4fe5-f1a5-31aecb87adf2"
   },
   "outputs": [
    {
     "name": "stdout",
     "output_type": "stream",
     "text": [
      "Fruity\n"
     ]
    }
   ],
   "source": [
    "if fruits:\n",
    "    print(\"Fruity\")\n",
    "else:\n",
    "    print(\"Nope\")"
   ]
  },
  {
   "cell_type": "markdown",
   "metadata": {
    "id": "IPUX16fHe4mb"
   },
   "source": [
    "... *logic operators* `and`, `or`, `not` can also be used ..."
   ]
  },
  {
   "cell_type": "code",
   "execution_count": null,
   "metadata": {
    "colab": {
     "base_uri": "https://localhost:8080/"
    },
    "id": "hN8dOxzZe4mb",
    "outputId": "3597e760-eecb-4f11-e220-56c2009b48b1"
   },
   "outputs": [],
   "source": [
    "name = input(\"Name please :\")\n",
    "if \"ana\" in name or name == \"bob\":\n",
    "    print(\"Welcome back {}\".format(name))\n",
    "else:\n",
    "    print(\"Nice to meet you\")"
   ]
  },
  {
   "cell_type": "markdown",
   "metadata": {
    "id": "vFaV8tlHe4mb"
   },
   "source": [
    "**WHILE**\n",
    "\n",
    "By now, you can probably guess the syntax:\n",
    "\n",
    "    while <condition>:\n",
    "        <block>"
   ]
  },
  {
   "cell_type": "code",
   "execution_count": null,
   "metadata": {
    "colab": {
     "base_uri": "https://localhost:8080/"
    },
    "id": "12wwLTnpe4mb",
    "outputId": "bcd0b887-d8c0-4c83-c2eb-654b1697f889"
   },
   "outputs": [
    {
     "name": "stdin",
     "output_type": "stream",
     "text": [
      "Give me a name:  ff\n",
      "Give me another name:  ff\n",
      "Give me another name:  ff\n"
     ]
    }
   ],
   "source": [
    "names = []\n",
    "name = input(\"Give me a name: \")\n",
    "while len(name) != 0:\n",
    "    names.append(name)\n",
    "    name = input(\"Give me another name: \")"
   ]
  },
  {
   "cell_type": "code",
   "execution_count": 1,
   "metadata": {
    "colab": {
     "base_uri": "https://localhost:8080/"
    },
    "id": "M0tSFZ5Se4mb",
    "outputId": "e46c9121-0b9f-4c49-da0a-ba4a9d6aee62"
   },
   "outputs": [
    {
     "ename": "NameError",
     "evalue": "name 'names' is not defined",
     "output_type": "error",
     "traceback": [
      "\u001b[1;31m---------------------------------------------------------------------------\u001b[0m",
      "\u001b[1;31mNameError\u001b[0m                                 Traceback (most recent call last)",
      "Cell \u001b[1;32mIn[1], line 1\u001b[0m\n\u001b[1;32m----> 1\u001b[0m \u001b[38;5;28;01mif\u001b[39;00m names:\n\u001b[0;32m      2\u001b[0m     \u001b[38;5;28mprint\u001b[39m(\u001b[38;5;124m\"\u001b[39m\u001b[38;5;124mHere is the list of names: \u001b[39m\u001b[38;5;124m\"\u001b[39m, names)\n\u001b[0;32m      3\u001b[0m \u001b[38;5;28;01melse\u001b[39;00m:\n",
      "\u001b[1;31mNameError\u001b[0m: name 'names' is not defined"
     ]
    }
   ],
   "source": [
    "if names:\n",
    "    print(\"Here is the list of names: \", names)\n",
    "else:\n",
    "    print(\"you are so lazy\")"
   ]
  },
  {
   "cell_type": "code",
   "execution_count": 2,
   "metadata": {
    "colab": {
     "base_uri": "https://localhost:8080/"
    },
    "id": "72KBqlxWe4mb",
    "outputId": "0775cb98-46c5-487a-c216-b567659fc753"
   },
   "outputs": [
    {
     "name": "stdout",
     "output_type": "stream",
     "text": [
      "23 // 5 = 4\n",
      "4\n"
     ]
    }
   ],
   "source": [
    "a = 23\n",
    "b = 5\n",
    "c = a\n",
    "i = 0\n",
    "while c > b:\n",
    "    c -= b\n",
    "    i += 1\n",
    "\n",
    "print(\"{} // {} = {}\".format(a, b, i))\n",
    "print(23 // 5)"
   ]
  },
  {
   "cell_type": "markdown",
   "metadata": {
    "id": "si8uJ6Xpe4mb"
   },
   "source": [
    "**FOR**\n",
    "\n",
    "In Python, the `for` loop is over a \"sequence\":\n",
    "\n",
    "    for <name> in <sequence>:\n",
    "        <block>"
   ]
  },
  {
   "cell_type": "code",
   "execution_count": 67,
   "metadata": {
    "colab": {
     "base_uri": "https://localhost:8080/"
    },
    "id": "DekLUwuje4mb",
    "outputId": "548c93c6-a856-4b07-cf10-a12f3d4aa4eb"
   },
   "outputs": [
    {
     "name": "stdout",
     "output_type": "stream",
     "text": [
      "Luis\n",
      "Ece\n",
      "Rita\n"
     ]
    }
   ],
   "source": [
    "students = ['Luis', \"Ece\", \"Rita\"]\n",
    "\n",
    "for st in students:\n",
    "    print(st)"
   ]
  },
  {
   "cell_type": "markdown",
   "metadata": {
    "id": "fhDI7gPJe4mb"
   },
   "source": [
    "We can also loop over strings, tuples, or dictionaries:"
   ]
  },
  {
   "cell_type": "code",
   "execution_count": 30,
   "metadata": {
    "colab": {
     "base_uri": "https://localhost:8080/"
    },
    "id": "jVKmD7bIe4mb",
    "outputId": "2bb949d4-d33b-4de7-8c53-b88b3ad54039"
   },
   "outputs": [
    {
     "name": "stdout",
     "output_type": "stream",
     "text": [
      "N\n",
      "i\n",
      "c\n",
      "e\n",
      " \n",
      "d\n",
      "a\n",
      "y\n"
     ]
    }
   ],
   "source": [
    "for c in \"Nice day\":\n",
    "    print(c)"
   ]
  },
  {
   "cell_type": "code",
   "execution_count": 69,
   "metadata": {
    "colab": {
     "base_uri": "https://localhost:8080/"
    },
    "id": "Jw8qVN_we4mb",
    "outputId": "e61df240-f533-4b0c-e4bd-9a719db53b6e"
   },
   "outputs": [
    {
     "name": "stdout",
     "output_type": "stream",
     "text": [
      "a\n",
      "b\n",
      "3\n"
     ]
    }
   ],
   "source": [
    "for x in (\"a\", \"b\", 3):\n",
    "    print(x)"
   ]
  },
  {
   "cell_type": "code",
   "execution_count": 70,
   "metadata": {
    "colab": {
     "base_uri": "https://localhost:8080/"
    },
    "id": "-93AvRn-e4mb",
    "outputId": "fd330126-d9b6-44e1-b885-a91b7bf14eb4"
   },
   "outputs": [
    {
     "name": "stdout",
     "output_type": "stream",
     "text": [
      "Luis luis@iscte-iul.pt\n",
      "Rita rita@gmail.com\n",
      "Pedro pedro@gmail.com\n"
     ]
    }
   ],
   "source": [
    "for n in emails:\n",
    "    print(n, emails[n])"
   ]
  },
  {
   "cell_type": "markdown",
   "metadata": {
    "id": "1o4YoAAfe4mc"
   },
   "source": [
    "In many other languages, for loops are over integers (0, 1, 2, ... , N). How can we achieve the same in Python?"
   ]
  },
  {
   "cell_type": "code",
   "execution_count": 71,
   "metadata": {
    "colab": {
     "base_uri": "https://localhost:8080/"
    },
    "id": "5uiypjCEe4mc",
    "outputId": "36eb8747-e572-4f61-c3c5-40d060b6ff88"
   },
   "outputs": [
    {
     "data": {
      "text/plain": [
       "range(0, 5)"
      ]
     },
     "execution_count": 71,
     "metadata": {},
     "output_type": "execute_result"
    }
   ],
   "source": [
    "range(5)"
   ]
  },
  {
   "cell_type": "code",
   "execution_count": 72,
   "metadata": {
    "colab": {
     "base_uri": "https://localhost:8080/"
    },
    "id": "nvfnpC5Ie4mc",
    "outputId": "0a70bf90-c610-4d59-fd68-38789f816d0a"
   },
   "outputs": [
    {
     "name": "stdout",
     "output_type": "stream",
     "text": [
      "0 0\n",
      "1 1\n",
      "2 4\n",
      "3 9\n",
      "4 16\n"
     ]
    }
   ],
   "source": [
    "for i in range(5):\n",
    "    print(i, i**2)"
   ]
  },
  {
   "cell_type": "code",
   "execution_count": 73,
   "metadata": {
    "colab": {
     "base_uri": "https://localhost:8080/"
    },
    "id": "8oYx-a-ne4mc",
    "outputId": "21f876bf-6d0c-4e74-9b5b-cb94ec19d312"
   },
   "outputs": [
    {
     "name": "stdout",
     "output_type": "stream",
     "text": [
      "5 25\n",
      "6 36\n",
      "7 49\n",
      "8 64\n",
      "9 81\n"
     ]
    }
   ],
   "source": [
    "for i in range(5,10):\n",
    "    print(i, i**2)"
   ]
  },
  {
   "cell_type": "markdown",
   "metadata": {
    "id": "vtXJPxTfe4mc"
   },
   "source": [
    "**BREAK** and **CONTINUE**\n",
    "\n",
    "Like in other languages, in a loop `break` exits the loop and `continue` goes to the next iteration immediately:"
   ]
  },
  {
   "cell_type": "code",
   "execution_count": 74,
   "metadata": {
    "colab": {
     "base_uri": "https://localhost:8080/"
    },
    "id": "f4I96I9de4mc",
    "outputId": "862a5afd-5f52-4e25-beec-9ed207c79b73"
   },
   "outputs": [
    {
     "data": {
      "text/plain": [
       "3.0"
      ]
     },
     "execution_count": 74,
     "metadata": {},
     "output_type": "execute_result"
    }
   ],
   "source": [
    "numbers = [1, 6, -13, -4, 2]\n",
    "\n",
    "total = 0\n",
    "n = 0.0\n",
    "\n",
    "for v in numbers:\n",
    "    if v < 0:\n",
    "        continue\n",
    "    total = total + v\n",
    "    n += 1\n",
    "total/n"
   ]
  },
  {
   "cell_type": "markdown",
   "metadata": {
    "id": "umBXHKlte4mc"
   },
   "source": [
    "## 1.4 FUNCTIONS"
   ]
  },
  {
   "cell_type": "code",
   "execution_count": 3,
   "metadata": {
    "colab": {
     "base_uri": "https://localhost:8080/"
    },
    "id": "KK3bW0ZTe4mc",
    "outputId": "3f4e9528-7e9e-4ce6-f632-1721cec30005"
   },
   "outputs": [
    {
     "name": "stdout",
     "output_type": "stream",
     "text": [
      "6\n"
     ]
    }
   ],
   "source": [
    "def double(x):\n",
    "    \"\"\"\n",
    "    Returns the double of its argument\n",
    "    \"\"\"\n",
    "    return 2 * x\n",
    "\n",
    "print(double(3))"
   ]
  },
  {
   "cell_type": "markdown",
   "metadata": {
    "id": "mI1kz_ele4mc"
   },
   "source": [
    "Is that a comment?<br>\n",
    "It's a documentation string.<br>\n",
    "Try `double?`"
   ]
  },
  {
   "cell_type": "code",
   "execution_count": 4,
   "metadata": {
    "id": "2R3lRBOje4mc"
   },
   "outputs": [
    {
     "data": {
      "text/plain": [
       "\u001b[1;31mSignature:\u001b[0m \u001b[0mdouble\u001b[0m\u001b[1;33m(\u001b[0m\u001b[0mx\u001b[0m\u001b[1;33m)\u001b[0m\u001b[1;33m\u001b[0m\u001b[1;33m\u001b[0m\u001b[0m\n",
       "\u001b[1;31mDocstring:\u001b[0m Returns the double of its argument\n",
       "\u001b[1;31mFile:\u001b[0m      c:\\users\\ruimc\\appdata\\local\\temp\\ipykernel_29912\\1339562963.py\n",
       "\u001b[1;31mType:\u001b[0m      function"
      ]
     },
     "metadata": {},
     "output_type": "display_data"
    }
   ],
   "source": [
    "double?"
   ]
  },
  {
   "cell_type": "markdown",
   "metadata": {
    "id": "2-CQYtmBe4mc"
   },
   "source": [
    "Calling a function"
   ]
  },
  {
   "cell_type": "code",
   "execution_count": 5,
   "metadata": {
    "colab": {
     "base_uri": "https://localhost:8080/"
    },
    "id": "UesKkDaBe4mc",
    "outputId": "4f795a4b-f666-428a-954e-fc9121cc5a34"
   },
   "outputs": [
    {
     "data": {
      "text/plain": [
       "8"
      ]
     },
     "execution_count": 5,
     "metadata": {},
     "output_type": "execute_result"
    }
   ],
   "source": [
    "a = 4\n",
    "double(a)"
   ]
  },
  {
   "cell_type": "code",
   "execution_count": 6,
   "metadata": {
    "colab": {
     "base_uri": "https://localhost:8080/"
    },
    "id": "admKZ-WZe4mc",
    "outputId": "c1c4813e-75c0-4143-92ef-d340d8e3de3c"
   },
   "outputs": [
    {
     "data": {
      "text/plain": [
       "4.6"
      ]
     },
     "execution_count": 6,
     "metadata": {},
     "output_type": "execute_result"
    }
   ],
   "source": [
    "b = double(2.3)\n",
    "b"
   ]
  },
  {
   "cell_type": "code",
   "execution_count": 7,
   "metadata": {
    "colab": {
     "base_uri": "https://localhost:8080/"
    },
    "id": "IHfmJVrXe4mc",
    "outputId": "a2e5e3cf-e2cb-4f4f-9beb-7110110fe4ff"
   },
   "outputs": [
    {
     "data": {
      "text/plain": [
       "16"
      ]
     },
     "execution_count": 7,
     "metadata": {},
     "output_type": "execute_result"
    }
   ],
   "source": [
    "c = double(double(a))\n",
    "c"
   ]
  },
  {
   "cell_type": "markdown",
   "metadata": {
    "id": "e3JA2d3Ze4mc"
   },
   "source": [
    "... functions that do not return anything are usually referred as *procedures* ...."
   ]
  },
  {
   "cell_type": "code",
   "execution_count": 8,
   "metadata": {
    "colab": {
     "base_uri": "https://localhost:8080/"
    },
    "id": "2LMlcrHee4mc",
    "outputId": "91a72f4f-91d3-45ea-bd5d-d874f2db2109"
   },
   "outputs": [
    {
     "name": "stdout",
     "output_type": "stream",
     "text": [
      "Hello Mario\n",
      "Goodbye Mario\n"
     ]
    }
   ],
   "source": [
    "def greet(name, greeting = \"Hello\"):\n",
    "    print(\"{} {}\".format(greeting, name))\n",
    "\n",
    "greet(\"Mario\")\n",
    "greet(\"Mario\", \"Goodbye\")"
   ]
  },
  {
   "cell_type": "markdown",
   "metadata": {
    "id": "Non0-FvXe4md"
   },
   "source": [
    "... you can also specify the argument names (and then the order does not matter):"
   ]
  },
  {
   "cell_type": "code",
   "execution_count": 9,
   "metadata": {
    "colab": {
     "base_uri": "https://localhost:8080/"
    },
    "id": "RUv8nfcPe4md",
    "outputId": "fdea470e-79e1-40d9-c84d-87c121285e96"
   },
   "outputs": [
    {
     "name": "stdout",
     "output_type": "stream",
     "text": [
      "Howdy Mario\n"
     ]
    }
   ],
   "source": [
    "greet(greeting = \"Howdy\", name = \"Mario\")"
   ]
  },
  {
   "cell_type": "markdown",
   "metadata": {
    "id": "JZE5PpFae4md"
   },
   "source": [
    "This is very helpful for functions with >10 arguments!"
   ]
  },
  {
   "cell_type": "markdown",
   "metadata": {},
   "source": [
    "## 1.5 CLASSES and OBJECTS"
   ]
  },
  {
   "cell_type": "markdown",
   "metadata": {},
   "source": [
    "Let us create a class"
   ]
  },
  {
   "cell_type": "code",
   "execution_count": 2,
   "metadata": {},
   "outputs": [],
   "source": [
    "class MyClass:\n",
    "  x = 5"
   ]
  },
  {
   "cell_type": "markdown",
   "metadata": {},
   "source": [
    "We can use this class to create objects"
   ]
  },
  {
   "cell_type": "code",
   "execution_count": 3,
   "metadata": {},
   "outputs": [
    {
     "name": "stdout",
     "output_type": "stream",
     "text": [
      "5\n"
     ]
    }
   ],
   "source": [
    "p1 = MyClass()\n",
    "print(p1.x) "
   ]
  },
  {
   "cell_type": "markdown",
   "metadata": {},
   "source": [
    "Essential information on the behaviors of a class:\n",
    "- \\_\\_init\\_\\_() is executed when the class is instantiated, useful to initialize its state (variables)\n",
    "- an arbitrary number of methods can be defined to access and modify the state of objects\n",
    "- \\_\\_str\\_\\_() creates a string representation of the object\n",
    "\n",
    "The *self* parameter is a reference to the current instance of the class and used to access its variables"
   ]
  },
  {
   "cell_type": "code",
   "execution_count": 4,
   "metadata": {},
   "outputs": [
    {
     "name": "stdout",
     "output_type": "stream",
     "text": [
      "John(37)\n"
     ]
    }
   ],
   "source": [
    "class Person:\n",
    "  def __init__(self, name, age):\n",
    "    self.name = name\n",
    "    self.age = age\n",
    "\n",
    "  def update_age(self):\n",
    "    self.age = self.age + 1\n",
    "      \n",
    "  def __str__(self):\n",
    "    return f\"{self.name}({self.age})\"\n",
    "\n",
    "p1 = Person(\"John\", 36)\n",
    "p1.update_age()\n",
    "print(p1) "
   ]
  }
 ],
 "metadata": {
  "celltoolbar": "Slideshow",
  "colab": {
   "provenance": []
  },
  "kernelspec": {
   "display_name": "Python 3 (ipykernel)",
   "language": "python",
   "name": "python3"
  },
  "language_info": {
   "codemirror_mode": {
    "name": "ipython",
    "version": 3
   },
   "file_extension": ".py",
   "mimetype": "text/x-python",
   "name": "python",
   "nbconvert_exporter": "python",
   "pygments_lexer": "ipython3",
   "version": "3.12.4"
  },
  "rise": {
   "scroll": true
  },
  "toc-autonumbering": false,
  "toc-showtags": false
 },
 "nbformat": 4,
 "nbformat_minor": 4
}
