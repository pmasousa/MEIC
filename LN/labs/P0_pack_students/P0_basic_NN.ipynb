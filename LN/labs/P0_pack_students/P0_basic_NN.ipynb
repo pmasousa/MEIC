{
  "cells": [
    {
      "cell_type": "markdown",
      "metadata": {
        "id": "gXopuXBKfq_s"
      },
      "source": [
        "# From a perceptron to a simple Feedforward neural network (FFNN)\n",
        "\n",
        "Check the following code. Play with the hyperparameters (parameters manually set before training)."
      ]
    },
    {
      "cell_type": "markdown",
      "metadata": {
        "id": "mRjOJWO_EfoB"
      },
      "source": [
        "# 1- Perceptron\n",
        "\n",
        "Can it learn the function x = x + 1?"
      ]
    },
    {
      "cell_type": "code",
      "execution_count": 1,
      "metadata": {
        "id": "cUQtidPc2MLW"
      },
      "outputs": [],
      "source": [
        "# Load numpy library for efficient handle of vector operations\n",
        "import numpy as np\n",
        "np.random.seed(0) # check why we (sometimes) do this"
      ]
    },
    {
      "cell_type": "code",
      "source": [
        "# Define the training data\n",
        "X_train = np.array([0, 1, 4]) # x (input 0, 1, 4)\n",
        "Y_train = np.array([1, 2, 5]) # x + 1 (shoul return 1, 2 and 5)\n",
        "\n",
        "# Initialize weights and bias\n",
        "w = 0.5\n",
        "b = 0.5\n",
        "\n",
        "# Set the learning rate\n",
        "learning_rate = 0.1\n",
        "\n",
        "# Number of epochs\n",
        "epochs = 10"
      ],
      "metadata": {
        "id": "W9aE96IIL5hA"
      },
      "execution_count": 2,
      "outputs": []
    },
    {
      "cell_type": "code",
      "source": [
        "# Training loop\n",
        "def training_loop(X_train, Y_train, epochs, learning_rate, w, b):\n",
        " for epoch in range(epochs):\n",
        "    # zip: combines two sequences into pairs\n",
        "    for x, y in zip(X_train, Y_train):\n",
        "        # Forward pass\n",
        "        y_pred = w * x + b\n",
        "\n",
        "        # Compute error\n",
        "        error = y - y_pred\n",
        "\n",
        "        # Update weights and bias\n",
        "        w += learning_rate * error * x\n",
        "        b += learning_rate * error\n",
        "\n",
        " return w, b"
      ],
      "metadata": {
        "id": "j-BCs82PL8EB"
      },
      "execution_count": 3,
      "outputs": []
    },
    {
      "cell_type": "code",
      "source": [
        "# Testing\n",
        "w, b = training_loop(X_train, Y_train, epochs, learning_rate, w, b)\n",
        "x_test = 15\n",
        "y_pred_test = w * x_test + b\n",
        "\n",
        "print(\"Predicted output for x =\", x_test, \"is:\", y_pred_test)"
      ],
      "metadata": {
        "colab": {
          "base_uri": "https://localhost:8080/"
        },
        "id": "TmOsFvAFMnZO",
        "outputId": "ef8b7e8b-e9ac-4a88-9e35-9ff5d5b10c79"
      },
      "execution_count": 4,
      "outputs": [
        {
          "output_type": "stream",
          "name": "stdout",
          "text": [
            "Predicted output for x = 15 is: 16.08576748219717\n"
          ]
        }
      ]
    },
    {
      "cell_type": "code",
      "source": [
        "# If you want to play with a larger dataset\n",
        "X_train = np.random.rand(100,1)\n",
        "Y_train = [x[0]+1 for x in X_train]\n"
      ],
      "metadata": {
        "id": "xTHITSVScQ-P"
      },
      "execution_count": 5,
      "outputs": []
    },
    {
      "cell_type": "code",
      "source": [
        "# Second Training\n",
        "w, b = training_loop(X_train, Y_train, epochs, learning_rate, w, b)"
      ],
      "metadata": {
        "id": "-7G32xaYaN9z"
      },
      "execution_count": 6,
      "outputs": []
    },
    {
      "cell_type": "code",
      "source": [
        "# Test\n",
        "x_test = 15\n",
        "y_pred_test = w * x_test + b\n",
        "\n",
        "print(\"Predicted output for x =\", x_test, \"is:\", y_pred_test)"
      ],
      "metadata": {
        "colab": {
          "base_uri": "https://localhost:8080/"
        },
        "id": "ZxZA-OjVaVX0",
        "outputId": "a7500888-a1d6-450c-cc42-d83ae2c72770"
      },
      "execution_count": 7,
      "outputs": [
        {
          "output_type": "stream",
          "name": "stdout",
          "text": [
            "Predicted output for x = 15 is: [16.00076173]\n"
          ]
        }
      ]
    },
    {
      "cell_type": "markdown",
      "metadata": {
        "id": "aUSmsTMiEqAy"
      },
      "source": [
        "## 2- Simple Feedforward Neural Network\n",
        "\n",
        "Can it learn the function x + y?"
      ]
    },
    {
      "cell_type": "code",
      "execution_count": 19,
      "metadata": {
        "id": "h5mr8kIoYSJG"
      },
      "outputs": [],
      "source": [
        "class SimpleFFNN:\n",
        "    def __init__(self, layer_sizes):\n",
        "        # layer_sizes example: [2, 5, 3, 1] where 2 is input size, 5 and 3 are hidden sizes, and 1 is output size\n",
        "        self.layer_sizes = layer_sizes\n",
        "        self.weights = []\n",
        "        self.biases = []\n",
        "        self.activations = []\n",
        "\n",
        "        # Initialize weights and biases for each layer\n",
        "        for i in range(len(layer_sizes) - 1):\n",
        "            self.weights.append(np.random.randn(layer_sizes[i], layer_sizes[i + 1]))\n",
        "            self.biases.append(np.random.randn(layer_sizes[i + 1]))\n",
        "        print(self.weights)\n",
        "\n",
        "    def sigmoid(self, x):\n",
        "        return 1 / (1 + np.exp(-x))\n",
        "\n",
        "    def sigmoid_derivative(self, x):\n",
        "        return x * (1 - x)\n",
        "\n",
        "    def forward(self, x):\n",
        "        self.activations = [x]\n",
        "        # Compute activations for each layer\n",
        "        for i in range(len(self.weights)):\n",
        "            if i == len(self.weights) - 1:  # Last layer (output)\n",
        "                x = np.dot(x, self.weights[i]) + self.biases[i]  # No sigmoid\n",
        "            else:  # Hidden layers\n",
        "                x = self.sigmoid(np.dot(x, self.weights[i]) + self.biases[i])\n",
        "            self.activations.append(x)\n",
        "        return x\n",
        "\n",
        "    def train(self, x, y, epochs, learning_rate):\n",
        "        for epoch in range(epochs):\n",
        "            for i in range(x.shape[0]):\n",
        "                # Forward pass\n",
        "                output = self.forward(x[i])\n",
        "\n",
        "                # Calculate error\n",
        "                errors = [y[i] - output]\n",
        "\n",
        "                # Calculate errors for each layer\n",
        "                for l in range(len(self.weights) - 1, 0, -1):\n",
        "                    error = errors[0].dot(self.weights[l].T)\n",
        "                    errors.insert(0, error)\n",
        "\n",
        "                # Update weights and biases from output to input layer\n",
        "                for j in range(len(self.weights)):\n",
        "                    if j == len(self.weights) - 1:  # Last layer (output)\n",
        "                        d_activations = errors[j]\n",
        "                    else:  # Hidden layers\n",
        "                        d_activations = errors[j] * self.sigmoid_derivative(self.activations[j + 1])\n",
        "                    self.weights[j] += np.outer(self.activations[j], d_activations) * learning_rate\n",
        "                    self.biases[j] += d_activations * learning_rate\n",
        "\n",
        "            if epoch % 20 == 0:\n",
        "                loss = np.mean(np.square(y - self.forward(x)))\n",
        "                print(f'Epoch {epoch}, Loss {loss}')\n"
      ]
    },
    {
      "cell_type": "markdown",
      "metadata": {
        "id": "OvSy4XqlelgQ"
      },
      "source": [
        "## 2.1 Data and hyperparameters\n"
      ]
    },
    {
      "cell_type": "code",
      "execution_count": 20,
      "metadata": {
        "id": "EEwCNhrGep62"
      },
      "outputs": [],
      "source": [
        "# Data generation\n",
        "np.random.seed(0)\n",
        "x = np.random.rand(5000, 2)\n",
        "y = np.sum(x, axis=1).reshape(-1, 1)\n",
        "\n",
        "# Hyperparameters\n",
        "epochs = 100\n",
        "learning_rate = 0.01"
      ]
    },
    {
      "cell_type": "markdown",
      "metadata": {
        "id": "36GTybPNeJZm"
      },
      "source": [
        "## 2.2 One hidden layer"
      ]
    },
    {
      "cell_type": "code",
      "execution_count": 13,
      "metadata": {
        "id": "gmTFD-0Bc-Mp",
        "colab": {
          "base_uri": "https://localhost:8080/"
        },
        "outputId": "b6fb2c98-a84d-4581-8e66-cf8772eac531"
      },
      "outputs": [
        {
          "output_type": "stream",
          "name": "stdout",
          "text": [
            "[array([[-0.72582032,  0.56347552, -0.43563209, -0.10455255, -2.32127283],\n",
            "       [-0.21409437,  0.54340543, -0.5374541 , -0.38027534,  0.26547293]]), array([[9.15340020e-01],\n",
            "       [7.68111362e-01],\n",
            "       [1.01634801e-01],\n",
            "       [8.09442102e-01],\n",
            "       [4.55643468e-04]])]\n",
            "Epoch 0, Loss 0.03137546109500572\n",
            "Epoch 20, Loss 0.0003176648484288051\n",
            "Epoch 40, Loss 0.0001492236641122185\n",
            "Epoch 60, Loss 8.928305402009988e-05\n",
            "Epoch 80, Loss 6.193299576284078e-05\n"
          ]
        }
      ],
      "source": [
        "# Initialize and train the network\n",
        "layer_sizes = [2, 5, 1] # input, hidden and output sizes\n",
        "model = SimpleFFNN(layer_sizes)\n",
        "model.train(x, y, epochs, learning_rate)"
      ]
    },
    {
      "cell_type": "code",
      "source": [
        "# Test the model\n",
        "test_input = np.array([[0.1, 0.2]])\n",
        "predicted_sum = model.forward(test_input)\n",
        "print(f\"Test Input: {test_input}, Predicted Sum: {predicted_sum}\")"
      ],
      "metadata": {
        "colab": {
          "base_uri": "https://localhost:8080/"
        },
        "id": "Myp9uIYNNWum",
        "outputId": "24d48189-2bfb-4aaf-e3de-2da89fd4b78d"
      },
      "execution_count": 16,
      "outputs": [
        {
          "output_type": "stream",
          "name": "stdout",
          "text": [
            "Test Input: [[0.1 0.2]], Predicted Sum: [[0.30252436]]\n"
          ]
        }
      ]
    },
    {
      "cell_type": "markdown",
      "metadata": {
        "id": "QeL9N7UzJay8"
      },
      "source": [
        "## 2.3 More than one hidden layer"
      ]
    },
    {
      "cell_type": "code",
      "execution_count": 17,
      "metadata": {
        "id": "L_hO9APoYZGv",
        "colab": {
          "base_uri": "https://localhost:8080/"
        },
        "outputId": "88128d73-4f7e-49f4-ffee-44da0c69b600"
      },
      "outputs": [
        {
          "output_type": "stream",
          "name": "stdout",
          "text": [
            "[array([[-0.51881837, -0.78472602, -1.00429289, -0.07074956, -1.53699731],\n",
            "       [-0.88115275, -0.90419757,  0.70402685,  1.19906028,  1.83767085]]), array([[ 0.39754008,  1.74940884,  1.72387824],\n",
            "       [-1.32819827,  0.1908318 , -0.85504792],\n",
            "       [ 0.14361984, -0.33082967,  0.13471032],\n",
            "       [-0.59819425, -0.90361563,  0.84485094],\n",
            "       [-0.59842614, -0.39716271, -0.19786197]]), array([[-0.56391728],\n",
            "       [ 0.04603699],\n",
            "       [-1.90700442]])]\n",
            "Epoch 0, Loss 0.02261552875223575\n",
            "Epoch 20, Loss 0.0007230334075234665\n",
            "Epoch 40, Loss 0.0003807215902071204\n",
            "Epoch 60, Loss 0.00022640420236578348\n",
            "Epoch 80, Loss 0.00013607068607258846\n"
          ]
        }
      ],
      "source": [
        "layer_sizes = [2, 5, 3, 1]  # Input layer, two hidden layers, output layer\n",
        "model = SimpleFFNN(layer_sizes)\n",
        "model.train(x, y, epochs=100, learning_rate=0.01)"
      ]
    },
    {
      "cell_type": "code",
      "source": [
        "# Testing\n",
        "test_input = np.array([[0.1, 0.2]])\n",
        "predicted_sum = model.forward(test_input)\n",
        "print(f\"Test Input: {test_input}, Predicted Sum: {predicted_sum}\")\n"
      ],
      "metadata": {
        "colab": {
          "base_uri": "https://localhost:8080/"
        },
        "id": "jViqG2E4Nj8-",
        "outputId": "d7dc9a37-c295-4a80-c1a5-72cc2f21907d"
      },
      "execution_count": 18,
      "outputs": [
        {
          "output_type": "stream",
          "name": "stdout",
          "text": [
            "Test Input: [[0.1 0.2]], Predicted Sum: [[0.30206861]]\n"
          ]
        }
      ]
    }
  ],
  "metadata": {
    "colab": {
      "provenance": [],
      "toc_visible": true
    },
    "kernelspec": {
      "display_name": "base",
      "language": "python",
      "name": "python3"
    },
    "language_info": {
      "codemirror_mode": {
        "name": "ipython",
        "version": 3
      },
      "file_extension": ".py",
      "mimetype": "text/x-python",
      "name": "python",
      "nbconvert_exporter": "python",
      "pygments_lexer": "ipython3",
      "version": "3.7.1"
    }
  },
  "nbformat": 4,
  "nbformat_minor": 0
}