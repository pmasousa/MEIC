{
  "cells": [
    {
      "cell_type": "markdown",
      "source": [
        "This notebook is inspired by a much more complete notebook provided by Rui Henriques (thank you!).\n",
        "\n",
        "All the mistakes are on me (Luísa)."
      ],
      "metadata": {
        "id": "0CHsvJv0JlaM"
      },
      "id": "0CHsvJv0JlaM"
    },
    {
      "cell_type": "markdown",
      "id": "9b6cb258-9b68-4bb2-93e3-179d8ec0905e",
      "metadata": {
        "id": "9b6cb258-9b68-4bb2-93e3-179d8ec0905e"
      },
      "source": [
        "# 1. Enriching the Dataset"
      ]
    },
    {
      "cell_type": "markdown",
      "source": [
        "## 1.1 Imports"
      ],
      "metadata": {
        "id": "YhtY2j8KCZnZ"
      },
      "id": "YhtY2j8KCZnZ"
    },
    {
      "cell_type": "code",
      "execution_count": 1,
      "id": "dc224f97-d71b-472d-88e6-c9d18aab4173",
      "metadata": {
        "id": "dc224f97-d71b-472d-88e6-c9d18aab4173"
      },
      "outputs": [],
      "source": [
        "# What do we need:\n",
        "# - pandas for data handling\n",
        "# - numpy for numerical computing\n",
        "# - matplotlib.pyplot for plotting\n",
        "# - scipy (built on top of numpy) provides specialized scientific algorithms\n",
        "import pandas as pd, numpy as np\n",
        "import matplotlib.pyplot as plt\n",
        "import scipy"
      ]
    },
    {
      "cell_type": "markdown",
      "id": "43c22a9a-969f-4cbe-8736-6769f8b21afa",
      "metadata": {
        "id": "43c22a9a-969f-4cbe-8736-6769f8b21afa"
      },
      "source": [
        "## 1.2 Read data\n",
        "\n",
        "Let us use a dataset on fragrance reviews sold by Amazon, adapted some years ago for the NL project"
      ]
    },
    {
      "cell_type": "code",
      "execution_count": 3,
      "id": "472fc931-1501-499a-8136-ce9b320b8cf0",
      "metadata": {
        "colab": {
          "base_uri": "https://localhost:8080/",
          "height": 204
        },
        "id": "472fc931-1501-499a-8136-ce9b320b8cf0",
        "outputId": "0f950537-c7ee-47ba-ea9d-b7a786aee20c"
      },
      "outputs": [
        {
          "output_type": "execute_result",
          "data": {
            "text/plain": [
              "             eval                                    review\n",
              "0        VeryGood                          Stamp and Scrape\n",
              "1  Unsatisfactory  Did not even tingle for ant aging effect\n",
              "2        VeryGood                           Well, I like it\n",
              "3       Excellent        Much better than what I was using.\n",
              "4  Unsatisfactory        Disappointed with Usage and Dosage"
            ],
            "text/html": [
              "\n",
              "  <div id=\"df-d5561d71-db71-44bd-820b-1dfdc183d532\" class=\"colab-df-container\">\n",
              "    <div>\n",
              "<style scoped>\n",
              "    .dataframe tbody tr th:only-of-type {\n",
              "        vertical-align: middle;\n",
              "    }\n",
              "\n",
              "    .dataframe tbody tr th {\n",
              "        vertical-align: top;\n",
              "    }\n",
              "\n",
              "    .dataframe thead th {\n",
              "        text-align: right;\n",
              "    }\n",
              "</style>\n",
              "<table border=\"1\" class=\"dataframe\">\n",
              "  <thead>\n",
              "    <tr style=\"text-align: right;\">\n",
              "      <th></th>\n",
              "      <th>eval</th>\n",
              "      <th>review</th>\n",
              "    </tr>\n",
              "  </thead>\n",
              "  <tbody>\n",
              "    <tr>\n",
              "      <th>0</th>\n",
              "      <td>VeryGood</td>\n",
              "      <td>Stamp and Scrape</td>\n",
              "    </tr>\n",
              "    <tr>\n",
              "      <th>1</th>\n",
              "      <td>Unsatisfactory</td>\n",
              "      <td>Did not even tingle for ant aging effect</td>\n",
              "    </tr>\n",
              "    <tr>\n",
              "      <th>2</th>\n",
              "      <td>VeryGood</td>\n",
              "      <td>Well, I like it</td>\n",
              "    </tr>\n",
              "    <tr>\n",
              "      <th>3</th>\n",
              "      <td>Excellent</td>\n",
              "      <td>Much better than what I was using.</td>\n",
              "    </tr>\n",
              "    <tr>\n",
              "      <th>4</th>\n",
              "      <td>Unsatisfactory</td>\n",
              "      <td>Disappointed with Usage and Dosage</td>\n",
              "    </tr>\n",
              "  </tbody>\n",
              "</table>\n",
              "</div>\n",
              "    <div class=\"colab-df-buttons\">\n",
              "\n",
              "  <div class=\"colab-df-container\">\n",
              "    <button class=\"colab-df-convert\" onclick=\"convertToInteractive('df-d5561d71-db71-44bd-820b-1dfdc183d532')\"\n",
              "            title=\"Convert this dataframe to an interactive table.\"\n",
              "            style=\"display:none;\">\n",
              "\n",
              "  <svg xmlns=\"http://www.w3.org/2000/svg\" height=\"24px\" viewBox=\"0 -960 960 960\">\n",
              "    <path d=\"M120-120v-720h720v720H120Zm60-500h600v-160H180v160Zm220 220h160v-160H400v160Zm0 220h160v-160H400v160ZM180-400h160v-160H180v160Zm440 0h160v-160H620v160ZM180-180h160v-160H180v160Zm440 0h160v-160H620v160Z\"/>\n",
              "  </svg>\n",
              "    </button>\n",
              "\n",
              "  <style>\n",
              "    .colab-df-container {\n",
              "      display:flex;\n",
              "      gap: 12px;\n",
              "    }\n",
              "\n",
              "    .colab-df-convert {\n",
              "      background-color: #E8F0FE;\n",
              "      border: none;\n",
              "      border-radius: 50%;\n",
              "      cursor: pointer;\n",
              "      display: none;\n",
              "      fill: #1967D2;\n",
              "      height: 32px;\n",
              "      padding: 0 0 0 0;\n",
              "      width: 32px;\n",
              "    }\n",
              "\n",
              "    .colab-df-convert:hover {\n",
              "      background-color: #E2EBFA;\n",
              "      box-shadow: 0px 1px 2px rgba(60, 64, 67, 0.3), 0px 1px 3px 1px rgba(60, 64, 67, 0.15);\n",
              "      fill: #174EA6;\n",
              "    }\n",
              "\n",
              "    .colab-df-buttons div {\n",
              "      margin-bottom: 4px;\n",
              "    }\n",
              "\n",
              "    [theme=dark] .colab-df-convert {\n",
              "      background-color: #3B4455;\n",
              "      fill: #D2E3FC;\n",
              "    }\n",
              "\n",
              "    [theme=dark] .colab-df-convert:hover {\n",
              "      background-color: #434B5C;\n",
              "      box-shadow: 0px 1px 3px 1px rgba(0, 0, 0, 0.15);\n",
              "      filter: drop-shadow(0px 1px 2px rgba(0, 0, 0, 0.3));\n",
              "      fill: #FFFFFF;\n",
              "    }\n",
              "  </style>\n",
              "\n",
              "    <script>\n",
              "      const buttonEl =\n",
              "        document.querySelector('#df-d5561d71-db71-44bd-820b-1dfdc183d532 button.colab-df-convert');\n",
              "      buttonEl.style.display =\n",
              "        google.colab.kernel.accessAllowed ? 'block' : 'none';\n",
              "\n",
              "      async function convertToInteractive(key) {\n",
              "        const element = document.querySelector('#df-d5561d71-db71-44bd-820b-1dfdc183d532');\n",
              "        const dataTable =\n",
              "          await google.colab.kernel.invokeFunction('convertToInteractive',\n",
              "                                                    [key], {});\n",
              "        if (!dataTable) return;\n",
              "\n",
              "        const docLinkHtml = 'Like what you see? Visit the ' +\n",
              "          '<a target=\"_blank\" href=https://colab.research.google.com/notebooks/data_table.ipynb>data table notebook</a>'\n",
              "          + ' to learn more about interactive tables.';\n",
              "        element.innerHTML = '';\n",
              "        dataTable['output_type'] = 'display_data';\n",
              "        await google.colab.output.renderOutput(dataTable, element);\n",
              "        const docLink = document.createElement('div');\n",
              "        docLink.innerHTML = docLinkHtml;\n",
              "        element.appendChild(docLink);\n",
              "      }\n",
              "    </script>\n",
              "  </div>\n",
              "\n",
              "\n",
              "    <div id=\"df-9270929c-2947-41e5-859e-232db9c06af3\">\n",
              "      <button class=\"colab-df-quickchart\" onclick=\"quickchart('df-9270929c-2947-41e5-859e-232db9c06af3')\"\n",
              "                title=\"Suggest charts\"\n",
              "                style=\"display:none;\">\n",
              "\n",
              "<svg xmlns=\"http://www.w3.org/2000/svg\" height=\"24px\"viewBox=\"0 0 24 24\"\n",
              "     width=\"24px\">\n",
              "    <g>\n",
              "        <path d=\"M19 3H5c-1.1 0-2 .9-2 2v14c0 1.1.9 2 2 2h14c1.1 0 2-.9 2-2V5c0-1.1-.9-2-2-2zM9 17H7v-7h2v7zm4 0h-2V7h2v10zm4 0h-2v-4h2v4z\"/>\n",
              "    </g>\n",
              "</svg>\n",
              "      </button>\n",
              "\n",
              "<style>\n",
              "  .colab-df-quickchart {\n",
              "      --bg-color: #E8F0FE;\n",
              "      --fill-color: #1967D2;\n",
              "      --hover-bg-color: #E2EBFA;\n",
              "      --hover-fill-color: #174EA6;\n",
              "      --disabled-fill-color: #AAA;\n",
              "      --disabled-bg-color: #DDD;\n",
              "  }\n",
              "\n",
              "  [theme=dark] .colab-df-quickchart {\n",
              "      --bg-color: #3B4455;\n",
              "      --fill-color: #D2E3FC;\n",
              "      --hover-bg-color: #434B5C;\n",
              "      --hover-fill-color: #FFFFFF;\n",
              "      --disabled-bg-color: #3B4455;\n",
              "      --disabled-fill-color: #666;\n",
              "  }\n",
              "\n",
              "  .colab-df-quickchart {\n",
              "    background-color: var(--bg-color);\n",
              "    border: none;\n",
              "    border-radius: 50%;\n",
              "    cursor: pointer;\n",
              "    display: none;\n",
              "    fill: var(--fill-color);\n",
              "    height: 32px;\n",
              "    padding: 0;\n",
              "    width: 32px;\n",
              "  }\n",
              "\n",
              "  .colab-df-quickchart:hover {\n",
              "    background-color: var(--hover-bg-color);\n",
              "    box-shadow: 0 1px 2px rgba(60, 64, 67, 0.3), 0 1px 3px 1px rgba(60, 64, 67, 0.15);\n",
              "    fill: var(--button-hover-fill-color);\n",
              "  }\n",
              "\n",
              "  .colab-df-quickchart-complete:disabled,\n",
              "  .colab-df-quickchart-complete:disabled:hover {\n",
              "    background-color: var(--disabled-bg-color);\n",
              "    fill: var(--disabled-fill-color);\n",
              "    box-shadow: none;\n",
              "  }\n",
              "\n",
              "  .colab-df-spinner {\n",
              "    border: 2px solid var(--fill-color);\n",
              "    border-color: transparent;\n",
              "    border-bottom-color: var(--fill-color);\n",
              "    animation:\n",
              "      spin 1s steps(1) infinite;\n",
              "  }\n",
              "\n",
              "  @keyframes spin {\n",
              "    0% {\n",
              "      border-color: transparent;\n",
              "      border-bottom-color: var(--fill-color);\n",
              "      border-left-color: var(--fill-color);\n",
              "    }\n",
              "    20% {\n",
              "      border-color: transparent;\n",
              "      border-left-color: var(--fill-color);\n",
              "      border-top-color: var(--fill-color);\n",
              "    }\n",
              "    30% {\n",
              "      border-color: transparent;\n",
              "      border-left-color: var(--fill-color);\n",
              "      border-top-color: var(--fill-color);\n",
              "      border-right-color: var(--fill-color);\n",
              "    }\n",
              "    40% {\n",
              "      border-color: transparent;\n",
              "      border-right-color: var(--fill-color);\n",
              "      border-top-color: var(--fill-color);\n",
              "    }\n",
              "    60% {\n",
              "      border-color: transparent;\n",
              "      border-right-color: var(--fill-color);\n",
              "    }\n",
              "    80% {\n",
              "      border-color: transparent;\n",
              "      border-right-color: var(--fill-color);\n",
              "      border-bottom-color: var(--fill-color);\n",
              "    }\n",
              "    90% {\n",
              "      border-color: transparent;\n",
              "      border-bottom-color: var(--fill-color);\n",
              "    }\n",
              "  }\n",
              "</style>\n",
              "\n",
              "      <script>\n",
              "        async function quickchart(key) {\n",
              "          const quickchartButtonEl =\n",
              "            document.querySelector('#' + key + ' button');\n",
              "          quickchartButtonEl.disabled = true;  // To prevent multiple clicks.\n",
              "          quickchartButtonEl.classList.add('colab-df-spinner');\n",
              "          try {\n",
              "            const charts = await google.colab.kernel.invokeFunction(\n",
              "                'suggestCharts', [key], {});\n",
              "          } catch (error) {\n",
              "            console.error('Error during call to suggestCharts:', error);\n",
              "          }\n",
              "          quickchartButtonEl.classList.remove('colab-df-spinner');\n",
              "          quickchartButtonEl.classList.add('colab-df-quickchart-complete');\n",
              "        }\n",
              "        (() => {\n",
              "          let quickchartButtonEl =\n",
              "            document.querySelector('#df-9270929c-2947-41e5-859e-232db9c06af3 button');\n",
              "          quickchartButtonEl.style.display =\n",
              "            google.colab.kernel.accessAllowed ? 'block' : 'none';\n",
              "        })();\n",
              "      </script>\n",
              "    </div>\n",
              "\n",
              "    </div>\n",
              "  </div>\n"
            ],
            "application/vnd.google.colaboratory.intrinsic+json": {
              "type": "dataframe",
              "variable_name": "df",
              "summary": "{\n  \"name\": \"df\",\n  \"rows\": 10000,\n  \"fields\": [\n    {\n      \"column\": \"eval\",\n      \"properties\": {\n        \"dtype\": \"category\",\n        \"num_unique_values\": 5,\n        \"samples\": [\n          \"Unsatisfactory\",\n          \"Good\",\n          \"Excellent\"\n        ],\n        \"semantic_type\": \"\",\n        \"description\": \"\"\n      }\n    },\n    {\n      \"column\": \"review\",\n      \"properties\": {\n        \"dtype\": \"string\",\n        \"num_unique_values\": 8608,\n        \"samples\": [\n          \"Dangerous because transparent\",\n          \"face\",\n          \"My Review Forced Them to Finally List The Ingredients - An Actual Natural Soap Better Than This [ C. BOOTH DERMA]\"\n        ],\n        \"semantic_type\": \"\",\n        \"description\": \"\"\n      }\n    }\n  ]\n}"
            }
          },
          "metadata": {},
          "execution_count": 3
        }
      ],
      "source": [
        "df = pd.read_csv(\"/content/sample_data/P2_dataset_reviews.csv\", delimiter=';', names=['eval','review'])\n",
        "df.head()"
      ]
    },
    {
      "cell_type": "code",
      "execution_count": 4,
      "id": "9b6f899d-b7e5-4bf4-a034-9c0c26a02310",
      "metadata": {
        "colab": {
          "base_uri": "https://localhost:8080/"
        },
        "id": "9b6f899d-b7e5-4bf4-a034-9c0c26a02310",
        "outputId": "b18975f9-fe05-4a05-bab4-af7cc7085ee8"
      },
      "outputs": [
        {
          "output_type": "execute_result",
          "data": {
            "text/plain": [
              "(10000, 2)"
            ]
          },
          "metadata": {},
          "execution_count": 4
        }
      ],
      "source": [
        "df.shape # lines vs. columns"
      ]
    },
    {
      "cell_type": "markdown",
      "id": "261ccb60-16a9-4234-bc75-ad4305429f3a",
      "metadata": {
        "id": "261ccb60-16a9-4234-bc75-ad4305429f3a"
      },
      "source": [
        "## 1.3 Enriching the dataset with the number of characters and words per review"
      ]
    },
    {
      "cell_type": "code",
      "execution_count": 5,
      "id": "c5ad96db-f9cf-4a1e-8695-105d5025814b",
      "metadata": {
        "id": "c5ad96db-f9cf-4a1e-8695-105d5025814b"
      },
      "outputs": [],
      "source": [
        "df[\"#chars\"] = df['review'].apply(len)\n",
        "df['#words'] = df['review'].apply(lambda x: len(x.split()))"
      ]
    },
    {
      "cell_type": "markdown",
      "id": "dfd3b882-e77c-484a-8c82-5f231dcaf8e6",
      "metadata": {
        "id": "dfd3b882-e77c-484a-8c82-5f231dcaf8e6"
      },
      "source": [
        "## 1.4 Enriching the dataset with the sentiment (polarity) of each review"
      ]
    },
    {
      "cell_type": "code",
      "execution_count": 6,
      "id": "19a68b7f-8319-4802-bfe2-75afa0af2772",
      "metadata": {
        "id": "19a68b7f-8319-4802-bfe2-75afa0af2772"
      },
      "outputs": [],
      "source": [
        "# Textblob is a Python toolkit for processing and analyzing text\n",
        "from textblob import TextBlob\n",
        "\n",
        "# from Good to 3 (and so on)\n",
        "df['rate'] = df['eval'].apply(lambda x: 1 if x == 'Poor' else (2 if x == 'Unsatisfactory' else (3 if x == 'Good' else (4 if x == 'VeryGood' else 5))))\n",
        "\n",
        "# Sentiment Analysis\n",
        "df['polarity'] = df['review'].apply(lambda x: TextBlob(x).sentiment.polarity) # between -1 and 1\n",
        "\n",
        "# Transforming the sentiment score into categories: negative, neutral and positive\n",
        "df['sign'] = df['polarity'].apply(lambda x: 'negative' if x < 0 else ('neutral' if x == 0 else 'positive'))"
      ]
    },
    {
      "cell_type": "markdown",
      "source": [
        "## 1.5 What we have now..."
      ],
      "metadata": {
        "id": "6sk7nJuKXrtv"
      },
      "id": "6sk7nJuKXrtv"
    },
    {
      "cell_type": "code",
      "execution_count": 7,
      "id": "513685d9-6d9d-4276-abcb-e36f2c111b19",
      "metadata": {
        "colab": {
          "base_uri": "https://localhost:8080/"
        },
        "id": "513685d9-6d9d-4276-abcb-e36f2c111b19",
        "outputId": "18d461df-7699-4f81-92bd-4a040d9fbd23"
      },
      "outputs": [
        {
          "output_type": "stream",
          "name": "stdout",
          "text": [
            "              eval                                    review  #chars  #words  \\\n",
            "0         VeryGood                          Stamp and Scrape      16       3   \n",
            "1   Unsatisfactory  Did not even tingle for ant aging effect      40       8   \n",
            "2         VeryGood                           Well, I like it      15       4   \n",
            "3        Excellent        Much better than what I was using.      34       7   \n",
            "4   Unsatisfactory        Disappointed with Usage and Dosage      34       5   \n",
            "5             Poor                               Don't work?      11       2   \n",
            "6         VeryGood             Good product in a weird niche      29       6   \n",
            "7        Excellent      Staple Scent for Active Males...imho      36       5   \n",
            "8         VeryGood                         Pure rose essence      17       3   \n",
            "9         VeryGood                              Good product      12       2   \n",
            "10        VeryGood                                      soft       4       1   \n",
            "11        VeryGood      40 Carrots Moisture Splurge is Great      36       6   \n",
            "12       Excellent                                     Works       5       1   \n",
            "13            Good                    Okay but not the best!      22       5   \n",
            "14  Unsatisfactory                       Too man-like for me      19       4   \n",
            "15            Good                    I used to love this...      22       5   \n",
            "16            Good                          Great but pricey      16       3   \n",
            "17  Unsatisfactory                        Wouldn't buy again      18       3   \n",
            "18            Poor                             Poor product!      13       2   \n",
            "19            Poor                                     Blegh       5       1   \n",
            "\n",
            "    rate  polarity      sign  \n",
            "0      4  0.000000   neutral  \n",
            "1      2  0.000000   neutral  \n",
            "2      4  0.000000   neutral  \n",
            "3      5  0.500000  positive  \n",
            "4      2 -0.750000  negative  \n",
            "5      1  0.000000   neutral  \n",
            "6      4  0.100000  positive  \n",
            "7      5 -0.133333  negative  \n",
            "8      4  0.407143  positive  \n",
            "9      4  0.700000  positive  \n",
            "10     4  0.100000  positive  \n",
            "11     4  0.800000  positive  \n",
            "12     5  0.000000   neutral  \n",
            "13     3  0.750000  positive  \n",
            "14     2  0.000000   neutral  \n",
            "15     3  0.500000  positive  \n",
            "16     3  0.800000  positive  \n",
            "17     2  0.000000   neutral  \n",
            "18     1 -0.500000  negative  \n",
            "19     1  0.000000   neutral  \n"
          ]
        }
      ],
      "source": [
        "df.head()\n",
        "print(df[:20])"
      ]
    },
    {
      "cell_type": "markdown",
      "id": "5b8614d9-d898-4567-92bd-1f0201cb76c3",
      "metadata": {
        "id": "5b8614d9-d898-4567-92bd-1f0201cb76c3"
      },
      "source": [
        "Let us guarantee that the codified type of variables is correct..."
      ]
    },
    {
      "cell_type": "code",
      "execution_count": 8,
      "id": "829be88e-b650-48fe-8900-24f476c99ae0",
      "metadata": {
        "colab": {
          "base_uri": "https://localhost:8080/"
        },
        "id": "829be88e-b650-48fe-8900-24f476c99ae0",
        "outputId": "ac311fe8-0377-4411-eab8-4f2af4e3ad65"
      },
      "outputs": [
        {
          "output_type": "stream",
          "name": "stdout",
          "text": [
            "<class 'pandas.core.frame.DataFrame'>\n",
            "RangeIndex: 10000 entries, 0 to 9999\n",
            "Data columns (total 7 columns):\n",
            " #   Column    Non-Null Count  Dtype   \n",
            "---  ------    --------------  -----   \n",
            " 0   eval      10000 non-null  object  \n",
            " 1   review    10000 non-null  string  \n",
            " 2   #chars    10000 non-null  int64   \n",
            " 3   #words    10000 non-null  int64   \n",
            " 4   rate      10000 non-null  int64   \n",
            " 5   polarity  10000 non-null  float64 \n",
            " 6   sign      10000 non-null  category\n",
            "dtypes: category(1), float64(1), int64(3), object(1), string(1)\n",
            "memory usage: 478.8+ KB\n"
          ]
        }
      ],
      "source": [
        "df['review'] = df['review'].astype('string')\n",
        "df[['sign']] = df[['sign']].astype('category')\n",
        "df.info()"
      ]
    },
    {
      "cell_type": "markdown",
      "source": [
        "## Before we move on\n",
        "\n",
        "Remember that variables can be of different types:\n",
        "\n",
        "1. **Numeric (Quantitative)**: variables that take numbers and can be used in arithmetic. Examples: height, weight, temperature, rate.\n",
        "They have two subtypes:<br>\n",
        "\n",
        "     1.1 **Continuous**: can take any value in a range (e.g., 1.5, 2.3, 3.0)<br>\n",
        "     1.2 **Discrete**: take only specific integer values (e.g., number of children)\n",
        "\n",
        "2. **Ordinal**: categorical variables with a meaningful order, but the differences between levels are not necessarily uniform. You can rank them, but you cannot reliably do arithmetic on them. Examples: ratings like \"Poor\" < \"Good\" < \"Very Good\".\n",
        "\n",
        "3. **Nominal**: categorical variables that represent categories without any inherent order. You can count occurrences but cannot rank or do arithmetic.  Examples: color (red, blue, green), gender (male, female), product type."
      ],
      "metadata": {
        "id": "3xJOh9uADAT-"
      },
      "id": "3xJOh9uADAT-"
    },
    {
      "cell_type": "markdown",
      "source": [
        "**Exercise: Examine the variables in the dataset and determine the type of each.**"
      ],
      "metadata": {
        "id": "9IZ4LF3gEBq1"
      },
      "id": "9IZ4LF3gEBq1"
    },
    {
      "cell_type": "markdown",
      "id": "c4067dff-2bc8-4916-81ca-315351f221a8",
      "metadata": {
        "id": "c4067dff-2bc8-4916-81ca-315351f221a8"
      },
      "source": [
        "# 2. Studying the dataset"
      ]
    },
    {
      "cell_type": "markdown",
      "source": [
        "## 2.1 Checking some basic statistics\n",
        "\n",
        "We will check:\n",
        "- centrality (such as mean and mode)\n",
        "- variability (such as standard deviation and entropy)\n",
        "- percentile statistics\n"
      ],
      "metadata": {
        "id": "OuYc8BLrEu78"
      },
      "id": "OuYc8BLrEu78"
    },
    {
      "cell_type": "code",
      "execution_count": 9,
      "id": "48238802-67f4-4acc-a26a-77f199fc93d2",
      "metadata": {
        "colab": {
          "base_uri": "https://localhost:8080/",
          "height": 297
        },
        "id": "48238802-67f4-4acc-a26a-77f199fc93d2",
        "outputId": "06792de5-201a-47e9-b342-80d2b9a68fdd"
      },
      "outputs": [
        {
          "output_type": "execute_result",
          "data": {
            "text/plain": [
              "        #chars   #words     rate  polarity\n",
              "count 10000.00 10000.00 10000.00  10000.00\n",
              "mean     23.09     4.23     2.99      0.17\n",
              "std      15.60     2.84     1.41      0.41\n",
              "min       1.00     1.00     1.00     -1.00\n",
              "25%      12.00     2.00     2.00      0.00\n",
              "50%      19.00     4.00     3.00      0.00\n",
              "75%      30.00     6.00     4.00      0.50\n",
              "max     128.00    25.00     5.00      1.00"
            ],
            "text/html": [
              "\n",
              "  <div id=\"df-361c23ed-4a2c-444d-af99-3f0af99b04a5\" class=\"colab-df-container\">\n",
              "    <div>\n",
              "<style scoped>\n",
              "    .dataframe tbody tr th:only-of-type {\n",
              "        vertical-align: middle;\n",
              "    }\n",
              "\n",
              "    .dataframe tbody tr th {\n",
              "        vertical-align: top;\n",
              "    }\n",
              "\n",
              "    .dataframe thead th {\n",
              "        text-align: right;\n",
              "    }\n",
              "</style>\n",
              "<table border=\"1\" class=\"dataframe\">\n",
              "  <thead>\n",
              "    <tr style=\"text-align: right;\">\n",
              "      <th></th>\n",
              "      <th>#chars</th>\n",
              "      <th>#words</th>\n",
              "      <th>rate</th>\n",
              "      <th>polarity</th>\n",
              "    </tr>\n",
              "  </thead>\n",
              "  <tbody>\n",
              "    <tr>\n",
              "      <th>count</th>\n",
              "      <td>10000.00</td>\n",
              "      <td>10000.00</td>\n",
              "      <td>10000.00</td>\n",
              "      <td>10000.00</td>\n",
              "    </tr>\n",
              "    <tr>\n",
              "      <th>mean</th>\n",
              "      <td>23.09</td>\n",
              "      <td>4.23</td>\n",
              "      <td>2.99</td>\n",
              "      <td>0.17</td>\n",
              "    </tr>\n",
              "    <tr>\n",
              "      <th>std</th>\n",
              "      <td>15.60</td>\n",
              "      <td>2.84</td>\n",
              "      <td>1.41</td>\n",
              "      <td>0.41</td>\n",
              "    </tr>\n",
              "    <tr>\n",
              "      <th>min</th>\n",
              "      <td>1.00</td>\n",
              "      <td>1.00</td>\n",
              "      <td>1.00</td>\n",
              "      <td>-1.00</td>\n",
              "    </tr>\n",
              "    <tr>\n",
              "      <th>25%</th>\n",
              "      <td>12.00</td>\n",
              "      <td>2.00</td>\n",
              "      <td>2.00</td>\n",
              "      <td>0.00</td>\n",
              "    </tr>\n",
              "    <tr>\n",
              "      <th>50%</th>\n",
              "      <td>19.00</td>\n",
              "      <td>4.00</td>\n",
              "      <td>3.00</td>\n",
              "      <td>0.00</td>\n",
              "    </tr>\n",
              "    <tr>\n",
              "      <th>75%</th>\n",
              "      <td>30.00</td>\n",
              "      <td>6.00</td>\n",
              "      <td>4.00</td>\n",
              "      <td>0.50</td>\n",
              "    </tr>\n",
              "    <tr>\n",
              "      <th>max</th>\n",
              "      <td>128.00</td>\n",
              "      <td>25.00</td>\n",
              "      <td>5.00</td>\n",
              "      <td>1.00</td>\n",
              "    </tr>\n",
              "  </tbody>\n",
              "</table>\n",
              "</div>\n",
              "    <div class=\"colab-df-buttons\">\n",
              "\n",
              "  <div class=\"colab-df-container\">\n",
              "    <button class=\"colab-df-convert\" onclick=\"convertToInteractive('df-361c23ed-4a2c-444d-af99-3f0af99b04a5')\"\n",
              "            title=\"Convert this dataframe to an interactive table.\"\n",
              "            style=\"display:none;\">\n",
              "\n",
              "  <svg xmlns=\"http://www.w3.org/2000/svg\" height=\"24px\" viewBox=\"0 -960 960 960\">\n",
              "    <path d=\"M120-120v-720h720v720H120Zm60-500h600v-160H180v160Zm220 220h160v-160H400v160Zm0 220h160v-160H400v160ZM180-400h160v-160H180v160Zm440 0h160v-160H620v160ZM180-180h160v-160H180v160Zm440 0h160v-160H620v160Z\"/>\n",
              "  </svg>\n",
              "    </button>\n",
              "\n",
              "  <style>\n",
              "    .colab-df-container {\n",
              "      display:flex;\n",
              "      gap: 12px;\n",
              "    }\n",
              "\n",
              "    .colab-df-convert {\n",
              "      background-color: #E8F0FE;\n",
              "      border: none;\n",
              "      border-radius: 50%;\n",
              "      cursor: pointer;\n",
              "      display: none;\n",
              "      fill: #1967D2;\n",
              "      height: 32px;\n",
              "      padding: 0 0 0 0;\n",
              "      width: 32px;\n",
              "    }\n",
              "\n",
              "    .colab-df-convert:hover {\n",
              "      background-color: #E2EBFA;\n",
              "      box-shadow: 0px 1px 2px rgba(60, 64, 67, 0.3), 0px 1px 3px 1px rgba(60, 64, 67, 0.15);\n",
              "      fill: #174EA6;\n",
              "    }\n",
              "\n",
              "    .colab-df-buttons div {\n",
              "      margin-bottom: 4px;\n",
              "    }\n",
              "\n",
              "    [theme=dark] .colab-df-convert {\n",
              "      background-color: #3B4455;\n",
              "      fill: #D2E3FC;\n",
              "    }\n",
              "\n",
              "    [theme=dark] .colab-df-convert:hover {\n",
              "      background-color: #434B5C;\n",
              "      box-shadow: 0px 1px 3px 1px rgba(0, 0, 0, 0.15);\n",
              "      filter: drop-shadow(0px 1px 2px rgba(0, 0, 0, 0.3));\n",
              "      fill: #FFFFFF;\n",
              "    }\n",
              "  </style>\n",
              "\n",
              "    <script>\n",
              "      const buttonEl =\n",
              "        document.querySelector('#df-361c23ed-4a2c-444d-af99-3f0af99b04a5 button.colab-df-convert');\n",
              "      buttonEl.style.display =\n",
              "        google.colab.kernel.accessAllowed ? 'block' : 'none';\n",
              "\n",
              "      async function convertToInteractive(key) {\n",
              "        const element = document.querySelector('#df-361c23ed-4a2c-444d-af99-3f0af99b04a5');\n",
              "        const dataTable =\n",
              "          await google.colab.kernel.invokeFunction('convertToInteractive',\n",
              "                                                    [key], {});\n",
              "        if (!dataTable) return;\n",
              "\n",
              "        const docLinkHtml = 'Like what you see? Visit the ' +\n",
              "          '<a target=\"_blank\" href=https://colab.research.google.com/notebooks/data_table.ipynb>data table notebook</a>'\n",
              "          + ' to learn more about interactive tables.';\n",
              "        element.innerHTML = '';\n",
              "        dataTable['output_type'] = 'display_data';\n",
              "        await google.colab.output.renderOutput(dataTable, element);\n",
              "        const docLink = document.createElement('div');\n",
              "        docLink.innerHTML = docLinkHtml;\n",
              "        element.appendChild(docLink);\n",
              "      }\n",
              "    </script>\n",
              "  </div>\n",
              "\n",
              "\n",
              "    <div id=\"df-deb4c182-74da-4515-bae7-9eb7bcdc33c3\">\n",
              "      <button class=\"colab-df-quickchart\" onclick=\"quickchart('df-deb4c182-74da-4515-bae7-9eb7bcdc33c3')\"\n",
              "                title=\"Suggest charts\"\n",
              "                style=\"display:none;\">\n",
              "\n",
              "<svg xmlns=\"http://www.w3.org/2000/svg\" height=\"24px\"viewBox=\"0 0 24 24\"\n",
              "     width=\"24px\">\n",
              "    <g>\n",
              "        <path d=\"M19 3H5c-1.1 0-2 .9-2 2v14c0 1.1.9 2 2 2h14c1.1 0 2-.9 2-2V5c0-1.1-.9-2-2-2zM9 17H7v-7h2v7zm4 0h-2V7h2v10zm4 0h-2v-4h2v4z\"/>\n",
              "    </g>\n",
              "</svg>\n",
              "      </button>\n",
              "\n",
              "<style>\n",
              "  .colab-df-quickchart {\n",
              "      --bg-color: #E8F0FE;\n",
              "      --fill-color: #1967D2;\n",
              "      --hover-bg-color: #E2EBFA;\n",
              "      --hover-fill-color: #174EA6;\n",
              "      --disabled-fill-color: #AAA;\n",
              "      --disabled-bg-color: #DDD;\n",
              "  }\n",
              "\n",
              "  [theme=dark] .colab-df-quickchart {\n",
              "      --bg-color: #3B4455;\n",
              "      --fill-color: #D2E3FC;\n",
              "      --hover-bg-color: #434B5C;\n",
              "      --hover-fill-color: #FFFFFF;\n",
              "      --disabled-bg-color: #3B4455;\n",
              "      --disabled-fill-color: #666;\n",
              "  }\n",
              "\n",
              "  .colab-df-quickchart {\n",
              "    background-color: var(--bg-color);\n",
              "    border: none;\n",
              "    border-radius: 50%;\n",
              "    cursor: pointer;\n",
              "    display: none;\n",
              "    fill: var(--fill-color);\n",
              "    height: 32px;\n",
              "    padding: 0;\n",
              "    width: 32px;\n",
              "  }\n",
              "\n",
              "  .colab-df-quickchart:hover {\n",
              "    background-color: var(--hover-bg-color);\n",
              "    box-shadow: 0 1px 2px rgba(60, 64, 67, 0.3), 0 1px 3px 1px rgba(60, 64, 67, 0.15);\n",
              "    fill: var(--button-hover-fill-color);\n",
              "  }\n",
              "\n",
              "  .colab-df-quickchart-complete:disabled,\n",
              "  .colab-df-quickchart-complete:disabled:hover {\n",
              "    background-color: var(--disabled-bg-color);\n",
              "    fill: var(--disabled-fill-color);\n",
              "    box-shadow: none;\n",
              "  }\n",
              "\n",
              "  .colab-df-spinner {\n",
              "    border: 2px solid var(--fill-color);\n",
              "    border-color: transparent;\n",
              "    border-bottom-color: var(--fill-color);\n",
              "    animation:\n",
              "      spin 1s steps(1) infinite;\n",
              "  }\n",
              "\n",
              "  @keyframes spin {\n",
              "    0% {\n",
              "      border-color: transparent;\n",
              "      border-bottom-color: var(--fill-color);\n",
              "      border-left-color: var(--fill-color);\n",
              "    }\n",
              "    20% {\n",
              "      border-color: transparent;\n",
              "      border-left-color: var(--fill-color);\n",
              "      border-top-color: var(--fill-color);\n",
              "    }\n",
              "    30% {\n",
              "      border-color: transparent;\n",
              "      border-left-color: var(--fill-color);\n",
              "      border-top-color: var(--fill-color);\n",
              "      border-right-color: var(--fill-color);\n",
              "    }\n",
              "    40% {\n",
              "      border-color: transparent;\n",
              "      border-right-color: var(--fill-color);\n",
              "      border-top-color: var(--fill-color);\n",
              "    }\n",
              "    60% {\n",
              "      border-color: transparent;\n",
              "      border-right-color: var(--fill-color);\n",
              "    }\n",
              "    80% {\n",
              "      border-color: transparent;\n",
              "      border-right-color: var(--fill-color);\n",
              "      border-bottom-color: var(--fill-color);\n",
              "    }\n",
              "    90% {\n",
              "      border-color: transparent;\n",
              "      border-bottom-color: var(--fill-color);\n",
              "    }\n",
              "  }\n",
              "</style>\n",
              "\n",
              "      <script>\n",
              "        async function quickchart(key) {\n",
              "          const quickchartButtonEl =\n",
              "            document.querySelector('#' + key + ' button');\n",
              "          quickchartButtonEl.disabled = true;  // To prevent multiple clicks.\n",
              "          quickchartButtonEl.classList.add('colab-df-spinner');\n",
              "          try {\n",
              "            const charts = await google.colab.kernel.invokeFunction(\n",
              "                'suggestCharts', [key], {});\n",
              "          } catch (error) {\n",
              "            console.error('Error during call to suggestCharts:', error);\n",
              "          }\n",
              "          quickchartButtonEl.classList.remove('colab-df-spinner');\n",
              "          quickchartButtonEl.classList.add('colab-df-quickchart-complete');\n",
              "        }\n",
              "        (() => {\n",
              "          let quickchartButtonEl =\n",
              "            document.querySelector('#df-deb4c182-74da-4515-bae7-9eb7bcdc33c3 button');\n",
              "          quickchartButtonEl.style.display =\n",
              "            google.colab.kernel.accessAllowed ? 'block' : 'none';\n",
              "        })();\n",
              "      </script>\n",
              "    </div>\n",
              "\n",
              "    </div>\n",
              "  </div>\n"
            ],
            "application/vnd.google.colaboratory.intrinsic+json": {
              "type": "dataframe",
              "summary": "{\n  \"name\": \"df\",\n  \"rows\": 8,\n  \"fields\": [\n    {\n      \"column\": \"#chars\",\n      \"properties\": {\n        \"dtype\": \"number\",\n        \"std\": 3524.2086428762213,\n        \"min\": 1.0,\n        \"max\": 10000.0,\n        \"num_unique_values\": 8,\n        \"samples\": [\n          23.086,\n          19.0,\n          10000.0\n        ],\n        \"semantic_type\": \"\",\n        \"description\": \"\"\n      }\n    },\n    {\n      \"column\": \"#words\",\n      \"properties\": {\n        \"dtype\": \"number\",\n        \"std\": 3533.2658678940466,\n        \"min\": 1.0,\n        \"max\": 10000.0,\n        \"num_unique_values\": 8,\n        \"samples\": [\n          4.2322,\n          4.0,\n          10000.0\n        ],\n        \"semantic_type\": \"\",\n        \"description\": \"\"\n      }\n    },\n    {\n      \"column\": \"rate\",\n      \"properties\": {\n        \"dtype\": \"number\",\n        \"std\": 3534.5541401231158,\n        \"min\": 1.0,\n        \"max\": 10000.0,\n        \"num_unique_values\": 8,\n        \"samples\": [\n          2.9904,\n          3.0,\n          10000.0\n        ],\n        \"semantic_type\": \"\",\n        \"description\": \"\"\n      }\n    },\n    {\n      \"column\": \"polarity\",\n      \"properties\": {\n        \"dtype\": \"number\",\n        \"std\": 3535.4795015741247,\n        \"min\": -1.0,\n        \"max\": 10000.0,\n        \"num_unique_values\": 7,\n        \"samples\": [\n          10000.0,\n          0.16701738670318972,\n          0.5\n        ],\n        \"semantic_type\": \"\",\n        \"description\": \"\"\n      }\n    }\n  ]\n}"
            }
          },
          "metadata": {},
          "execution_count": 9
        }
      ],
      "source": [
        "# controls the number of decimal places shown in pandas output\n",
        "pd.options.display.float_format = \"{:.2f}\".format\n",
        "\n",
        "# Generates summary statistics only for numeric columns (type int64 and float64)\n",
        "# - how many rows there are (count)\n",
        "# - their average (mean)\n",
        "# - spread (std)\n",
        "# - distribution range (min, quartiles, max)\n",
        "df.describe(include=['int64','float64'])\n"
      ]
    },
    {
      "cell_type": "code",
      "source": [
        "df.describe(include='all') # Interesting. Analyse these results\n",
        "# Text-like columns get frequency info, while numeric ones get statistical measures, so:\n",
        "# - as chars, #words, rate, and polarity are numeric, will you see mean, std, etc.\n",
        "# - as eval, review, and sign are categorical, you will see:\n",
        "# a) counts,\n",
        "# b) number of unique values,\n",
        "# c) most frequent value (top) and its frequency (freq).\n"
      ],
      "metadata": {
        "colab": {
          "base_uri": "https://localhost:8080/",
          "height": 390
        },
        "id": "-Lxu0wKMYY2A",
        "outputId": "5913d997-310a-4ad2-ac9c-3d8682e899a8"
      },
      "id": "-Lxu0wKMYY2A",
      "execution_count": 10,
      "outputs": [
        {
          "output_type": "execute_result",
          "data": {
            "text/plain": [
              "         eval      review   #chars   #words     rate  polarity      sign\n",
              "count   10000       10000 10000.00 10000.00 10000.00  10000.00     10000\n",
              "unique      5        8608      NaN      NaN      NaN       NaN         3\n",
              "top      Good  Not for me      NaN      NaN      NaN       NaN  positive\n",
              "freq     2025          51      NaN      NaN      NaN       NaN      4464\n",
              "mean      NaN         NaN    23.09     4.23     2.99      0.17       NaN\n",
              "std       NaN         NaN    15.60     2.84     1.41      0.41       NaN\n",
              "min       NaN         NaN     1.00     1.00     1.00     -1.00       NaN\n",
              "25%       NaN         NaN    12.00     2.00     2.00      0.00       NaN\n",
              "50%       NaN         NaN    19.00     4.00     3.00      0.00       NaN\n",
              "75%       NaN         NaN    30.00     6.00     4.00      0.50       NaN\n",
              "max       NaN         NaN   128.00    25.00     5.00      1.00       NaN"
            ],
            "text/html": [
              "\n",
              "  <div id=\"df-f419259c-f79f-4198-b512-a86ec2be4c54\" class=\"colab-df-container\">\n",
              "    <div>\n",
              "<style scoped>\n",
              "    .dataframe tbody tr th:only-of-type {\n",
              "        vertical-align: middle;\n",
              "    }\n",
              "\n",
              "    .dataframe tbody tr th {\n",
              "        vertical-align: top;\n",
              "    }\n",
              "\n",
              "    .dataframe thead th {\n",
              "        text-align: right;\n",
              "    }\n",
              "</style>\n",
              "<table border=\"1\" class=\"dataframe\">\n",
              "  <thead>\n",
              "    <tr style=\"text-align: right;\">\n",
              "      <th></th>\n",
              "      <th>eval</th>\n",
              "      <th>review</th>\n",
              "      <th>#chars</th>\n",
              "      <th>#words</th>\n",
              "      <th>rate</th>\n",
              "      <th>polarity</th>\n",
              "      <th>sign</th>\n",
              "    </tr>\n",
              "  </thead>\n",
              "  <tbody>\n",
              "    <tr>\n",
              "      <th>count</th>\n",
              "      <td>10000</td>\n",
              "      <td>10000</td>\n",
              "      <td>10000.00</td>\n",
              "      <td>10000.00</td>\n",
              "      <td>10000.00</td>\n",
              "      <td>10000.00</td>\n",
              "      <td>10000</td>\n",
              "    </tr>\n",
              "    <tr>\n",
              "      <th>unique</th>\n",
              "      <td>5</td>\n",
              "      <td>8608</td>\n",
              "      <td>NaN</td>\n",
              "      <td>NaN</td>\n",
              "      <td>NaN</td>\n",
              "      <td>NaN</td>\n",
              "      <td>3</td>\n",
              "    </tr>\n",
              "    <tr>\n",
              "      <th>top</th>\n",
              "      <td>Good</td>\n",
              "      <td>Not for me</td>\n",
              "      <td>NaN</td>\n",
              "      <td>NaN</td>\n",
              "      <td>NaN</td>\n",
              "      <td>NaN</td>\n",
              "      <td>positive</td>\n",
              "    </tr>\n",
              "    <tr>\n",
              "      <th>freq</th>\n",
              "      <td>2025</td>\n",
              "      <td>51</td>\n",
              "      <td>NaN</td>\n",
              "      <td>NaN</td>\n",
              "      <td>NaN</td>\n",
              "      <td>NaN</td>\n",
              "      <td>4464</td>\n",
              "    </tr>\n",
              "    <tr>\n",
              "      <th>mean</th>\n",
              "      <td>NaN</td>\n",
              "      <td>NaN</td>\n",
              "      <td>23.09</td>\n",
              "      <td>4.23</td>\n",
              "      <td>2.99</td>\n",
              "      <td>0.17</td>\n",
              "      <td>NaN</td>\n",
              "    </tr>\n",
              "    <tr>\n",
              "      <th>std</th>\n",
              "      <td>NaN</td>\n",
              "      <td>NaN</td>\n",
              "      <td>15.60</td>\n",
              "      <td>2.84</td>\n",
              "      <td>1.41</td>\n",
              "      <td>0.41</td>\n",
              "      <td>NaN</td>\n",
              "    </tr>\n",
              "    <tr>\n",
              "      <th>min</th>\n",
              "      <td>NaN</td>\n",
              "      <td>NaN</td>\n",
              "      <td>1.00</td>\n",
              "      <td>1.00</td>\n",
              "      <td>1.00</td>\n",
              "      <td>-1.00</td>\n",
              "      <td>NaN</td>\n",
              "    </tr>\n",
              "    <tr>\n",
              "      <th>25%</th>\n",
              "      <td>NaN</td>\n",
              "      <td>NaN</td>\n",
              "      <td>12.00</td>\n",
              "      <td>2.00</td>\n",
              "      <td>2.00</td>\n",
              "      <td>0.00</td>\n",
              "      <td>NaN</td>\n",
              "    </tr>\n",
              "    <tr>\n",
              "      <th>50%</th>\n",
              "      <td>NaN</td>\n",
              "      <td>NaN</td>\n",
              "      <td>19.00</td>\n",
              "      <td>4.00</td>\n",
              "      <td>3.00</td>\n",
              "      <td>0.00</td>\n",
              "      <td>NaN</td>\n",
              "    </tr>\n",
              "    <tr>\n",
              "      <th>75%</th>\n",
              "      <td>NaN</td>\n",
              "      <td>NaN</td>\n",
              "      <td>30.00</td>\n",
              "      <td>6.00</td>\n",
              "      <td>4.00</td>\n",
              "      <td>0.50</td>\n",
              "      <td>NaN</td>\n",
              "    </tr>\n",
              "    <tr>\n",
              "      <th>max</th>\n",
              "      <td>NaN</td>\n",
              "      <td>NaN</td>\n",
              "      <td>128.00</td>\n",
              "      <td>25.00</td>\n",
              "      <td>5.00</td>\n",
              "      <td>1.00</td>\n",
              "      <td>NaN</td>\n",
              "    </tr>\n",
              "  </tbody>\n",
              "</table>\n",
              "</div>\n",
              "    <div class=\"colab-df-buttons\">\n",
              "\n",
              "  <div class=\"colab-df-container\">\n",
              "    <button class=\"colab-df-convert\" onclick=\"convertToInteractive('df-f419259c-f79f-4198-b512-a86ec2be4c54')\"\n",
              "            title=\"Convert this dataframe to an interactive table.\"\n",
              "            style=\"display:none;\">\n",
              "\n",
              "  <svg xmlns=\"http://www.w3.org/2000/svg\" height=\"24px\" viewBox=\"0 -960 960 960\">\n",
              "    <path d=\"M120-120v-720h720v720H120Zm60-500h600v-160H180v160Zm220 220h160v-160H400v160Zm0 220h160v-160H400v160ZM180-400h160v-160H180v160Zm440 0h160v-160H620v160ZM180-180h160v-160H180v160Zm440 0h160v-160H620v160Z\"/>\n",
              "  </svg>\n",
              "    </button>\n",
              "\n",
              "  <style>\n",
              "    .colab-df-container {\n",
              "      display:flex;\n",
              "      gap: 12px;\n",
              "    }\n",
              "\n",
              "    .colab-df-convert {\n",
              "      background-color: #E8F0FE;\n",
              "      border: none;\n",
              "      border-radius: 50%;\n",
              "      cursor: pointer;\n",
              "      display: none;\n",
              "      fill: #1967D2;\n",
              "      height: 32px;\n",
              "      padding: 0 0 0 0;\n",
              "      width: 32px;\n",
              "    }\n",
              "\n",
              "    .colab-df-convert:hover {\n",
              "      background-color: #E2EBFA;\n",
              "      box-shadow: 0px 1px 2px rgba(60, 64, 67, 0.3), 0px 1px 3px 1px rgba(60, 64, 67, 0.15);\n",
              "      fill: #174EA6;\n",
              "    }\n",
              "\n",
              "    .colab-df-buttons div {\n",
              "      margin-bottom: 4px;\n",
              "    }\n",
              "\n",
              "    [theme=dark] .colab-df-convert {\n",
              "      background-color: #3B4455;\n",
              "      fill: #D2E3FC;\n",
              "    }\n",
              "\n",
              "    [theme=dark] .colab-df-convert:hover {\n",
              "      background-color: #434B5C;\n",
              "      box-shadow: 0px 1px 3px 1px rgba(0, 0, 0, 0.15);\n",
              "      filter: drop-shadow(0px 1px 2px rgba(0, 0, 0, 0.3));\n",
              "      fill: #FFFFFF;\n",
              "    }\n",
              "  </style>\n",
              "\n",
              "    <script>\n",
              "      const buttonEl =\n",
              "        document.querySelector('#df-f419259c-f79f-4198-b512-a86ec2be4c54 button.colab-df-convert');\n",
              "      buttonEl.style.display =\n",
              "        google.colab.kernel.accessAllowed ? 'block' : 'none';\n",
              "\n",
              "      async function convertToInteractive(key) {\n",
              "        const element = document.querySelector('#df-f419259c-f79f-4198-b512-a86ec2be4c54');\n",
              "        const dataTable =\n",
              "          await google.colab.kernel.invokeFunction('convertToInteractive',\n",
              "                                                    [key], {});\n",
              "        if (!dataTable) return;\n",
              "\n",
              "        const docLinkHtml = 'Like what you see? Visit the ' +\n",
              "          '<a target=\"_blank\" href=https://colab.research.google.com/notebooks/data_table.ipynb>data table notebook</a>'\n",
              "          + ' to learn more about interactive tables.';\n",
              "        element.innerHTML = '';\n",
              "        dataTable['output_type'] = 'display_data';\n",
              "        await google.colab.output.renderOutput(dataTable, element);\n",
              "        const docLink = document.createElement('div');\n",
              "        docLink.innerHTML = docLinkHtml;\n",
              "        element.appendChild(docLink);\n",
              "      }\n",
              "    </script>\n",
              "  </div>\n",
              "\n",
              "\n",
              "    <div id=\"df-712e2eb0-7867-42de-8f71-673f449cc440\">\n",
              "      <button class=\"colab-df-quickchart\" onclick=\"quickchart('df-712e2eb0-7867-42de-8f71-673f449cc440')\"\n",
              "                title=\"Suggest charts\"\n",
              "                style=\"display:none;\">\n",
              "\n",
              "<svg xmlns=\"http://www.w3.org/2000/svg\" height=\"24px\"viewBox=\"0 0 24 24\"\n",
              "     width=\"24px\">\n",
              "    <g>\n",
              "        <path d=\"M19 3H5c-1.1 0-2 .9-2 2v14c0 1.1.9 2 2 2h14c1.1 0 2-.9 2-2V5c0-1.1-.9-2-2-2zM9 17H7v-7h2v7zm4 0h-2V7h2v10zm4 0h-2v-4h2v4z\"/>\n",
              "    </g>\n",
              "</svg>\n",
              "      </button>\n",
              "\n",
              "<style>\n",
              "  .colab-df-quickchart {\n",
              "      --bg-color: #E8F0FE;\n",
              "      --fill-color: #1967D2;\n",
              "      --hover-bg-color: #E2EBFA;\n",
              "      --hover-fill-color: #174EA6;\n",
              "      --disabled-fill-color: #AAA;\n",
              "      --disabled-bg-color: #DDD;\n",
              "  }\n",
              "\n",
              "  [theme=dark] .colab-df-quickchart {\n",
              "      --bg-color: #3B4455;\n",
              "      --fill-color: #D2E3FC;\n",
              "      --hover-bg-color: #434B5C;\n",
              "      --hover-fill-color: #FFFFFF;\n",
              "      --disabled-bg-color: #3B4455;\n",
              "      --disabled-fill-color: #666;\n",
              "  }\n",
              "\n",
              "  .colab-df-quickchart {\n",
              "    background-color: var(--bg-color);\n",
              "    border: none;\n",
              "    border-radius: 50%;\n",
              "    cursor: pointer;\n",
              "    display: none;\n",
              "    fill: var(--fill-color);\n",
              "    height: 32px;\n",
              "    padding: 0;\n",
              "    width: 32px;\n",
              "  }\n",
              "\n",
              "  .colab-df-quickchart:hover {\n",
              "    background-color: var(--hover-bg-color);\n",
              "    box-shadow: 0 1px 2px rgba(60, 64, 67, 0.3), 0 1px 3px 1px rgba(60, 64, 67, 0.15);\n",
              "    fill: var(--button-hover-fill-color);\n",
              "  }\n",
              "\n",
              "  .colab-df-quickchart-complete:disabled,\n",
              "  .colab-df-quickchart-complete:disabled:hover {\n",
              "    background-color: var(--disabled-bg-color);\n",
              "    fill: var(--disabled-fill-color);\n",
              "    box-shadow: none;\n",
              "  }\n",
              "\n",
              "  .colab-df-spinner {\n",
              "    border: 2px solid var(--fill-color);\n",
              "    border-color: transparent;\n",
              "    border-bottom-color: var(--fill-color);\n",
              "    animation:\n",
              "      spin 1s steps(1) infinite;\n",
              "  }\n",
              "\n",
              "  @keyframes spin {\n",
              "    0% {\n",
              "      border-color: transparent;\n",
              "      border-bottom-color: var(--fill-color);\n",
              "      border-left-color: var(--fill-color);\n",
              "    }\n",
              "    20% {\n",
              "      border-color: transparent;\n",
              "      border-left-color: var(--fill-color);\n",
              "      border-top-color: var(--fill-color);\n",
              "    }\n",
              "    30% {\n",
              "      border-color: transparent;\n",
              "      border-left-color: var(--fill-color);\n",
              "      border-top-color: var(--fill-color);\n",
              "      border-right-color: var(--fill-color);\n",
              "    }\n",
              "    40% {\n",
              "      border-color: transparent;\n",
              "      border-right-color: var(--fill-color);\n",
              "      border-top-color: var(--fill-color);\n",
              "    }\n",
              "    60% {\n",
              "      border-color: transparent;\n",
              "      border-right-color: var(--fill-color);\n",
              "    }\n",
              "    80% {\n",
              "      border-color: transparent;\n",
              "      border-right-color: var(--fill-color);\n",
              "      border-bottom-color: var(--fill-color);\n",
              "    }\n",
              "    90% {\n",
              "      border-color: transparent;\n",
              "      border-bottom-color: var(--fill-color);\n",
              "    }\n",
              "  }\n",
              "</style>\n",
              "\n",
              "      <script>\n",
              "        async function quickchart(key) {\n",
              "          const quickchartButtonEl =\n",
              "            document.querySelector('#' + key + ' button');\n",
              "          quickchartButtonEl.disabled = true;  // To prevent multiple clicks.\n",
              "          quickchartButtonEl.classList.add('colab-df-spinner');\n",
              "          try {\n",
              "            const charts = await google.colab.kernel.invokeFunction(\n",
              "                'suggestCharts', [key], {});\n",
              "          } catch (error) {\n",
              "            console.error('Error during call to suggestCharts:', error);\n",
              "          }\n",
              "          quickchartButtonEl.classList.remove('colab-df-spinner');\n",
              "          quickchartButtonEl.classList.add('colab-df-quickchart-complete');\n",
              "        }\n",
              "        (() => {\n",
              "          let quickchartButtonEl =\n",
              "            document.querySelector('#df-712e2eb0-7867-42de-8f71-673f449cc440 button');\n",
              "          quickchartButtonEl.style.display =\n",
              "            google.colab.kernel.accessAllowed ? 'block' : 'none';\n",
              "        })();\n",
              "      </script>\n",
              "    </div>\n",
              "\n",
              "    </div>\n",
              "  </div>\n"
            ],
            "application/vnd.google.colaboratory.intrinsic+json": {
              "type": "dataframe",
              "summary": "{\n  \"name\": \"# c) most frequent value (top) and its frequency (freq)\",\n  \"rows\": 11,\n  \"fields\": [\n    {\n      \"column\": \"eval\",\n      \"properties\": {\n        \"dtype\": \"category\",\n        \"num_unique_values\": 4,\n        \"samples\": [\n          5,\n          \"2025\",\n          \"10000\"\n        ],\n        \"semantic_type\": \"\",\n        \"description\": \"\"\n      }\n    },\n    {\n      \"column\": \"review\",\n      \"properties\": {\n        \"dtype\": \"category\",\n        \"num_unique_values\": 4,\n        \"samples\": [\n          8608,\n          \"51\",\n          \"10000\"\n        ],\n        \"semantic_type\": \"\",\n        \"description\": \"\"\n      }\n    },\n    {\n      \"column\": \"#chars\",\n      \"properties\": {\n        \"dtype\": \"number\",\n        \"std\": 3524.2086428762213,\n        \"min\": 1.0,\n        \"max\": 10000.0,\n        \"num_unique_values\": 8,\n        \"samples\": [\n          23.086,\n          19.0,\n          10000.0\n        ],\n        \"semantic_type\": \"\",\n        \"description\": \"\"\n      }\n    },\n    {\n      \"column\": \"#words\",\n      \"properties\": {\n        \"dtype\": \"number\",\n        \"std\": 3533.2658678940466,\n        \"min\": 1.0,\n        \"max\": 10000.0,\n        \"num_unique_values\": 8,\n        \"samples\": [\n          4.2322,\n          4.0,\n          10000.0\n        ],\n        \"semantic_type\": \"\",\n        \"description\": \"\"\n      }\n    },\n    {\n      \"column\": \"rate\",\n      \"properties\": {\n        \"dtype\": \"number\",\n        \"std\": 3534.5541401231158,\n        \"min\": 1.0,\n        \"max\": 10000.0,\n        \"num_unique_values\": 8,\n        \"samples\": [\n          2.9904,\n          3.0,\n          10000.0\n        ],\n        \"semantic_type\": \"\",\n        \"description\": \"\"\n      }\n    },\n    {\n      \"column\": \"polarity\",\n      \"properties\": {\n        \"dtype\": \"number\",\n        \"std\": 3535.4795015741247,\n        \"min\": -1.0,\n        \"max\": 10000.0,\n        \"num_unique_values\": 7,\n        \"samples\": [\n          10000.0,\n          0.16701738670318972,\n          0.5\n        ],\n        \"semantic_type\": \"\",\n        \"description\": \"\"\n      }\n    },\n    {\n      \"column\": \"sign\",\n      \"properties\": {\n        \"dtype\": \"category\",\n        \"num_unique_values\": 4,\n        \"samples\": [\n          3,\n          \"4464\",\n          \"10000\"\n        ],\n        \"semantic_type\": \"\",\n        \"description\": \"\"\n      }\n    }\n  ]\n}"
            }
          },
          "metadata": {},
          "execution_count": 10
        }
      ]
    },
    {
      "cell_type": "code",
      "execution_count": 19,
      "id": "b53ff4cb-a240-492d-b20b-8f5fa3c75311",
      "metadata": {
        "colab": {
          "base_uri": "https://localhost:8080/",
          "height": 579
        },
        "id": "b53ff4cb-a240-492d-b20b-8f5fa3c75311",
        "outputId": "d9c218ca-656d-42b6-bd8f-f5263501394c"
      },
      "outputs": [
        {
          "output_type": "execute_result",
          "data": {
            "text/plain": [
              "rate  sign    \n",
              "5     positive    1365\n",
              "4     positive    1302\n",
              "1     neutral     1014\n",
              "3     positive     994\n",
              "2     neutral      962\n",
              "3     neutral      740\n",
              "1     negative     727\n",
              "4     neutral      553\n",
              "5     neutral      545\n",
              "2     positive     526\n",
              "      negative     509\n",
              "3     negative     291\n",
              "1     positive     277\n",
              "4     negative     128\n",
              "5     negative      67\n",
              "Name: count, dtype: int64"
            ],
            "text/html": [
              "<div>\n",
              "<style scoped>\n",
              "    .dataframe tbody tr th:only-of-type {\n",
              "        vertical-align: middle;\n",
              "    }\n",
              "\n",
              "    .dataframe tbody tr th {\n",
              "        vertical-align: top;\n",
              "    }\n",
              "\n",
              "    .dataframe thead th {\n",
              "        text-align: right;\n",
              "    }\n",
              "</style>\n",
              "<table border=\"1\" class=\"dataframe\">\n",
              "  <thead>\n",
              "    <tr style=\"text-align: right;\">\n",
              "      <th></th>\n",
              "      <th></th>\n",
              "      <th>count</th>\n",
              "    </tr>\n",
              "    <tr>\n",
              "      <th>rate</th>\n",
              "      <th>sign</th>\n",
              "      <th></th>\n",
              "    </tr>\n",
              "  </thead>\n",
              "  <tbody>\n",
              "    <tr>\n",
              "      <th>5</th>\n",
              "      <th>positive</th>\n",
              "      <td>1365</td>\n",
              "    </tr>\n",
              "    <tr>\n",
              "      <th>4</th>\n",
              "      <th>positive</th>\n",
              "      <td>1302</td>\n",
              "    </tr>\n",
              "    <tr>\n",
              "      <th>1</th>\n",
              "      <th>neutral</th>\n",
              "      <td>1014</td>\n",
              "    </tr>\n",
              "    <tr>\n",
              "      <th>3</th>\n",
              "      <th>positive</th>\n",
              "      <td>994</td>\n",
              "    </tr>\n",
              "    <tr>\n",
              "      <th>2</th>\n",
              "      <th>neutral</th>\n",
              "      <td>962</td>\n",
              "    </tr>\n",
              "    <tr>\n",
              "      <th>3</th>\n",
              "      <th>neutral</th>\n",
              "      <td>740</td>\n",
              "    </tr>\n",
              "    <tr>\n",
              "      <th>1</th>\n",
              "      <th>negative</th>\n",
              "      <td>727</td>\n",
              "    </tr>\n",
              "    <tr>\n",
              "      <th>4</th>\n",
              "      <th>neutral</th>\n",
              "      <td>553</td>\n",
              "    </tr>\n",
              "    <tr>\n",
              "      <th>5</th>\n",
              "      <th>neutral</th>\n",
              "      <td>545</td>\n",
              "    </tr>\n",
              "    <tr>\n",
              "      <th rowspan=\"2\" valign=\"top\">2</th>\n",
              "      <th>positive</th>\n",
              "      <td>526</td>\n",
              "    </tr>\n",
              "    <tr>\n",
              "      <th>negative</th>\n",
              "      <td>509</td>\n",
              "    </tr>\n",
              "    <tr>\n",
              "      <th>3</th>\n",
              "      <th>negative</th>\n",
              "      <td>291</td>\n",
              "    </tr>\n",
              "    <tr>\n",
              "      <th>1</th>\n",
              "      <th>positive</th>\n",
              "      <td>277</td>\n",
              "    </tr>\n",
              "    <tr>\n",
              "      <th>4</th>\n",
              "      <th>negative</th>\n",
              "      <td>128</td>\n",
              "    </tr>\n",
              "    <tr>\n",
              "      <th>5</th>\n",
              "      <th>negative</th>\n",
              "      <td>67</td>\n",
              "    </tr>\n",
              "  </tbody>\n",
              "</table>\n",
              "</div><br><label><b>dtype:</b> int64</label>"
            ]
          },
          "metadata": {},
          "execution_count": 19
        }
      ],
      "source": [
        "# You can also check the number of occurrences of each unique combinations.\n",
        "# Example:\n",
        "df[[\"rate\",'sign']].value_counts()"
      ]
    },
    {
      "cell_type": "markdown",
      "source": [
        "**Exercise: Explain the empty cell**"
      ],
      "metadata": {
        "id": "HU6msxUUksNu"
      },
      "id": "HU6msxUUksNu"
    },
    {
      "cell_type": "markdown",
      "source": [
        "## 2.2 Checking the distributions"
      ],
      "metadata": {
        "id": "hN8PczHTE8aP"
      },
      "id": "hN8PczHTE8aP"
    },
    {
      "cell_type": "markdown",
      "source": [
        "There are two major options:\n",
        "\n",
        "- empirical distributions given by relative frequencies\n",
        "- theoretical distributions (e.g., binomial, uniform, poisson) <-- aproximations\n",
        "\n",
        "We are only going to follow the empirical approach. However, first let us see how to find the uncertainty of a distribution."
      ],
      "metadata": {
        "id": "Q9AX6Y-EFB5_"
      },
      "id": "Q9AX6Y-EFB5_"
    },
    {
      "cell_type": "markdown",
      "source": [
        "### 2.2.1 Uncertainty of a distribution"
      ],
      "metadata": {
        "id": "mQx4brefFipo"
      },
      "id": "mQx4brefFipo"
    },
    {
      "cell_type": "code",
      "source": [
        "# You can use the Shannon entropy to measure the uncertainty or\n",
        "# unpredictability in a distribution (how diverse the values are in each column):\n",
        "# - High entropy: values are more evenly distributed (less predictable).\n",
        "# - Low entropy: one or few values dominate (more predictable).\n",
        "# -- Minimum entropy = 0 (all values are the same)\n",
        "\n",
        "print(round(scipy.stats.entropy(df['rate'].value_counts()), 2))\n",
        "\n",
        "print(round(scipy.stats.entropy(df['sign'].value_counts()), 2))"
      ],
      "metadata": {
        "colab": {
          "base_uri": "https://localhost:8080/"
        },
        "id": "weAs462iFt5r",
        "outputId": "fc3fb3f3-48ea-4ce8-978d-3d5712460314"
      },
      "id": "weAs462iFt5r",
      "execution_count": 12,
      "outputs": [
        {
          "output_type": "stream",
          "name": "stdout",
          "text": [
            "1.61\n",
            "1.03\n"
          ]
        }
      ]
    },
    {
      "cell_type": "markdown",
      "source": [
        "**Exercise: Comment on the previous results**"
      ],
      "metadata": {
        "id": "KlBHPKCcF21x"
      },
      "id": "KlBHPKCcF21x"
    },
    {
      "cell_type": "markdown",
      "source": [
        "### 2.2.2 Probability Distributions of Continuous Variables (or Probability Density Function)"
      ],
      "metadata": {
        "id": "MZIypmE5GH3I"
      },
      "id": "MZIypmE5GH3I"
    },
    {
      "cell_type": "markdown",
      "source": [
        "We will use and histogram and KDE:\n",
        "\n",
        "Histogram = \"how many values fall in each bucket?\"\n",
        "KDE = \"what does the smooth underlying distribution look like?\""
      ],
      "metadata": {
        "id": "j2Qrhew5GHeK"
      },
      "id": "j2Qrhew5GHeK"
    },
    {
      "cell_type": "code",
      "source": [
        "# 1, 3: 1 row and 3 columns of subplots\n",
        "# figsize=(16, 2): sets the overall figure size: 16 inches wide and 2 inches tall.\n",
        "# fig: the overall figure object that contains all subplots.\n",
        "# ax: an array of the 3 axes objects, one for each subplot,\n",
        "# which you can use individually to plot different data.\n",
        "\n",
        "fig, ax = plt.subplots(1, 3, figsize=(16, 2))\n",
        "\n",
        "for i, col in enumerate(['polarity', '#chars', '#words']):\n",
        "   # plotting the relative histograms and smooth estimates using kernel density\n",
        "   # estimation (KDE)\n",
        "   # .plot.hist(...): creates a histogram.\n",
        "   # bins=10: divides the data range into 10 intervals (bars).\n",
        "   # density=True: normalizes the histogram so the area sums to 1\n",
        "   # (y-axis shows probability density instead of raw counts).\n",
        "   # ax=ax[i]: force to draw the plot on an existing axis\n",
        "    values = df[df[col] < np.percentile(df[col],99)][col] if col.startswith(\"#\") else df[col]\n",
        "\n",
        "    values.plot.hist(bins=10, density=True, ax=ax[i])\n",
        "    values.plot.kde(bw_method=0.2, ax=ax[i], xlim=(values.min(),values.max()), title=col)\n",
        "\n",
        "# Note/remmember that:\n",
        "# - density refers to the relative frequency of values per unit rather than the absolute count.\n",
        "# In a regular histogram, the y-axis shows counts (how many times each bin occurs).\n",
        "# In a density histogram (density=True in pandas/matplotlib), the y-axis is scaled so that the area under the histogram sums to 1."
      ],
      "metadata": {
        "colab": {
          "base_uri": "https://localhost:8080/",
          "height": 163
        },
        "id": "iX3KxwamGDWm",
        "outputId": "ecc76647-19cb-4dc9-a90f-5e09afe33505"
      },
      "id": "iX3KxwamGDWm",
      "execution_count": 13,
      "outputs": [
        {
          "output_type": "display_data",
          "data": {
            "text/plain": [
              "<Figure size 1600x200 with 3 Axes>"
            ],
            "image/png": "[encoded data removed]"
          },
          "metadata": {}
        }
      ]
    },
    {
      "cell_type": "markdown",
      "source": [
        "**Exercise: Comment on the previous results**"
      ],
      "metadata": {
        "id": "tZa3rvWEGj1h"
      },
      "id": "tZa3rvWEGj1h"
    },
    {
      "cell_type": "markdown",
      "source": [
        "### 2.2.3 Probability Distributions of Categorial Variables (or Probability Mass Function)"
      ],
      "metadata": {
        "id": "1g2pgIjIGbYX"
      },
      "id": "1g2pgIjIGbYX"
    },
    {
      "cell_type": "code",
      "source": [
        "fig, ax = plt.subplots(1, 2, figsize=(16,2))\n",
        "\n",
        "# plotting the relative frequencies of the ordinal variables: tag and level\n",
        "for i, col in enumerate(['rate','sign']):\n",
        "    (df[col].value_counts()/df.shape[0]).plot(kind='bar',ax=ax[i])"
      ],
      "metadata": {
        "colab": {
          "base_uri": "https://localhost:8080/",
          "height": 194
        },
        "id": "6Qubsk1CGgSM",
        "outputId": "2b7c2d5f-7f0d-43b5-8b9c-95282bfe4524"
      },
      "id": "6Qubsk1CGgSM",
      "execution_count": 14,
      "outputs": [
        {
          "output_type": "display_data",
          "data": {
            "text/plain": [
              "<Figure size 1600x200 with 2 Axes>"
            ],
            "image/png": "[encoded data removed]"
          },
          "metadata": {}
        }
      ]
    },
    {
      "cell_type": "markdown",
      "source": [
        "**Exercise: Comment on the previous results**"
      ],
      "metadata": {
        "id": "mHbmn4QmGpBS"
      },
      "id": "mHbmn4QmGpBS"
    },
    {
      "cell_type": "markdown",
      "source": [
        "# Before we move on"
      ],
      "metadata": {
        "id": "laF_azfZHDDr"
      },
      "id": "laF_azfZHDDr"
    },
    {
      "cell_type": "markdown",
      "source": [
        "We are going to perform correlation tests, used when both variables are numeric or ordinal. They measure how strongly and in what direction the variables move together.\n",
        "\n",
        "| Correlation     | Data type          | Detects                | Notes                                                                    |\n",
        "| --------------- | ------------------ | ---------------------- | ------------------------------------------------------------------------ |\n",
        "| **Pearson**     | Numeric            | Linear relationship    | Sensitive to outliers, requires roughly straight-line pattern            |\n",
        "| **Spearman**    | Numeric or ordinal | Monotonic relationship | Can detect non-linear trends that are consistently increasing/decreasing |\n",
        "| **Kendall tau** | Numeric or ordinal | Monotonic relationship | Measures concordance between ranks; robust to small samples and ties     |\n",
        "\n",
        "The null hypothesis (H₀) of a correlation test is that there is no correlation\n",
        "between variables (corr=0), hence low p-values (p≤α) attest the existence of an association.\n",
        "\n",
        "Notice that:\n",
        "1. High results of a correlation test (in absolute value) may not necessary ensure statistical significance\n",
        "\n",
        "      1.1. Common in small samples!\n",
        "\n",
        "      1.2. For instance, a correlation of 0.8 in a tiny dataset could be due to chance\n",
        "\n",
        "2. Similarly, low results of a correlation test can be statistically significant\n",
        "\n",
        "      2.1 For instance, a correlation of 0.2 in a very large dataset might be statistically reliable.\n",
        "\n",
        "Thus: always access the p-value in addition to the coefficient.\n",
        "\n",
        "Let us see some examples."
      ],
      "metadata": {
        "id": "32VzBIVGJSzE"
      },
      "id": "32VzBIVGJSzE"
    },
    {
      "cell_type": "code",
      "source": [
        "# Two examples not related with the reviews corpus\n",
        "# - Non-linear example: y values grow in a non-linear way compared to the x values\n",
        "# Example: from 10 to 1000 is a huge jump\n",
        "# - Linear unordered example: x and y follow a linear pattern, but the points are unordered\n",
        "\n",
        "cases = [('non-linear example',[0, 1, 2, 3, 4], [0, 1, 10, 1000, 1001]),\n",
        "         ('linear unordered example',[0, 0.1, 2, 3, 3.1], [0.1, 0,2, 3.1, 3])]"
      ],
      "metadata": {
        "id": "A4UCZvdEL0ul"
      },
      "id": "A4UCZvdEL0ul",
      "execution_count": 15,
      "outputs": []
    },
    {
      "cell_type": "code",
      "source": [
        "import scipy.stats\n",
        "\n",
        "def run_cases(cases):\n",
        "  alpha = 0.05  # significance level\n",
        "\n",
        "  for name, v1, v2 in cases:\n",
        "    pearson = scipy.stats.pearsonr(v1, v2)\n",
        "    spearman = scipy.stats.spearmanr(v1, v2)\n",
        "    tau = scipy.stats.kendalltau(v1, v2)\n",
        "\n",
        "    # coefficients\n",
        "    print(\"\\n\\nCoefficients for the %s:\" % name)\n",
        "    print(\"  Pearson     = %.3f\" % pearson[0])\n",
        "    print(\"  Spearman    = %.3f\" % spearman[0])\n",
        "    print(\"  Kendall tau = %.3f\" % tau[0])\n",
        "\n",
        "    # p-values\n",
        "    print(\"\\nP-values (statistical significance) for the %s:\" % name)\n",
        "    print(\"  Pearson     = %.3f\" % pearson[1])\n",
        "    print(\"  Spearman    = %.3f\" % spearman[1])\n",
        "    print(\"  Kendall tau = %.3f\" % tau[1])\n",
        "\n",
        "    # hypothesis test results\n",
        "    print(\"\\nHypothesis test results (H0: no correlation, corr = 0):\")\n",
        "    print(\"  Pearson     → %s\" % (\"Reject H0\" if pearson[1] <= alpha else \"Fail to reject H0\"))\n",
        "    print(\"  Spearman    → %s\" % (\"Reject H0\" if spearman[1] <= alpha else \"Fail to reject H0\"))\n",
        "    print(\"  Kendall tau → %s\" % (\"Reject H0\" if tau[1] <= alpha else \"Fail to reject H0\"))"
      ],
      "metadata": {
        "id": "J56h-h4FL1tU"
      },
      "id": "J56h-h4FL1tU",
      "execution_count": 16,
      "outputs": []
    },
    {
      "cell_type": "code",
      "source": [
        "run_cases(cases)"
      ],
      "metadata": {
        "colab": {
          "base_uri": "https://localhost:8080/"
        },
        "id": "jyFLwK-_SARL",
        "outputId": "655adf8a-0023-4cde-98a6-33a0726d041c"
      },
      "id": "jyFLwK-_SARL",
      "execution_count": 17,
      "outputs": [
        {
          "output_type": "stream",
          "name": "stdout",
          "text": [
            "\n",
            "\n",
            "Coefficients for the non-linear example:\n",
            "  Pearson     = 0.869\n",
            "  Spearman    = 1.000\n",
            "  Kendall tau = 1.000\n",
            "\n",
            "P-values (statistical significance) for the non-linear example:\n",
            "  Pearson     = 0.056\n",
            "  Spearman    = 0.000\n",
            "  Kendall tau = 0.017\n",
            "\n",
            "Hypothesis test results (H0: no correlation, corr = 0):\n",
            "  Pearson     → Fail to reject H0\n",
            "  Spearman    → Reject H0\n",
            "  Kendall tau → Reject H0\n",
            "\n",
            "\n",
            "Coefficients for the linear unordered example:\n",
            "  Pearson     = 0.998\n",
            "  Spearman    = 0.800\n",
            "  Kendall tau = 0.600\n",
            "\n",
            "P-values (statistical significance) for the linear unordered example:\n",
            "  Pearson     = 0.000\n",
            "  Spearman    = 0.104\n",
            "  Kendall tau = 0.233\n",
            "\n",
            "Hypothesis test results (H0: no correlation, corr = 0):\n",
            "  Pearson     → Reject H0\n",
            "  Spearman    → Fail to reject H0\n",
            "  Kendall tau → Fail to reject H0\n"
          ]
        }
      ]
    },
    {
      "cell_type": "markdown",
      "source": [
        "**Exercise: Comment on the previous results**\n",
        "\n",
        "- There is evidence of a linear correlation (Pearson), but it may not be a strong monotonic relationship, or the sample may be small/noisy, as rank-based correlation (Spearman/Kendall) doesn't confirm a robust monotonic trend."
      ],
      "metadata": {
        "id": "AmSO2i0LewDg"
      },
      "id": "AmSO2i0LewDg"
    },
    {
      "cell_type": "markdown",
      "source": [
        "# 3. Checking the relationship between the review rating and the review polarity"
      ],
      "metadata": {
        "id": "4HzpBTp-McAK"
      },
      "id": "4HzpBTp-McAK"
    },
    {
      "cell_type": "code",
      "source": [
        "#r, p = spearmanr(df['polarity'], df['rate']) #, nan_policy='omit')\n",
        "cases = [('polarity_vs_rate', df['polarity'], df['rate'])]\n",
        "run_cases(cases)"
      ],
      "metadata": {
        "colab": {
          "base_uri": "https://localhost:8080/"
        },
        "id": "Pl1P_vLYfBqU",
        "outputId": "ca0a3bad-a86c-43d5-f49d-4267ce5fdeb4"
      },
      "id": "Pl1P_vLYfBqU",
      "execution_count": 18,
      "outputs": [
        {
          "output_type": "stream",
          "name": "stdout",
          "text": [
            "\n",
            "\n",
            "Coefficients for the polarity_vs_rate:\n",
            "  Pearson     = 0.504\n",
            "  Spearman    = 0.499\n",
            "  Kendall tau = 0.399\n",
            "\n",
            "P-values (statistical significance) for the polarity_vs_rate:\n",
            "  Pearson     = 0.000\n",
            "  Spearman    = 0.000\n",
            "  Kendall tau = 0.000\n",
            "\n",
            "Hypothesis test results (H0: no correlation, corr = 0):\n",
            "  Pearson     → Reject H0\n",
            "  Spearman    → Reject H0\n",
            "  Kendall tau → Reject H0\n"
          ]
        }
      ]
    },
    {
      "cell_type": "markdown",
      "source": [
        "**Exercise: Comment on the previous results**"
      ],
      "metadata": {
        "id": "zzH3BhQqoplr"
      },
      "id": "zzH3BhQqoplr"
    }
  ],
  "metadata": {
    "kernelspec": {
      "display_name": "cad",
      "language": "python",
      "name": "cad"
    },
    "language_info": {
      "codemirror_mode": {
        "name": "ipython",
        "version": 3
      },
      "file_extension": ".py",
      "mimetype": "text/x-python",
      "name": "python",
      "nbconvert_exporter": "python",
      "pygments_lexer": "ipython3",
      "version": "3.12.4"
    },
    "colab": {
      "provenance": []
    }
  },
  "nbformat": 4,
  "nbformat_minor": 5
}