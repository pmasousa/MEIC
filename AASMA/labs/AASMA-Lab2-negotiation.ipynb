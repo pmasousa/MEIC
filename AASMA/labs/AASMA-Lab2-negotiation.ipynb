{
 "cells": [
  {
   "cell_type": "markdown",
   "metadata": {
    "id": "s5o7JO7zOmz8"
   },
   "source": [
    "This file defines a basic construction game, inspired in the exchange phase of Catan. There are 3 players, at each turn one of the player receives NRPP resources of NR types. With these resources they can then make some constructions. There are two types of constructions either [2,1] (two resources of the first type and one of the second) or [1,2]. They can exchange resources with the other players.   \n",
    "\n",
    "The class Game defines the rules of the game and provide an infrastructure to run a game. The class Player defines the player behavior in terms of proposals it makes and proposals it accepts. The function propose defines the proposals to other players, and the function answerProposal defines if the player accepts or not an exchange. Three behaviors are already defined 'yesman' that always accepts proposals, 'fair' that only accepts fair or for profit exchanges and 'profit' that only accepts exchanges if they make a profit.\n",
    "\n",
    "A player can make multiple proposal but only the first one accepted is executed. So the player needs to provide the proposals in the order of priority.\n",
    "\n",
    "In the lab you can explore different strategies for the player. For instance collusion, take into consideration the points of each players, or others. For the project more complex strategies would need to be explored for instance long-term thinking, adaptative methods.\n",
    "\n",
    "**This is just a skeleton to explore negotiation in a semi-cooperative game. The code itself is the documentation, and it is not bug free. The rules of the game can be changed if it provides opportunities to study other approaches.**"
   ]
  },
  {
   "cell_type": "code",
   "execution_count": 8,
   "metadata": {
    "executionInfo": {
     "elapsed": 43,
     "status": "ok",
     "timestamp": 1744713796921,
     "user": {
      "displayName": "Manuel Lopes",
      "userId": "09390394117258312728"
     },
     "user_tz": -60
    },
    "id": "jc0C1I2pC1gt"
   },
   "outputs": [],
   "source": [
    "import numpy as np\n",
    "import matplotlib.pyplot as plt\n",
    "\n",
    "class Player:\n",
    "    # policies\n",
    "    # yesman - always accepts proposals\n",
    "    # fair   - only fairorprofit\n",
    "    # profit - only profit\n",
    "    def __init__(self, pid, NR, NP, recipes, policy = 'yesman'):\n",
    "        self.pid = pid\n",
    "        self.NR = NR\n",
    "        self.res = np.zeros(self.NR)\n",
    "        self.otherplayer = []\n",
    "        self.recipes = recipes\n",
    "        self.policy = policy\n",
    "        for ii in range(NP):\n",
    "            if ii == pid:\n",
    "                continue\n",
    "            self.otherplayer.append( ii )\n",
    "\n",
    "    def checkifpossibleexchange(self, resourcespplayer, exchanges):\n",
    "        # print(\"checkifpossibleexchange\", exchanges)\n",
    "        filteredexchanges = []\n",
    "        for proposedto in exchanges:\n",
    "            # print(\"proposedto \", proposedto)\n",
    "            # print(\"resourcespplayer proposedto[1]\", resourcespplayer[proposedto[0],:],\" \",proposedto[1])\n",
    "            # print(np.all(resourcespplayer[proposedto[0],:]+proposedto[1]>0),\" \",resourcespplayer[proposedto[0],:]+proposedto[1])\n",
    "            if np.all(resourcespplayer[proposedto[0],:]+proposedto[1]>=0):\n",
    "                filteredexchanges.append(proposedto)\n",
    "        # print(\"checkifpossibleexchange\", exchanges, filteredexchanges)\n",
    "        return filteredexchanges\n",
    "\n",
    "\n",
    "\n",
    "    def updateResources(self, res):\n",
    "        self.res = res\n",
    "        return\n",
    "\n",
    "    def propose(self, resourcespplayer):\n",
    "\n",
    "        # choose opponent to suggest exchange first\n",
    "        order = [self.otherplayer[0], self.otherplayer[1]]\n",
    "        # print(\"order\", order)\n",
    "\n",
    "        for rr in [0,1]:\n",
    "            resourcestomakerecipe = self.res-self.recipes[rr]\n",
    "            # print(\"propose \", self.res, self.recipes[rr], resourcestomakerecipe)\n",
    "            exchanges = []\n",
    "            if np.sum(np.abs(resourcestomakerecipe))<2: #illegal to give a card\n",
    "                continue\n",
    "            else:\n",
    "                if np.sum(resourcestomakerecipe)==0: # exchange one to one\n",
    "                    exchanges = [ [order[0], resourcestomakerecipe], [order[1], resourcestomakerecipe]]\n",
    "                elif np.sum(resourcestomakerecipe)==1: # exchange two to one\n",
    "                    exchanges = [ [order[0], resourcestomakerecipe], [order[1], resourcestomakerecipe]]\n",
    "                elif np.sum(resourcestomakerecipe)==-1: # exchange one to two\n",
    "                    exchanges = [ [order[0], resourcestomakerecipe], [order[1], resourcestomakerecipe]]\n",
    "\n",
    "        # print(\"exchanges a\", exchanges)\n",
    "        # only one exchange can be made\n",
    "        if exchanges:\n",
    "            exchanges = self.checkifpossibleexchange(resourcespplayer, exchanges)\n",
    "        # print(\"exchanges b\", exchanges)\n",
    "\n",
    "        return exchanges\n",
    "\n",
    "    def answerProposal(self, proposal):\n",
    "\n",
    "        if self.policy == 'yesman':\n",
    "            return True\n",
    "\n",
    "        qualityofproposal = np.sum(proposal[1])\n",
    "\n",
    "        if self.policy == 'fair':\n",
    "            if qualityofproposal >= 0:\n",
    "                return True\n",
    "\n",
    "        if self.policy == 'profit':\n",
    "            if qualityofproposal > 0:\n",
    "                return True\n",
    "\n",
    "        return False\n",
    "\n",
    "    def __str__(self):\n",
    "        return  str(self.id)+\" \"\n",
    "\n",
    "\n"
   ]
  },
  {
   "cell_type": "code",
   "execution_count": 9,
   "metadata": {
    "id": "-QxoAh-LDLWF"
   },
   "outputs": [],
   "source": [
    "\n",
    "class Game:\n",
    "    def __init__(self, NR, NRPP, NP):# @title Class definition for the agents\n",
    "        self.NR = NR\n",
    "        self.NRPP = NRPP\n",
    "        if np.isscalar(NP):\n",
    "            self.NP = NP\n",
    "            playertypes = ['yesman','yesman','yesman']\n",
    "        else:\n",
    "            self.NP = len(NP)\n",
    "            playertypes = NP\n",
    "        self.recipes = [np.array([2,1], dtype=np.int8), np.array([1,2], dtype=np.int8)]\n",
    "\n",
    "        self.turn = 0\n",
    "        self.resourcespplayer = np.zeros((self.NP,self.NR))\n",
    "        self.points = np.zeros(self.NP)\n",
    "\n",
    "        self.P = [Player(0,2,self.NP,self.recipes,policy=playertypes[0]),\n",
    "                  Player(1,2,self.NP,self.recipes,policy=playertypes[1]),\n",
    "                  Player(2,2,self.NP,self.recipes,policy=playertypes[2])]\n",
    "\n",
    "        for ii in range(self.NP):\n",
    "            res = np.random.multinomial(self.NRPP,np.array([1,2])/3)\n",
    "            self.resourcespplayer[ii,:] = res\n",
    "\n",
    "    def playturn(self):\n",
    "        genres = np.random.multinomial(self.NRPP,np.array([1,2])/3)\n",
    "        self.resourcespplayer[self.turn,:] += genres\n",
    "        self.P[self.turn].updateResources(self.resourcespplayer[self.turn,:])\n",
    "        # print(\"turn > \", self.turn, genres)\n",
    "\n",
    "        exchanges = self.P[self.turn].propose(self.resourcespplayer)\n",
    "        # print(\"propose > \", exchanges)\n",
    "\n",
    "        for ii in range(len(exchanges)):\n",
    "            if exchanges[ii][0] == self.turn:\n",
    "                continue\n",
    "            elif self.P[exchanges[ii][0]].answerProposal( exchanges[ii] ):\n",
    "                #process exchanges\n",
    "                # print(\"exchange \", exchanges[ii], \"accepted\")\n",
    "                self.resourcespplayer[exchanges[ii][0],:] += exchanges[ii][1]\n",
    "                self.resourcespplayer[self.turn,:] -= exchanges[ii][1]\n",
    "                self.P[exchanges[ii][0]].updateResources( self.resourcespplayer[exchanges[ii][0],:] )\n",
    "                self.P[self.turn].updateResources( self.resourcespplayer[self.turn,:] )\n",
    "                break\n",
    "            else:\n",
    "                pass\n",
    "\n",
    "        self.resourcespplayer[self.turn,:] = np.minimum( self.resourcespplayer[self.turn,:], 5)\n",
    "\n",
    "        return\n",
    "\n",
    "    def nextturn(self):\n",
    "\n",
    "        #build\n",
    "        m0 = np.min(self.resourcespplayer[self.turn,:]//self.recipes[0])\n",
    "        self.resourcespplayer[self.turn,:] -= self.recipes[0]*m0\n",
    "        self.points[self.turn] += 2*m0\n",
    "\n",
    "        m1 = np.min(self.resourcespplayer[self.turn,:]//self.recipes[1])\n",
    "        self.resourcespplayer[self.turn,:] -= self.recipes[1]*m1\n",
    "        self.points[self.turn] += m1\n",
    "        # print(\"build \", m0, \" recipe 0\", m1, \" recipe  1\")\n",
    "\n",
    "        self.turn = (self.turn+1)%self.NP\n",
    "        return\n",
    "\n",
    "    def __str__(self):\n",
    "        ret = str(self.turn)+\"\\n\"\n",
    "        ret += str(self.resourcespplayer)+\"\\n\"\n",
    "        ret += \"points> \" + str(self.points)\n",
    "        return ret\n"
   ]
  },
  {
   "cell_type": "markdown",
   "metadata": {
    "id": "dyL82hJ8QrXN"
   },
   "source": [
    "The following cell shows how to run a game."
   ]
  },
  {
   "cell_type": "code",
   "execution_count": 10,
   "metadata": {
    "colab": {
     "base_uri": "https://localhost:8080/"
    },
    "executionInfo": {
     "elapsed": 384,
     "status": "ok",
     "timestamp": 1744713797366,
     "user": {
      "displayName": "Manuel Lopes",
      "userId": "09390394117258312728"
     },
     "user_tz": -60
    },
    "id": "DQTizR83D-Y0",
    "outputId": "6e1fe98b-4950-4284-c136-ce9cc9b93e2e"
   },
   "outputs": [
    {
     "name": "stdout",
     "output_type": "stream",
     "text": [
      "1\n",
      "[[0. 5.]\n",
      " [0. 4.]\n",
      " [0. 4.]]\n",
      "points> [107. 112. 108.]\n"
     ]
    }
   ],
   "source": [
    "np.random.seed(1498)\n",
    "g = Game(2,1,['profit','profit','profit'])\n",
    "# 'yesman' - always accepts proposals\n",
    "# 'fair'   - only fairorprofit\n",
    "# 'profit' - only profit\n",
    "\n",
    "# print(g)\n",
    "for tt in range(1000):\n",
    "    g.playturn()\n",
    "    g.nextturn()\n",
    "print(g)"
   ]
  },
  {
   "cell_type": "markdown",
   "metadata": {
    "id": "-WabORTMRbbj"
   },
   "source": [
    "The following cell runs several experiments with different combinations of type of players."
   ]
  },
  {
   "cell_type": "code",
   "execution_count": 11,
   "metadata": {
    "colab": {
     "base_uri": "https://localhost:8080/"
    },
    "executionInfo": {
     "elapsed": 6292,
     "status": "ok",
     "timestamp": 1744713803659,
     "user": {
      "displayName": "Manuel Lopes",
      "userId": "09390394117258312728"
     },
     "user_tz": -60
    },
    "id": "BxoNJY46K7I2",
    "outputId": "8df63fda-58f3-4cd9-e09c-538cc747932c"
   },
   "outputs": [
    {
     "name": "stdout",
     "output_type": "stream",
     "text": [
      "type of agents,     points per player,        mean points\n",
      "['profit', 'profit', 'profit'] [1101. 1106. 1092.] 1100.0\n",
      "['yesman', 'yesman', 'yesman'] [1072. 1104. 1100.] 1092.0\n",
      "['fair', 'fair', 'fair'] [1127. 1091. 1094.] 1104.0\n",
      "['profit', 'yesman', 'yesman'] [1087. 1142. 1137.] 1122.0\n",
      "['profit', 'fair', 'fair'] [1068. 1137. 1129.] 1111.0\n",
      "['fair', 'yesman', 'yesman'] [1135. 1090. 1094.] 1106.0\n",
      "['fair', 'profit', 'profit'] [1220. 1071. 1095.] 1129.0\n",
      "['yesman', 'profit', 'profit'] [1206. 1088. 1081.] 1125.0\n",
      "['yesman', 'fair', 'fair'] [1103. 1100. 1127.] 1110.0\n"
     ]
    }
   ],
   "source": [
    "\n",
    "profiles = [['profit','profit','profit'],\n",
    "         ['yesman','yesman','yesman'],\n",
    "         ['fair','fair','fair'],\n",
    "         ['profit','yesman','yesman'],\n",
    "         ['profit','fair','fair'],\n",
    "         ['fair','yesman','yesman'],\n",
    "         ['fair','profit','profit'],\n",
    "         ['yesman','profit','profit'],\n",
    "         ['yesman','fair','fair']         ]\n",
    "\n",
    "print(\"type of agents,     points per player,        mean points\")\n",
    "for pp in profiles:\n",
    "    g = Game(2,1,pp)\n",
    "    for tt in range(10000):\n",
    "        g.playturn()\n",
    "        g.nextturn()\n",
    "    \n",
    "    print(pp, g.points, np.round(np.mean(g.points),0))"
   ]
  },
  {
   "cell_type": "markdown",
   "metadata": {},
   "source": [
    "**Activities**\n",
    "\n",
    "Analyse the different behaviours. Are the results according to your expactations?\n",
    "\n",
    "What is the best strategy?\n",
    "\n",
    "Suggest, and implement ways to improve the mean points.\n",
    "\n",
    "Suggest a new agent that is able to win against all the other types.\n",
    "\n"
   ]
  }
 ],
 "metadata": {
  "colab": {
   "authorship_tag": "ABX9TyNULZ3TVf+RLArpFG5A7/BP",
   "provenance": []
  },
  "kernelspec": {
   "display_name": "Python 3",
   "name": "python3"
  },
  "language_info": {
   "codemirror_mode": {
    "name": "ipython",
    "version": 3
   },
   "file_extension": ".py",
   "mimetype": "text/x-python",
   "name": "python",
   "nbconvert_exporter": "python",
   "pygments_lexer": "ipython3",
   "version": "3.11.5"
  }
 },
 "nbformat": 4,
 "nbformat_minor": 0
}
