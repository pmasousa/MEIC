{
 "cells": [
  {
   "cell_type": "markdown",
   "metadata": {},
   "source": [
    "# Deep Learning Course 2021\n",
    "\n",
    "# P1: Practical (Python + Numpy + Matplotlib)\n",
    "\n",
    "This Jupyter Notebook consists of the following parts:\n",
    "1. [**Introduction to Jupyter**](#intro_jupyter)\n",
    "2. [**Introduction to Python**](#intro_python)\n",
    "    1. [Basic Notions](#basic_notions)\n",
    "        1. [Expressions](#expressions)\n",
    "        2. [Instructions](#instructions)\n",
    "        3. [Definitions](#definitions)\n",
    "            1. [Functions](#functions)\n",
    "            2. [Classes](#classes)\n",
    "    2. [Structured types in Python](#structured_types)\n",
    "        1. [Strings](#strings)\n",
    "        2. [Lists](#lists)\n",
    "        3. [Tuples](#tuples)\n",
    "        4. [Dictionaries](#dictioneries)\n",
    "        5. [Structured types and for loops](#for)\n",
    "    3. [Modules and namespaces in Python](#modules)\n",
    "3. [**Numpy**](#numpy)\n",
    "    1. [Creating arrays](#creating_arrays)\n",
    "    2. [Basic operations](#basic_operations)\n",
    "    3. [Indexing](#indexing)\n",
    "    4. [Examples](#examples)\n",
    "4. [**Matplotlib**](#matplotlib)\n"
   ]
  },
  {
   "cell_type": "markdown",
   "metadata": {},
   "source": [
    "---\n",
    "<a id='intro_jupyter'></a>\n",
    "# Introduction to Jupyter\n",
    "\n",
    "A jupyter notebook document has the .ipynb extension and is composed of a number of cells. In cells, you can write program code, make marked and unmarked notes. These three types of cells correspond to:\n",
    "    \n",
    "    1. code\n",
    "    2. markdown\n",
    "    3. raw"
   ]
  },
  {
   "cell_type": "markdown",
   "metadata": {},
   "source": [
    "To work with the contents of a cell, use *Edit mode* (turns on by pressing **Enter** after selecting a cell), and to navigate between cells, use *command mode* (turns on by pressing **Esc**).\n",
    "\n",
    "The cell type can be set in command mode either using hotkeys (**y** to code, **m** to markdown, **r** to edit raw text), or in the menu *Cell -> Cell type* ... "
   ]
  },
  {
   "cell_type": "code",
   "execution_count": 8,
   "metadata": {
    "ExecuteTime": {
     "end_time": "2021-10-27T20:55:33.931951Z",
     "start_time": "2021-10-27T20:55:33.929263Z"
    }
   },
   "outputs": [],
   "source": [
    "# cell with code\n",
    "a = 1"
   ]
  },
  {
   "cell_type": "markdown",
   "metadata": {},
   "source": [
    "## cell with markdown text"
   ]
  },
  {
   "cell_type": "raw",
   "metadata": {},
   "source": [
    "cell with raw text"
   ]
  },
  {
   "cell_type": "markdown",
   "metadata": {},
   "source": [
    "After filling the cell, you need to press *Shift + Enter*, this command will process the contents of the cell:   \n",
    "interpret the code or lay out the marked-up text."
   ]
  },
  {
   "cell_type": "code",
   "execution_count": 11,
   "metadata": {
    "ExecuteTime": {
     "end_time": "2021-10-27T20:55:33.982241Z",
     "start_time": "2021-10-27T20:55:33.979690Z"
    }
   },
   "outputs": [],
   "source": [
    "a = 1"
   ]
  },
  {
   "cell_type": "code",
   "execution_count": 12,
   "metadata": {
    "ExecuteTime": {
     "end_time": "2021-10-27T20:55:33.990269Z",
     "start_time": "2021-10-27T20:55:33.987024Z"
    }
   },
   "outputs": [
    {
     "name": "stdout",
     "output_type": "stream",
     "text": [
      "1\n"
     ]
    }
   ],
   "source": [
    "print(a)"
   ]
  },
  {
   "cell_type": "markdown",
   "metadata": {},
   "source": [
    "## A few words about layout\n",
    "[Here](https://athena.brynmawr.edu/jupyter/hub/dblank/public/Jupyter%20Notebook%20Users%20Manual.ipynb) is <s> not </s> a big note on the Markdown markup language. It allows you to:\n",
    "\n",
    "0. Make ordered lists\n",
    "1. #to do ##headers ###different levels\n",
    "3. Highlight *text* <s>when</s> **necessary**\n",
    "4. Add [links](https://athena.brynmawr.edu/jupyter/hub/dblank/public/Jupyter%20Notebook%20Users%20Manual.ipynb)\n",
    "\n",
    "* Create unordered lists\n",
    "\n",
    "Make inserts with LaTex:\n",
    "    \n",
    "$$\n",
    "\\sin(-\\alpha)=-\\sin(\\alpha) \\\\\n",
    "\\arccos(x)=\\arcsin(u) \\\\\n",
    "\\log_n(n)=1 \\\\\n",
    "\\tan(x) = \\frac{\\sin(x)}{\\cos(x)}\n",
    "$$\n",
    "\n",
    "You can also insert images:\n",
    "\n",
    "<!-- <img src = \"http://groups.ist.utl.pt/wwwelab/wiki/images/8/81/Ist.jpg\"> -->\n",
    "\n",
    "<img src = \"https://pmorvalho.github.io/publication/thesis/featured.jpg\">\n",
    "\n"
   ]
  },
  {
   "cell_type": "markdown",
   "metadata": {},
   "source": [
    "---\n",
    "<a id='intro_python'></a>\n",
    "# Introduction to Python\n",
    "\n",
    "**Python** is a high-level programming language that found wide applicability in artificial intelligence, machine learning and data science thanks to the wide range of modules that are available. \n",
    "\n",
    "We provide a quick primer of the language that is (hopefully) enough to get you started in your way to more complex programming. If you have prior programming experience, you will find that the language is quite accessible and easy to work with.\n",
    "\n",
    "\n",
    "<a id='basic_notions'></a>\n",
    "## Basic notions\n",
    "\n",
    "Python code comes in the form of _scripts_ that are typically not _compiled_, but _interpreted_. A script is a sequence of _commands_ which are intepreted sequentially. You can think of the code blocks in a Jupyter notebook as forming a Python script, consisting of the sequence of commands in the code blocks in the order you evaluate them.\n",
    "\n",
    "There are three types of commands in Python: **expressions**, **instructions**, and **definitions**. "
   ]
  },
  {
   "cell_type": "markdown",
   "metadata": {},
   "source": [
    "<a id='expressions'></a>\n",
    "### Expressions\n",
    "\n",
    "_Expressions_ are commands that have a _value_. When Python interprets an expression it returns the corresponding value. Expressions can correspond to _constants_ (such as numbers, logical values, or strings), _compound expressions, function evaluations,_ or _names_. "
   ]
  },
  {
   "cell_type": "markdown",
   "metadata": {
    "ExecuteTime": {
     "end_time": "2021-10-26T13:53:13.794981Z",
     "start_time": "2021-10-26T13:53:13.789248Z"
    }
   },
   "source": [
    "#### Constant expressions"
   ]
  },
  {
   "cell_type": "code",
   "execution_count": 17,
   "metadata": {
    "ExecuteTime": {
     "end_time": "2021-10-27T20:55:34.035256Z",
     "start_time": "2021-10-27T20:55:34.026421Z"
    }
   },
   "outputs": [
    {
     "data": {
      "text/plain": [
       "12345"
      ]
     },
     "execution_count": 17,
     "metadata": {},
     "output_type": "execute_result"
    }
   ],
   "source": [
    "# Integer number\n",
    "12345"
   ]
  },
  {
   "cell_type": "code",
   "execution_count": 18,
   "metadata": {
    "ExecuteTime": {
     "end_time": "2021-10-27T20:55:34.042105Z",
     "start_time": "2021-10-27T20:55:34.038007Z"
    }
   },
   "outputs": [
    {
     "data": {
      "text/plain": [
       "1.2"
      ]
     },
     "execution_count": 18,
     "metadata": {},
     "output_type": "execute_result"
    }
   ],
   "source": [
    "# Floating point number\n",
    "1.2"
   ]
  },
  {
   "cell_type": "code",
   "execution_count": 19,
   "metadata": {
    "ExecuteTime": {
     "end_time": "2021-10-27T20:55:34.049071Z",
     "start_time": "2021-10-27T20:55:34.045265Z"
    }
   },
   "outputs": [
    {
     "data": {
      "text/plain": [
       "'Hello, world!'"
      ]
     },
     "execution_count": 19,
     "metadata": {},
     "output_type": "execute_result"
    }
   ],
   "source": [
    "# A string (strings are delimited either by ' ' or by \" \")\n",
    "'Hello, world!'"
   ]
  },
  {
   "cell_type": "code",
   "execution_count": 20,
   "metadata": {
    "ExecuteTime": {
     "end_time": "2021-10-27T20:55:34.055580Z",
     "start_time": "2021-10-27T20:55:34.051894Z"
    }
   },
   "outputs": [
    {
     "data": {
      "text/plain": [
       "True"
      ]
     },
     "execution_count": 20,
     "metadata": {},
     "output_type": "execute_result"
    }
   ],
   "source": [
    "# Logical values\n",
    "True"
   ]
  },
  {
   "cell_type": "markdown",
   "metadata": {},
   "source": [
    "The character `#` marks a comment: Python ignores everything following that character. Note that, when you evaluate a cell where the last command is an expression, you get the value of the expression as a result.\n",
    "\n",
    "#### Compound expressions\n",
    "\n",
    "Let's now see examples of _compound expressions,_ which typically consist of operations involving simpler expressions."
   ]
  },
  {
   "cell_type": "code",
   "execution_count": 22,
   "metadata": {
    "ExecuteTime": {
     "end_time": "2021-10-27T20:55:34.062305Z",
     "start_time": "2021-10-27T20:55:34.058682Z"
    }
   },
   "outputs": [
    {
     "data": {
      "text/plain": [
       "3"
      ]
     },
     "execution_count": 22,
     "metadata": {},
     "output_type": "execute_result"
    }
   ],
   "source": [
    "# Operations with numbers\n",
    "1 + 2"
   ]
  },
  {
   "cell_type": "code",
   "execution_count": 23,
   "metadata": {
    "ExecuteTime": {
     "end_time": "2021-10-27T20:55:34.068855Z",
     "start_time": "2021-10-27T20:55:34.064790Z"
    }
   },
   "outputs": [
    {
     "data": {
      "text/plain": [
       "-1.0"
      ]
     },
     "execution_count": 23,
     "metadata": {},
     "output_type": "execute_result"
    }
   ],
   "source": [
    "2 - 3."
   ]
  },
  {
   "cell_type": "code",
   "execution_count": 24,
   "metadata": {
    "ExecuteTime": {
     "end_time": "2021-10-27T20:55:34.077288Z",
     "start_time": "2021-10-27T20:55:34.072728Z"
    }
   },
   "outputs": [
    {
     "data": {
      "text/plain": [
       "2.5"
      ]
     },
     "execution_count": 24,
     "metadata": {},
     "output_type": "execute_result"
    }
   ],
   "source": [
    "5 / 2"
   ]
  },
  {
   "cell_type": "code",
   "execution_count": 25,
   "metadata": {
    "ExecuteTime": {
     "end_time": "2021-10-27T20:55:34.084499Z",
     "start_time": "2021-10-27T20:55:34.080030Z"
    }
   },
   "outputs": [
    {
     "data": {
      "text/plain": [
       "-2.2857142857142856"
      ]
     },
     "execution_count": 25,
     "metadata": {},
     "output_type": "execute_result"
    }
   ],
   "source": [
    "2 - (3 + 4.5 * 6) / 7"
   ]
  },
  {
   "cell_type": "code",
   "execution_count": 26,
   "metadata": {
    "ExecuteTime": {
     "end_time": "2021-10-27T20:55:34.091529Z",
     "start_time": "2021-10-27T20:55:34.087080Z"
    }
   },
   "outputs": [
    {
     "data": {
      "text/plain": [
       "'Hello, world!'"
      ]
     },
     "execution_count": 26,
     "metadata": {},
     "output_type": "execute_result"
    }
   ],
   "source": [
    "# Operations with strings\n",
    "'Hello,' + ' ' + 'world!'"
   ]
  },
  {
   "cell_type": "code",
   "execution_count": 27,
   "metadata": {
    "ExecuteTime": {
     "end_time": "2021-10-27T20:55:34.099132Z",
     "start_time": "2021-10-27T20:55:34.094827Z"
    }
   },
   "outputs": [
    {
     "data": {
      "text/plain": [
       "'Hello! Hello! Hello! '"
      ]
     },
     "execution_count": 27,
     "metadata": {},
     "output_type": "execute_result"
    }
   ],
   "source": [
    "'Hello! ' * 3"
   ]
  },
  {
   "cell_type": "code",
   "execution_count": 28,
   "metadata": {
    "ExecuteTime": {
     "end_time": "2021-10-27T20:55:34.105455Z",
     "start_time": "2021-10-27T20:55:34.101810Z"
    }
   },
   "outputs": [
    {
     "data": {
      "text/plain": [
       "True"
      ]
     },
     "execution_count": 28,
     "metadata": {},
     "output_type": "execute_result"
    }
   ],
   "source": [
    "# Logical operations\n",
    "not (True and False)"
   ]
  },
  {
   "cell_type": "code",
   "execution_count": 29,
   "metadata": {
    "ExecuteTime": {
     "end_time": "2021-10-27T20:55:34.112220Z",
     "start_time": "2021-10-27T20:55:34.108324Z"
    }
   },
   "outputs": [
    {
     "data": {
      "text/plain": [
       "True"
      ]
     },
     "execution_count": 29,
     "metadata": {},
     "output_type": "execute_result"
    }
   ],
   "source": [
    "True or False"
   ]
  },
  {
   "cell_type": "code",
   "execution_count": 30,
   "metadata": {
    "ExecuteTime": {
     "end_time": "2021-10-27T20:55:34.118386Z",
     "start_time": "2021-10-27T20:55:34.114697Z"
    }
   },
   "outputs": [
    {
     "data": {
      "text/plain": [
       "False"
      ]
     },
     "execution_count": 30,
     "metadata": {},
     "output_type": "execute_result"
    }
   ],
   "source": [
    "2 > 3.0"
   ]
  },
  {
   "cell_type": "code",
   "execution_count": 31,
   "metadata": {
    "ExecuteTime": {
     "end_time": "2021-10-27T20:55:34.124631Z",
     "start_time": "2021-10-27T20:55:34.120549Z"
    }
   },
   "outputs": [
    {
     "data": {
      "text/plain": [
       "False"
      ]
     },
     "execution_count": 31,
     "metadata": {},
     "output_type": "execute_result"
    }
   ],
   "source": [
    "'abc' == 'a'"
   ]
  },
  {
   "cell_type": "markdown",
   "metadata": {},
   "source": [
    "#### Function evaluation expressions"
   ]
  },
  {
   "cell_type": "code",
   "execution_count": 33,
   "metadata": {
    "ExecuteTime": {
     "end_time": "2021-10-27T20:55:34.131657Z",
     "start_time": "2021-10-27T20:55:34.127499Z"
    }
   },
   "outputs": [
    {
     "data": {
      "text/plain": [
       "3.0"
      ]
     },
     "execution_count": 33,
     "metadata": {},
     "output_type": "execute_result"
    }
   ],
   "source": [
    "# Function: abs (computes the absolute value of a number)\n",
    "abs(-3.)"
   ]
  },
  {
   "cell_type": "code",
   "execution_count": 34,
   "metadata": {
    "ExecuteTime": {
     "end_time": "2021-10-27T20:55:34.137851Z",
     "start_time": "2021-10-27T20:55:34.134286Z"
    }
   },
   "outputs": [
    {
     "data": {
      "text/plain": [
       "3"
      ]
     },
     "execution_count": 34,
     "metadata": {},
     "output_type": "execute_result"
    }
   ],
   "source": [
    "# Function: len (returns the length of a structured type - in this case, a string)\n",
    "len('abc')"
   ]
  },
  {
   "cell_type": "code",
   "execution_count": 35,
   "metadata": {
    "ExecuteTime": {
     "end_time": "2021-10-27T20:55:34.143869Z",
     "start_time": "2021-10-27T20:55:34.140256Z"
    }
   },
   "outputs": [
    {
     "data": {
      "text/plain": [
       "5"
      ]
     },
     "execution_count": 35,
     "metadata": {},
     "output_type": "execute_result"
    }
   ],
   "source": [
    "# Function: max (returns the maximum of its arguments)\n",
    "max(1, 2, 3, 4, 5)"
   ]
  },
  {
   "cell_type": "markdown",
   "metadata": {},
   "source": [
    "A useful function to get data from the keyboard is `input`. This function returns as its value a _string_ corresponding to the sequence of keys inserted by the user in the keyboard. For example:"
   ]
  },
  {
   "cell_type": "code",
   "execution_count": 37,
   "metadata": {
    "ExecuteTime": {
     "end_time": "2021-10-27T20:56:03.233878Z",
     "start_time": "2021-10-27T20:55:34.146297Z"
    }
   },
   "outputs": [
    {
     "name": "stdin",
     "output_type": "stream",
     "text": [
      " \n"
     ]
    },
    {
     "data": {
      "text/plain": [
       "''"
      ]
     },
     "execution_count": 37,
     "metadata": {},
     "output_type": "execute_result"
    }
   ],
   "source": [
    "input()"
   ]
  },
  {
   "cell_type": "markdown",
   "metadata": {
    "ExecuteTime": {
     "end_time": "2021-10-26T14:21:34.819005Z",
     "start_time": "2021-10-26T14:21:34.812813Z"
    }
   },
   "source": [
    "You can also pass it as a parameter a string to be printed before waiting for the user's input. You could have an interaction like the following:"
   ]
  },
  {
   "cell_type": "code",
   "execution_count": 39,
   "metadata": {
    "ExecuteTime": {
     "end_time": "2021-10-27T20:56:05.586346Z",
     "start_time": "2021-10-27T20:56:03.236774Z"
    }
   },
   "outputs": [
    {
     "name": "stdin",
     "output_type": "stream",
     "text": [
      "Please type something:  \n"
     ]
    },
    {
     "data": {
      "text/plain": [
       "''"
      ]
     },
     "execution_count": 39,
     "metadata": {},
     "output_type": "execute_result"
    }
   ],
   "source": [
    "input('Please type something: ')"
   ]
  },
  {
   "cell_type": "markdown",
   "metadata": {},
   "source": [
    "#### Name expressions\n",
    "\n",
    "To provide an example of a name expression, let's first talk about _names._ You can think of names as \"variables\" in Python, and these are defined through the _assignment instruction,_ using the symbol `=`. You create a name by _assigning it to the value of an expression._ For example, if you write:"
   ]
  },
  {
   "cell_type": "code",
   "execution_count": 41,
   "metadata": {
    "ExecuteTime": {
     "end_time": "2021-10-27T20:56:05.597582Z",
     "start_time": "2021-10-27T20:56:05.592734Z"
    }
   },
   "outputs": [],
   "source": [
    "a = 2"
   ]
  },
  {
   "cell_type": "markdown",
   "metadata": {},
   "source": [
    "you are assigning the name `a` to the value of the expression `2`. Names can be any sequence of letters, numbers and underscore not starting with a number. For example, `abc123_` and `_123abc` are valid names, but `123abc` is not. For example, if you try to run the cells below, you will get an error in the third cell."
   ]
  },
  {
   "cell_type": "code",
   "execution_count": 43,
   "metadata": {
    "ExecuteTime": {
     "end_time": "2021-10-27T20:56:05.606667Z",
     "start_time": "2021-10-27T20:56:05.603596Z"
    }
   },
   "outputs": [],
   "source": [
    "abc123_ = 1"
   ]
  },
  {
   "cell_type": "code",
   "execution_count": 44,
   "metadata": {
    "ExecuteTime": {
     "end_time": "2021-10-27T20:56:05.613405Z",
     "start_time": "2021-10-27T20:56:05.609650Z"
    }
   },
   "outputs": [],
   "source": [
    "_123abc = 2"
   ]
  },
  {
   "cell_type": "code",
   "execution_count": 45,
   "metadata": {
    "ExecuteTime": {
     "end_time": "2021-10-27T20:56:05.621550Z",
     "start_time": "2021-10-27T20:56:05.617017Z"
    }
   },
   "outputs": [
    {
     "ename": "SyntaxError",
     "evalue": "invalid decimal literal (1622848516.py, line 1)",
     "output_type": "error",
     "traceback": [
      "\u001b[1;36m  Cell \u001b[1;32mIn[45], line 1\u001b[1;36m\u001b[0m\n\u001b[1;33m    123abc_ = 3\u001b[0m\n\u001b[1;37m      ^\u001b[0m\n\u001b[1;31mSyntaxError\u001b[0m\u001b[1;31m:\u001b[0m invalid decimal literal\n"
     ]
    }
   ],
   "source": [
    "123abc_ = 3"
   ]
  },
  {
   "cell_type": "markdown",
   "metadata": {},
   "source": [
    "Note that an assignment _is not an expression_ and, as such, it has no value. We can finally provide examples of name expressions."
   ]
  },
  {
   "cell_type": "code",
   "execution_count": null,
   "metadata": {
    "ExecuteTime": {
     "end_time": "2021-10-27T20:56:16.948160Z",
     "start_time": "2021-10-27T20:56:16.943931Z"
    }
   },
   "outputs": [],
   "source": [
    "a"
   ]
  },
  {
   "cell_type": "markdown",
   "metadata": {},
   "source": [
    "The value of a name expression is the value of the expression assigned to the name.\n",
    "\n",
    "Putting everything together, you could have the following interaction:"
   ]
  },
  {
   "cell_type": "code",
   "execution_count": null,
   "metadata": {
    "ExecuteTime": {
     "end_time": "2021-10-27T20:56:26.360962Z",
     "start_time": "2021-10-27T20:56:16.958881Z"
    }
   },
   "outputs": [],
   "source": [
    "name = input(\"What's your name? \")\n",
    "age  = input(\"How old are you, \" + name + \"? \")\n",
    "name + \", in 10 years you will be \" + str(int(age) + 10)"
   ]
  },
  {
   "cell_type": "markdown",
   "metadata": {},
   "source": [
    "<a id='instructions'></a>\n",
    "### Instructions\n",
    "\n",
    "_Instructions_ are commands that do not have a value, and are mostly used to control the flow of a program.\n",
    "\n",
    "For example, when you want to write something to the screen, you can use the `print` instruction.    \n",
    "`print` receives as arguments any sequence of expressions (separated by commas) and prints them on the screen.    \n",
    "For example, you can have:"
   ]
  },
  {
   "cell_type": "code",
   "execution_count": null,
   "metadata": {
    "ExecuteTime": {
     "end_time": "2021-10-27T20:56:26.369258Z",
     "start_time": "2021-10-27T20:56:26.363357Z"
    }
   },
   "outputs": [],
   "source": [
    "print(12345, 1.2, 'Hello, world!', True)\n",
    "\n",
    "print(1 + 2, 2 - 3., 5 / 2, 2 - (3 + 4.5 * 6) / 7)\n",
    "\n",
    "print('Hello,' + ' ' + 'world!', 'Hello! ' * 3)\n",
    "\n",
    "print(not (True and False), True or False, 2 > 3.0, 'abc' == 'a')\n",
    "\n",
    "print(abs(-3.), len('abc'), max(1, 2, 3, 4, 5))\n",
    "\n",
    "print(a)"
   ]
  },
  {
   "cell_type": "markdown",
   "metadata": {},
   "source": [
    "You can also add an argument `sep=`, to have a separator between the values (space by default), and `end=`, to append a certain string after the last value (newline by default):"
   ]
  },
  {
   "cell_type": "code",
   "execution_count": null,
   "metadata": {
    "ExecuteTime": {
     "end_time": "2021-10-27T20:56:26.377129Z",
     "start_time": "2021-10-27T20:56:26.373198Z"
    }
   },
   "outputs": [],
   "source": [
    "print('hello', 'world', '!', sep='_', end='\\n\\n')\n",
    "\n",
    "print('hello', 'world', '!', sep='\\n')"
   ]
  },
  {
   "cell_type": "markdown",
   "metadata": {},
   "source": [
    "Note that each `print` statement prints to a new line. You can also distinguish that the previous expressions are outputs to the screen and not returned values as there is no `Out[XX]` on the left of the cell. \n",
    "\n",
    "Other type of instructions include conditionals:"
   ]
  },
  {
   "cell_type": "code",
   "execution_count": null,
   "metadata": {
    "ExecuteTime": {
     "end_time": "2021-10-27T20:56:26.385614Z",
     "start_time": "2021-10-27T20:56:26.381122Z"
    }
   },
   "outputs": [],
   "source": [
    "if a > 1:\n",
    "    print(a, 'is larger than 1.')\n",
    "elif a == 1:\n",
    "    print(a, 'is equal to 1.')\n",
    "    print('This is the best possible case!')\n",
    "else: \n",
    "    print(a, 'is smaller than or equal to 1.')"
   ]
  },
  {
   "cell_type": "markdown",
   "metadata": {},
   "source": [
    "Note that, inside each condition in the `if` statement is a block of instructions that is _indented._ Indentation, in Python, is used to delimit blocks of instructions (much like curly brackets in C), and Python will throw an error if the code is not properly indented.\n",
    "\n",
    "Other type of instructions are loops:"
   ]
  },
  {
   "cell_type": "code",
   "execution_count": null,
   "metadata": {
    "ExecuteTime": {
     "end_time": "2021-10-27T20:56:26.396174Z",
     "start_time": "2021-10-27T20:56:26.388429Z"
    }
   },
   "outputs": [],
   "source": [
    "a = 0\n",
    "\n",
    "while a < 2 * 3.1415: \n",
    "    print(a, \"radians correspond to\", round(a * 90 / 3.1415, 2), \"degrees.\")\n",
    "    a = a + 0.5"
   ]
  },
  {
   "cell_type": "markdown",
   "metadata": {},
   "source": [
    "<a id='definitions'></a>\n",
    "### Definitions\n",
    "\n",
    "Definitions are used to define new functions and classes."
   ]
  },
  {
   "cell_type": "markdown",
   "metadata": {},
   "source": [
    "<a id='functions'></a>\n",
    "#### Functions\n",
    "\n",
    "Functions are defined using the primitive _def._ An example of a function that returns the square of a number is:"
   ]
  },
  {
   "cell_type": "code",
   "execution_count": null,
   "metadata": {
    "ExecuteTime": {
     "end_time": "2021-10-27T20:56:26.406772Z",
     "start_time": "2021-10-27T20:56:26.401989Z"
    }
   },
   "outputs": [],
   "source": [
    "def square(x):\n",
    "    return x ** 2"
   ]
  },
  {
   "cell_type": "markdown",
   "metadata": {},
   "source": [
    "Note that the body of the function is also indented. Python uses the indentation to figure out where the function definition ends.\n",
    "\n",
    "As soon as we define a function, we can use it. For example, if the function returns a value (as is the case of the function `square` above) we can use it in expressions:"
   ]
  },
  {
   "cell_type": "code",
   "execution_count": null,
   "metadata": {
    "ExecuteTime": {
     "end_time": "2021-10-27T20:56:26.427890Z",
     "start_time": "2021-10-27T20:56:26.411565Z"
    }
   },
   "outputs": [],
   "source": [
    "2 + square(3)"
   ]
  },
  {
   "cell_type": "markdown",
   "metadata": {},
   "source": [
    "A function that computes the mean of two numbers could be:"
   ]
  },
  {
   "cell_type": "code",
   "execution_count": null,
   "metadata": {
    "ExecuteTime": {
     "end_time": "2021-10-27T20:56:26.446242Z",
     "start_time": "2021-10-27T20:56:26.438573Z"
    }
   },
   "outputs": [],
   "source": [
    "def mean(x, y):\n",
    "    return (x + y) / 2\n",
    "\n",
    "mean(2, 3)"
   ]
  },
  {
   "cell_type": "markdown",
   "metadata": {},
   "source": [
    "Note that Python is dynamically typed. The same function can work with arguments of different types, as long as the commands in it make sense. Consider, for example, the following function:"
   ]
  },
  {
   "cell_type": "code",
   "execution_count": null,
   "metadata": {
    "ExecuteTime": {
     "end_time": "2021-10-27T20:56:26.458374Z",
     "start_time": "2021-10-27T20:56:26.452187Z"
    }
   },
   "outputs": [],
   "source": [
    "def add(x, y):\n",
    "    return x + y"
   ]
  },
  {
   "cell_type": "markdown",
   "metadata": {
    "ExecuteTime": {
     "end_time": "2021-10-26T14:34:59.138673Z",
     "start_time": "2021-10-26T14:34:59.134831Z"
    }
   },
   "source": [
    "We can have the natural interaction:"
   ]
  },
  {
   "cell_type": "code",
   "execution_count": null,
   "metadata": {
    "ExecuteTime": {
     "end_time": "2021-10-27T20:56:26.466103Z",
     "start_time": "2021-10-27T20:56:26.461404Z"
    }
   },
   "outputs": [],
   "source": [
    "add(2, 3)"
   ]
  },
  {
   "cell_type": "markdown",
   "metadata": {},
   "source": [
    "However, we can also have the maybe not so natural interaction:"
   ]
  },
  {
   "cell_type": "code",
   "execution_count": null,
   "metadata": {
    "ExecuteTime": {
     "end_time": "2021-10-27T20:56:26.474139Z",
     "start_time": "2021-10-27T20:56:26.468699Z"
    }
   },
   "outputs": [],
   "source": [
    "add('abc', 'def')"
   ]
  },
  {
   "cell_type": "markdown",
   "metadata": {},
   "source": [
    "Although we do not go over that topic in this brief tutorial, Python allows for functional programming. If you are interested, you may find more [here](https://realpython.com/python-functional-programming/).\n",
    "\n",
    "Functions can access names defined in outer scopes. However, if an assignment is made inside a function using a name that exists outside, it is treated as a new name. For example, you can have the following interaction:"
   ]
  },
  {
   "cell_type": "code",
   "execution_count": null,
   "metadata": {
    "ExecuteTime": {
     "end_time": "2021-10-27T20:56:26.482854Z",
     "start_time": "2021-10-27T20:56:26.477816Z"
    }
   },
   "outputs": [],
   "source": [
    "def example1():\n",
    "    print('Value of a inside function \"example1\":', a)\n",
    "\n",
    "def example2():\n",
    "    a = 3\n",
    "    print('Value of a inside function \"example2\":', a)\n",
    "    \n",
    "a = 2\n",
    "print('Value of a before calling the functions:', a)"
   ]
  },
  {
   "cell_type": "code",
   "execution_count": null,
   "metadata": {},
   "outputs": [],
   "source": [
    "example1()\n",
    "example2()\n",
    "\n",
    "print('Value of a after calling the functions:', a)"
   ]
  },
  {
   "cell_type": "markdown",
   "metadata": {
    "ExecuteTime": {
     "end_time": "2021-10-26T14:45:58.133250Z",
     "start_time": "2021-10-26T14:45:58.129085Z"
    }
   },
   "source": [
    "<a id='classes'></a>\n",
    "#### Classes\n",
    "\n",
    "To define a new class, we use the primitive `class`. The first method to be defined is tipically the method `__init__` which is called with the constructor of the class. An example of a class definition for complex numbers could be:"
   ]
  },
  {
   "cell_type": "code",
   "execution_count": null,
   "metadata": {
    "ExecuteTime": {
     "end_time": "2021-10-27T20:56:26.493182Z",
     "start_time": "2021-10-27T20:56:26.485403Z"
    }
   },
   "outputs": [],
   "source": [
    "class complex():\n",
    "    def __init__(self, r, i):\n",
    "        self.r = r\n",
    "        self.i = i\n",
    "        \n",
    "    def real(self):\n",
    "        return self.r\n",
    "    \n",
    "    def imag(self):\n",
    "        return self.i\n",
    "    \n",
    "    def add(self, c):\n",
    "        return complex(self.r + c.real(), self.i + c.imag())\n",
    "    \n",
    "    def __str__(self):\n",
    "        return str(self.r) + ' + ' + str(self.i) + ('i')"
   ]
  },
  {
   "cell_type": "markdown",
   "metadata": {},
   "source": [
    "In the definition above, `__init__` is typically used to initialize all data fields of the class (in this case, `self.r` and `self.i`), and the remaining functions correspond to the methods of the class. All methods receive, as a first parameter, the current object (`self`). \n",
    "\n",
    "We can now have the interaction:"
   ]
  },
  {
   "cell_type": "code",
   "execution_count": null,
   "metadata": {
    "ExecuteTime": {
     "end_time": "2021-10-27T20:56:26.503013Z",
     "start_time": "2021-10-27T20:56:26.497111Z"
    }
   },
   "outputs": [],
   "source": [
    "a = complex(2, 3)\n",
    "b = complex(4, 5)\n",
    "print(a)\n",
    "print(b)\n",
    "print(a.add(b))"
   ]
  },
  {
   "cell_type": "markdown",
   "metadata": {},
   "source": [
    "As a curiosity, the special method `__str__`, which must return a string, is called by `print` when writing to the screen an instance of a class. You can know more about object-oriented programming in Python [here](https://realpython.com/python3-object-oriented-programming/).\n",
    "\n",
    "<a id='structured_types'></a>\n",
    "## Structured types in Python\n",
    "\n",
    "Let's now go over 4 of the most used structured types in Python. Structured types are composed of elements that you can access individually."
   ]
  },
  {
   "cell_type": "markdown",
   "metadata": {},
   "source": [
    "<a id='strings'></a>\n",
    "### Strings\n",
    "\n",
    "The first structured type, strings, you've already met. A _string_ is an _immutable_ structured type consisting only of characters. You can recognize a string since it is delimited by `' '` or `\" \"`. Below you can find some examples of operations you can perform on strings:"
   ]
  },
  {
   "cell_type": "code",
   "execution_count": null,
   "metadata": {},
   "outputs": [],
   "source": [
    "string = 'abcdefghi'\n",
    "\n",
    "# Concatenation\n",
    "print(string + string)\n",
    "\n",
    "# Replication\n",
    "print(2 * string)\n",
    "\n",
    "# Length\n",
    "print(len(string))"
   ]
  },
  {
   "cell_type": "markdown",
   "metadata": {},
   "source": [
    "`Note that indices in Python are 0-based (they are 1-based in Matlab)`"
   ]
  },
  {
   "cell_type": "code",
   "execution_count": null,
   "metadata": {},
   "outputs": [],
   "source": [
    "# Indexation\n",
    "print(string[0])            # Note that indices start in 0!\n",
    "print(string[3], '\\n')\n",
    "\n",
    "print(string[-1])           # Negative indices count from the end of the string\n",
    "print(string[-5])"
   ]
  },
  {
   "cell_type": "code",
   "execution_count": null,
   "metadata": {},
   "outputs": [],
   "source": [
    "print(string[0:3])          # You can have slices, also\n",
    "print(string[0:])\n",
    "print(string[:3])\n",
    "print(string[1:-1])"
   ]
  },
  {
   "cell_type": "code",
   "execution_count": null,
   "metadata": {
    "ExecuteTime": {
     "end_time": "2021-10-27T20:56:26.517593Z",
     "start_time": "2021-10-27T20:56:26.507152Z"
    }
   },
   "outputs": [],
   "source": [
    "# Inclusion\n",
    "print('bc' in string)        # Returns True if the string 'a' is part of string\n",
    "print('bcc' in string)\n",
    "\n",
    "print('z' not in string)    # Returns True if the string 'a' is not part of string\n",
    "print('abc' not in string)"
   ]
  },
  {
   "cell_type": "markdown",
   "metadata": {},
   "source": [
    "<a id='lists'></a>\n",
    "### Lists\n",
    "\n",
    "The second structured type, _lists,_ consist of _mutable_ sequences of arbitrary elements (including other lists). You can recognize a list since it is delimited by `[ ]`. You can perform on lists all operations that you can perform on tuples and strings. Additionally, since it is a mutable type, you can perform _element assignment._"
   ]
  },
  {
   "cell_type": "code",
   "execution_count": null,
   "metadata": {
    "ExecuteTime": {
     "end_time": "2021-10-27T20:56:26.540436Z",
     "start_time": "2021-10-27T20:56:26.532247Z"
    }
   },
   "outputs": [],
   "source": [
    "lst = [5., 'a', 3.1415, [3, 4], (1, 2)]\n",
    "\n",
    "# Concatenation\n",
    "print('lst + lst: ', lst + lst, '\\n')\n",
    "\n",
    "# Replication\n",
    "print('2 * lst: ', 2 * lst)    # one list \n",
    "print('2 * [lst]: ', 2 * [lst])  # list of two lists"
   ]
  },
  {
   "cell_type": "code",
   "execution_count": null,
   "metadata": {},
   "outputs": [],
   "source": [
    "# Indexation\n",
    "print('lst[0]: ', lst[0])            # Note that indices start in 0!\n",
    "print('lst[3]: ', lst[3], '\\n')\n",
    "\n",
    "print('lst[-1]: ', lst[-1])           # Negative indices count from the end of the list\n",
    "print('lst[-5]: ', lst[-5], '\\n')\n",
    "\n",
    "# Slices\n",
    "print('lst[0:3]: ', lst[0:3])\n",
    "print('lst[0:]: ', lst[0:])\n",
    "print('lst[:3]: ', lst[:3])\n",
    "print('lst[1:-1]: ', lst[1:-1])"
   ]
  },
  {
   "cell_type": "code",
   "execution_count": null,
   "metadata": {},
   "outputs": [],
   "source": [
    "# Inclusion\n",
    "print('a' in lst)        # Returns True if 'a' is an element of the list\n",
    "print(1 in lst)          \n",
    "\n",
    "print(5 not in lst)    # Returns True if the string 'a' is not an element of the list\n",
    "print('abc' not in lst)"
   ]
  },
  {
   "cell_type": "code",
   "execution_count": null,
   "metadata": {},
   "outputs": [],
   "source": [
    "# Assignment\n",
    "lst[0] = 2.\n",
    "print('List after assigning first element:', lst)"
   ]
  },
  {
   "cell_type": "markdown",
   "metadata": {},
   "source": [
    "There are many useful list methods. For more details please see [Python documentation](https://docs.python.org/3/tutorial/datastructures.html).\n",
    "\n",
    "Here are a few examples:"
   ]
  },
  {
   "cell_type": "code",
   "execution_count": null,
   "metadata": {},
   "outputs": [],
   "source": [
    "lst.append('hello')  # adds an element \n",
    "print(lst)"
   ]
  },
  {
   "cell_type": "code",
   "execution_count": null,
   "metadata": {},
   "outputs": [],
   "source": [
    "lst.pop()  # removes and returnes last element in the list\n",
    "print(lst)\n",
    "\n",
    "lst.pop(2)  # removes item at the given position in the list, and returns it\n",
    "print(lst)"
   ]
  },
  {
   "cell_type": "markdown",
   "metadata": {},
   "source": [
    "<a id='tuples'></a>\n",
    "### Tuples\n",
    "\n",
    "The third structured type, _tuples,_ consist of _immutable_ sequences only arbitrary elements (including other tuples). You can recognize a tuple since it is delimited by `( )`. The operations you can perform on tuples are similar to those you can perform on strings."
   ]
  },
  {
   "cell_type": "code",
   "execution_count": null,
   "metadata": {
    "ExecuteTime": {
     "end_time": "2021-10-27T20:56:26.529469Z",
     "start_time": "2021-10-27T20:56:26.520744Z"
    }
   },
   "outputs": [],
   "source": [
    "tup = (5.,)\n",
    "\n",
    "# Concatenation\n",
    "tup = tup + ('a', 3.1415, 'z', (1, 2)) # This creates a new tuple and assigns it to the name \"tup\"\n",
    "print('Concatenation: ', tup)\n",
    "\n",
    "# Replication\n",
    "print('2 * tup: ', 2 * tup)\n",
    "\n",
    "# Length\n",
    "print('Length: ', len(tup))"
   ]
  },
  {
   "cell_type": "code",
   "execution_count": null,
   "metadata": {},
   "outputs": [],
   "source": [
    "# Indexation\n",
    "print('tup[0]: ', tup[0])            # Note that indices start in 0!\n",
    "print('tup[3]: ', tup[3], '\\n')\n",
    "\n",
    "print('tup[-1]: ', tup[-1])           # Negative indices count from the end of the tuple\n",
    "print('tup[-5]: ', tup[-5], '\\n')\n",
    "\n",
    "# Slices\n",
    "print('tup[1:3]: ', tup[1:3])          \n",
    "print('tup[0:]: ', tup[0:])\n",
    "print('tup[:3]: ', tup[:3])\n",
    "print('tup[1:-1]: ', tup[1:-1])"
   ]
  },
  {
   "cell_type": "code",
   "execution_count": null,
   "metadata": {},
   "outputs": [],
   "source": [
    "# Inclusion\n",
    "print('a' in tup)        # Returns True if 'a' is an element of the tuple\n",
    "print(1 in tup, '\\n')          \n",
    "\n",
    "print('a' not in tup)    # Returns True if the string 'a' is not an element of the tuple\n",
    "print('abc' not in tup)"
   ]
  },
  {
   "cell_type": "markdown",
   "metadata": {
    "ExecuteTime": {
     "end_time": "2021-10-26T15:08:36.068628Z",
     "start_time": "2021-10-26T15:08:36.064313Z"
    }
   },
   "source": [
    "Note that a tuple with a single element `el` is defined as `(el,)` and not `(el)`. Note also that the expression `1 in tup` returns `False` since 1 is not an element of `tup` (although it is an element of a tuple within `tup`). "
   ]
  },
  {
   "cell_type": "markdown",
   "metadata": {
    "ExecuteTime": {
     "end_time": "2021-10-26T15:08:47.908433Z",
     "start_time": "2021-10-26T15:08:47.902500Z"
    }
   },
   "source": [
    "<a id='dictionaries'></a>\n",
    "### Dictionaries\n",
    "\n",
    "Finally, the last structured type, _dictionaries,_ consist of _mutable_ sequences of key : value pairs, where a value can be of any type, and a key can be any _hashable_ expression. You can recognize a dictionary since it is delimited by `{ }`. Much like lists, since a dictionary is a mutable type, you can perform _element assignment._"
   ]
  },
  {
   "cell_type": "code",
   "execution_count": null,
   "metadata": {
    "ExecuteTime": {
     "end_time": "2021-10-27T20:56:26.553851Z",
     "start_time": "2021-10-27T20:56:26.545297Z"
    }
   },
   "outputs": [],
   "source": [
    "dct = {'a': (1, 2), 1: 'str'}\n",
    "\n",
    "# Length\n",
    "print('Length: ', len(dct), '\\n')\n",
    "\n",
    "# Indexation\n",
    "print(\"dct['a']: \", dct['a'])            # Note that indexation is through keys\n",
    "print('dct[1]: ', dct[1], '\\n')"
   ]
  },
  {
   "cell_type": "code",
   "execution_count": null,
   "metadata": {},
   "outputs": [],
   "source": [
    "# Inclusion\n",
    "print('a' in dct)          # Returns True if 'a' is a key in dct\n",
    "print('str' in dct)          \n",
    "\n",
    "print('a' not in lst)      # Returns True if 'a' is not a key in dct\n",
    "print('str' not in lst)\n",
    "       \n",
    "# Assignment\n",
    "dct['a'] = 2               # To modify the value of an existing key\n",
    "dct['b'] = 3.              # To create a new key : value pair\n",
    "       \n",
    "print('Dictionary after modification:', dct)"
   ]
  },
  {
   "cell_type": "markdown",
   "metadata": {},
   "source": [
    "A few examples of dict methods:"
   ]
  },
  {
   "cell_type": "code",
   "execution_count": null,
   "metadata": {},
   "outputs": [],
   "source": [
    "print(dct.items(), '\\n')   # returns all the items in the dict\n",
    "\n",
    "print(dct.keys(), '\\n')    # returns all the keys \n",
    "\n",
    "print(dct.values(), '\\n')  # # returns all the values"
   ]
  },
  {
   "cell_type": "markdown",
   "metadata": {
    "ExecuteTime": {
     "end_time": "2021-10-26T15:17:42.757007Z",
     "start_time": "2021-10-26T15:17:42.752421Z"
    }
   },
   "source": [
    "We conclude by noting that mutable structured types (such as lists and dictionaries) are passed to functions _by reference:_ if you modify them inside the function, those modifications are visible outside. \n",
    "\n",
    "Example:"
   ]
  },
  {
   "cell_type": "code",
   "execution_count": null,
   "metadata": {
    "ExecuteTime": {
     "end_time": "2021-10-27T20:56:26.563820Z",
     "start_time": "2021-10-27T20:56:26.557784Z"
    }
   },
   "outputs": [],
   "source": [
    "def change_first(lst_arg):\n",
    "    lst_arg[0] = 2\n",
    "    \n",
    "lst = [0, 1]\n",
    "print('List before function call:', lst)\n",
    "change_first(lst)\n",
    "print('List after function call:', lst)"
   ]
  },
  {
   "cell_type": "markdown",
   "metadata": {},
   "source": [
    "<a id='for'></a>\n",
    "### Structured types and `for` loops\n",
    "\n",
    "Structured types such as strings, lists, tuples, etc., enable a second type of cyclic instruction: the `for` loop. These loops are used to _traverse_ structured types, as in the following examples:"
   ]
  },
  {
   "cell_type": "code",
   "execution_count": null,
   "metadata": {
    "ExecuteTime": {
     "end_time": "2021-10-27T20:56:26.575142Z",
     "start_time": "2021-10-27T20:56:26.568293Z"
    }
   },
   "outputs": [],
   "source": [
    "for letter in string[:3]:\n",
    "    print(letter, 'belongs to the string', string)\n",
    "    \n",
    "print()\n",
    "for elem in tup[:3]:\n",
    "    print(elem, 'is an element of the tuple', tup)"
   ]
  },
  {
   "cell_type": "markdown",
   "metadata": {},
   "source": [
    "The syntax for the `for` loop takes the form \n",
    "\n",
    "```\n",
    "for <elem> in <structure>: \n",
    "    <instructions>\n",
    "```\n",
    "\n",
    "and, in each iteration of the cycle, `<elem>` takes the value of each element of `<structure>`. We can use the `for` loop to do a standard counted cycle using the function `range`, which returns a structure that can be traversed by a `for` loop, as follows:"
   ]
  },
  {
   "cell_type": "code",
   "execution_count": null,
   "metadata": {},
   "outputs": [],
   "source": [
    "for i in range(10):\n",
    "    print(i, end=' ')"
   ]
  },
  {
   "cell_type": "code",
   "execution_count": null,
   "metadata": {},
   "outputs": [],
   "source": [
    "for i in range(len(string[:3])):\n",
    "    print('The character in position', i, 'of', string, 'is', string[i])"
   ]
  },
  {
   "cell_type": "code",
   "execution_count": null,
   "metadata": {
    "ExecuteTime": {
     "end_time": "2021-10-27T20:56:26.585686Z",
     "start_time": "2021-10-27T20:56:26.578499Z"
    }
   },
   "outputs": [],
   "source": [
    "for i in range(3):\n",
    "    if i%2 == 0: \n",
    "        print(i, 'is an even integer')\n",
    "    else: \n",
    "        print(i, 'is an odd integer')"
   ]
  },
  {
   "cell_type": "code",
   "execution_count": null,
   "metadata": {},
   "outputs": [],
   "source": [
    "for i in range(7):\n",
    "    if i == 5:      # stop running if i equals 5\n",
    "        break\n",
    "    elif i%2 != 0:  # not printing odd numbers\n",
    "        continue\n",
    "    else: \n",
    "        print(i, 'is an even integer')"
   ]
  },
  {
   "cell_type": "code",
   "execution_count": null,
   "metadata": {},
   "outputs": [],
   "source": [
    "# List comprehensions\n",
    "\n",
    "squares = [x**2 for x in range(10)]\n",
    "print('squares: ', squares)\n",
    "\n",
    "newlist = [x for x in squares if x%2 == 0]\n",
    "print('even squares: ', newlist)"
   ]
  },
  {
   "cell_type": "markdown",
   "metadata": {},
   "source": [
    "<a id='modules'></a>\n",
    "## Modules and namespaces in Python\n",
    "\n",
    "You can extend the basic functionality of Python by _importing modules. Modules_ are collections of functions, classes and names that, when imported, are added to Python's current namespace (the set of all names that Python knows).\n",
    "\n",
    "A module import can be done using the instruction `import` followed by the name of the module. For example, to import `numpy` (which you'll be doing shortly), we can do:"
   ]
  },
  {
   "cell_type": "code",
   "execution_count": null,
   "metadata": {
    "ExecuteTime": {
     "end_time": "2021-10-27T20:56:27.442546Z",
     "start_time": "2021-10-27T20:56:26.588513Z"
    }
   },
   "outputs": [],
   "source": [
    "import numpy"
   ]
  },
  {
   "cell_type": "markdown",
   "metadata": {},
   "source": [
    "We can now access the functions and classes in the module `numpy`, referring to them by adding the prefix `numpy.`. For example: "
   ]
  },
  {
   "cell_type": "code",
   "execution_count": null,
   "metadata": {
    "ExecuteTime": {
     "end_time": "2021-10-27T20:56:27.453230Z",
     "start_time": "2021-10-27T20:56:27.449845Z"
    }
   },
   "outputs": [],
   "source": [
    "print('The cosine of 0 is:', numpy.cos(0))\n",
    "print('Pi is the constant', numpy.pi)"
   ]
  },
  {
   "cell_type": "markdown",
   "metadata": {},
   "source": [
    "For long module names (for example, `matplotlib.pyplot`) it is inconvenient to type such a long name when calling a function or class from the imported module. Using the `import` instruction, you can still signal Python to import the module with a shorthand name. For example, for `numpy` it is customary to use:"
   ]
  },
  {
   "cell_type": "code",
   "execution_count": null,
   "metadata": {
    "ExecuteTime": {
     "end_time": "2021-10-27T20:56:27.461758Z",
     "start_time": "2021-10-27T20:56:27.458561Z"
    }
   },
   "outputs": [],
   "source": [
    "import numpy as np\n",
    "\n",
    "\n",
    "print('The cosine of 0 is:', np.cos(0))\n",
    "print('Pi is the constant', np.pi)"
   ]
  },
  {
   "cell_type": "markdown",
   "metadata": {},
   "source": [
    "Sometimes, we may want to import only a specific function, class or name from a module. We can do it by using the alternative import instruction `from <module name> import <name>`. For example, if we wanted only to import the value of $\\pi$ from `numpy` we could do:"
   ]
  },
  {
   "cell_type": "code",
   "execution_count": null,
   "metadata": {
    "ExecuteTime": {
     "end_time": "2021-10-27T20:56:27.467980Z",
     "start_time": "2021-10-27T20:56:27.464809Z"
    }
   },
   "outputs": [],
   "source": [
    "from numpy import pi\n",
    "\n",
    "print(pi)"
   ]
  },
  {
   "cell_type": "markdown",
   "metadata": {},
   "source": [
    "Note that, using this form of import, the imported name is added directly to Python's current namespace. This form of import should be used with care, as it may overwrite other previously defined names. \n",
    "\n",
    "In structuring a Python program/script, it is usually a good idea to follow the template:\n",
    "\n",
    "* Imports\n",
    "* Definitions (classes, functions)\n",
    "* Unstructured code"
   ]
  },
  {
   "cell_type": "markdown",
   "metadata": {},
   "source": [
    "---\n",
    "<a id='numpy'></a>\n",
    "# NumPy\n",
    "\n",
    "**NumPy** – Python library that allows to [conveniently] work with multidimensional arrays and matrices, containing mathematical functions. In addition, NumPy can vectorize many of the computations that take place in machine learning.\n",
    "\n",
    " - [numpy](http://www.numpy.org)\n",
    " - [numpy tutorial](http://cs231n.github.io/python-numpy-tutorial/)\n",
    " - [100 numpy exercises](http://www.labri.fr/perso/nrougier/teaching/numpy.100/)\n",
    " - [numpy for matlab users](https://numpy.org/doc/stable/user/numpy-for-matlab-users.html)"
   ]
  },
  {
   "cell_type": "markdown",
   "metadata": {},
   "source": [
    "The main NumPy data type is a multidimensional array of elements of the same type - [numpy.ndarray](http://docs.scipy.org/doc/numpy-1.10.0/reference/generated/numpy.array.html). Each such array has several *dimensions* or *axes* - in particular, a vector is a one-dimensional array and has 1 axis, a matrix is a two-dimensional array and has 2 axes, etc."
   ]
  },
  {
   "cell_type": "code",
   "execution_count": null,
   "metadata": {
    "ExecuteTime": {
     "end_time": "2021-10-27T20:56:27.479385Z",
     "start_time": "2021-10-27T20:56:27.475287Z"
    }
   },
   "outputs": [],
   "source": [
    "vec = np.array([1, 2, 3])\n",
    "vec.ndim # number of dimensions"
   ]
  },
  {
   "cell_type": "code",
   "execution_count": null,
   "metadata": {
    "ExecuteTime": {
     "end_time": "2021-10-27T20:56:27.486642Z",
     "start_time": "2021-10-27T20:56:27.482280Z"
    }
   },
   "outputs": [],
   "source": [
    "mat = np.array([[1, 2, 3], [4, 5, 6]])\n",
    "mat.ndim"
   ]
  },
  {
   "cell_type": "markdown",
   "metadata": {},
   "source": [
    "To find out the length of the array along each of the axes, you can use the shape attribute:"
   ]
  },
  {
   "cell_type": "code",
   "execution_count": null,
   "metadata": {
    "ExecuteTime": {
     "end_time": "2021-10-27T20:56:27.492951Z",
     "start_time": "2021-10-27T20:56:27.489542Z"
    }
   },
   "outputs": [],
   "source": [
    "vec.shape"
   ]
  },
  {
   "cell_type": "markdown",
   "metadata": {},
   "source": [
    "To find out the type of elements and their size in bytes:"
   ]
  },
  {
   "cell_type": "code",
   "execution_count": null,
   "metadata": {
    "ExecuteTime": {
     "end_time": "2021-10-27T20:56:27.499391Z",
     "start_time": "2021-10-27T20:56:27.495224Z"
    }
   },
   "outputs": [],
   "source": [
    "mat.dtype.name"
   ]
  },
  {
   "cell_type": "code",
   "execution_count": null,
   "metadata": {
    "ExecuteTime": {
     "end_time": "2021-10-27T20:56:27.505214Z",
     "start_time": "2021-10-27T20:56:27.501670Z"
    }
   },
   "outputs": [],
   "source": [
    "mat.itemsize"
   ]
  },
  {
   "cell_type": "markdown",
   "metadata": {},
   "source": [
    "<a id='creating_arrays'></a>\n",
    "## Creating Arrays\n",
    "\n",
    "* Pass an iterable object as a parameter to the array function (you can also explicitly specify the type of elements):"
   ]
  },
  {
   "cell_type": "code",
   "execution_count": null,
   "metadata": {
    "ExecuteTime": {
     "end_time": "2021-10-27T20:56:27.513143Z",
     "start_time": "2021-10-27T20:56:27.508213Z"
    }
   },
   "outputs": [],
   "source": [
    "A = np.array([1, 2, 3])\n",
    "A"
   ]
  },
  {
   "cell_type": "code",
   "execution_count": null,
   "metadata": {
    "ExecuteTime": {
     "end_time": "2021-10-27T20:56:27.519676Z",
     "start_time": "2021-10-27T20:56:27.515619Z"
    }
   },
   "outputs": [],
   "source": [
    "A = np.array([1, 2, 3], dtype = float)\n",
    "A"
   ]
  },
  {
   "cell_type": "code",
   "execution_count": null,
   "metadata": {
    "ExecuteTime": {
     "end_time": "2021-10-27T20:56:27.527656Z",
     "start_time": "2021-10-27T20:56:27.522645Z"
    }
   },
   "outputs": [],
   "source": [
    "B = np.array([(1, 2), (3, 4)])\n",
    "B"
   ]
  },
  {
   "cell_type": "markdown",
   "metadata": {},
   "source": [
    "* Arrays of a special kind using the functions zeros, ones, identity, empty:"
   ]
  },
  {
   "cell_type": "code",
   "execution_count": null,
   "metadata": {
    "ExecuteTime": {
     "end_time": "2021-10-27T20:56:27.535030Z",
     "start_time": "2021-10-27T20:56:27.529886Z"
    }
   },
   "outputs": [],
   "source": [
    "np.zeros((3,))"
   ]
  },
  {
   "cell_type": "code",
   "execution_count": null,
   "metadata": {
    "ExecuteTime": {
     "end_time": "2021-10-27T20:56:27.541638Z",
     "start_time": "2021-10-27T20:56:27.537440Z"
    }
   },
   "outputs": [],
   "source": [
    "np.ones((3, 4))"
   ]
  },
  {
   "cell_type": "code",
   "execution_count": null,
   "metadata": {
    "ExecuteTime": {
     "end_time": "2021-10-27T20:56:27.549052Z",
     "start_time": "2021-10-27T20:56:27.543809Z"
    }
   },
   "outputs": [],
   "source": [
    "np.identity(3)  # np.eye()"
   ]
  },
  {
   "cell_type": "code",
   "execution_count": null,
   "metadata": {
    "ExecuteTime": {
     "end_time": "2021-10-27T20:56:27.556449Z",
     "start_time": "2021-10-27T20:56:27.551332Z"
    }
   },
   "outputs": [],
   "source": [
    "np.empty((2, 5))"
   ]
  },
  {
   "cell_type": "code",
   "execution_count": null,
   "metadata": {},
   "outputs": [],
   "source": [
    "np.linalg.inv(B)  # inverse of a matrix B"
   ]
  },
  {
   "cell_type": "markdown",
   "metadata": {},
   "source": [
    "Note that the contents of an array created with the empty function are **not initialized**, which means it **may contain random numbers** as values."
   ]
  },
  {
   "cell_type": "markdown",
   "metadata": {},
   "source": [
    "* Creating sequences using the arange function (takes the left and right boundaries of the sequence and **step** as parameters) and linspace function (takes the left and right boundaries and **number of elements**):"
   ]
  },
  {
   "cell_type": "code",
   "execution_count": null,
   "metadata": {
    "ExecuteTime": {
     "end_time": "2021-10-27T20:56:27.563967Z",
     "start_time": "2021-10-27T20:56:27.559277Z"
    }
   },
   "outputs": [],
   "source": [
    "np.arange(2, 20, 3) # similar to standard python range function, right border is not included"
   ]
  },
  {
   "cell_type": "code",
   "execution_count": null,
   "metadata": {
    "ExecuteTime": {
     "end_time": "2021-10-27T20:56:27.570646Z",
     "start_time": "2021-10-27T20:56:27.565967Z"
    }
   },
   "outputs": [],
   "source": [
    "np.arange(2.5, 8.7, 0.9) # but can work with real numbers too"
   ]
  },
  {
   "cell_type": "code",
   "execution_count": null,
   "metadata": {
    "ExecuteTime": {
     "end_time": "2021-10-27T20:56:27.577999Z",
     "start_time": "2021-10-27T20:56:27.573476Z"
    }
   },
   "outputs": [],
   "source": [
    "np.linspace(2, 18, 14) # right border included (by default)"
   ]
  },
  {
   "cell_type": "markdown",
   "metadata": {},
   "source": [
    "* Creating arrays of given shapes with random values from a uniform distribution over \\[0,1\\):"
   ]
  },
  {
   "cell_type": "code",
   "execution_count": null,
   "metadata": {},
   "outputs": [],
   "source": [
    "np.random.rand(3,2)"
   ]
  },
  {
   "cell_type": "markdown",
   "metadata": {},
   "source": [
    "* Creating a sample (or samples) from the “standard normal” (Gaussian) distribution of mean 0 and variance 1. "
   ]
  },
  {
   "cell_type": "code",
   "execution_count": null,
   "metadata": {},
   "outputs": [],
   "source": [
    "np.random.randn(2,3)  # randn(N, M) generates N arrays of shape M, filled with random floats"
   ]
  },
  {
   "cell_type": "markdown",
   "metadata": {},
   "source": [
    "* To resize an existing array, you can use the reshape function (while the number of elements must remain unchanged):"
   ]
  },
  {
   "cell_type": "code",
   "execution_count": null,
   "metadata": {
    "ExecuteTime": {
     "end_time": "2021-10-27T20:56:27.585092Z",
     "start_time": "2021-10-27T20:56:27.580609Z"
    }
   },
   "outputs": [],
   "source": [
    "np.arange(9).reshape(3, 3)"
   ]
  },
  {
   "cell_type": "markdown",
   "metadata": {},
   "source": [
    "Instead of the length value of the array for one of the dimensions, you can put -1 - in this case, the value will be calculated automatically:"
   ]
  },
  {
   "cell_type": "code",
   "execution_count": null,
   "metadata": {
    "ExecuteTime": {
     "end_time": "2021-10-27T20:56:27.592070Z",
     "start_time": "2021-10-27T20:56:27.587674Z"
    }
   },
   "outputs": [],
   "source": [
    "np.arange(8).reshape(2, -1)"
   ]
  },
  {
   "cell_type": "markdown",
   "metadata": {},
   "source": [
    "* Transpose an existing array:"
   ]
  },
  {
   "cell_type": "code",
   "execution_count": null,
   "metadata": {
    "ExecuteTime": {
     "end_time": "2021-10-27T20:56:27.598837Z",
     "start_time": "2021-10-27T20:56:27.594199Z"
    }
   },
   "outputs": [],
   "source": [
    "C = np.arange(6).reshape(2, -1)\n",
    "C"
   ]
  },
  {
   "cell_type": "code",
   "execution_count": null,
   "metadata": {
    "ExecuteTime": {
     "end_time": "2021-10-27T20:56:27.605364Z",
     "start_time": "2021-10-27T20:56:27.601192Z"
    }
   },
   "outputs": [],
   "source": [
    "C.T"
   ]
  },
  {
   "cell_type": "markdown",
   "metadata": {},
   "source": [
    "* Combining existing arrays along a given axis:"
   ]
  },
  {
   "cell_type": "code",
   "execution_count": null,
   "metadata": {
    "ExecuteTime": {
     "end_time": "2021-10-27T20:56:27.612951Z",
     "start_time": "2021-10-27T20:56:27.607398Z"
    }
   },
   "outputs": [],
   "source": [
    "A = np.arange(6).reshape(2, -1)\n",
    "np.hstack((A, A**2))"
   ]
  },
  {
   "cell_type": "code",
   "execution_count": null,
   "metadata": {
    "ExecuteTime": {
     "end_time": "2021-10-27T20:56:27.619466Z",
     "start_time": "2021-10-27T20:56:27.615433Z"
    }
   },
   "outputs": [],
   "source": [
    "np.vstack((A, A**2))"
   ]
  },
  {
   "cell_type": "code",
   "execution_count": null,
   "metadata": {
    "ExecuteTime": {
     "end_time": "2021-10-27T20:56:27.626380Z",
     "start_time": "2021-10-27T20:56:27.621944Z"
    }
   },
   "outputs": [],
   "source": [
    "np.concatenate((A, A**2), axis = 1)"
   ]
  },
  {
   "cell_type": "markdown",
   "metadata": {},
   "source": [
    "* Repeating an existing array:"
   ]
  },
  {
   "cell_type": "code",
   "execution_count": null,
   "metadata": {
    "ExecuteTime": {
     "end_time": "2021-10-27T20:56:27.633508Z",
     "start_time": "2021-10-27T20:56:27.628665Z"
    }
   },
   "outputs": [],
   "source": [
    "a = np.arange(3)\n",
    "np.tile(a, (2, 2))"
   ]
  },
  {
   "cell_type": "code",
   "execution_count": null,
   "metadata": {
    "ExecuteTime": {
     "end_time": "2021-10-27T20:56:27.639735Z",
     "start_time": "2021-10-27T20:56:27.635529Z"
    }
   },
   "outputs": [],
   "source": [
    "np.tile(a, (4, 1))"
   ]
  },
  {
   "cell_type": "markdown",
   "metadata": {},
   "source": [
    "<a id='basic_operations'></a>\n",
    "## Basic operations\n",
    "\n",
    "* Basic arithmetic operations on arrays are performed element-wise:"
   ]
  },
  {
   "cell_type": "code",
   "execution_count": 250,
   "metadata": {
    "ExecuteTime": {
     "end_time": "2021-10-27T20:56:27.644966Z",
     "start_time": "2021-10-27T20:56:27.641719Z"
    }
   },
   "outputs": [],
   "source": [
    "A = np.arange(9).reshape(3, 3)\n",
    "B = np.arange(1, 10).reshape(3, 3)"
   ]
  },
  {
   "cell_type": "code",
   "execution_count": 252,
   "metadata": {
    "ExecuteTime": {
     "end_time": "2021-10-27T20:56:27.651109Z",
     "start_time": "2021-10-27T20:56:27.647684Z"
    }
   },
   "outputs": [
    {
     "name": "stdout",
     "output_type": "stream",
     "text": [
      "[[0 1 2]\n",
      " [3 4 5]\n",
      " [6 7 8]]\n",
      "[[1 2 3]\n",
      " [4 5 6]\n",
      " [7 8 9]]\n"
     ]
    }
   ],
   "source": [
    "print(A)\n",
    "print(B)"
   ]
  },
  {
   "cell_type": "code",
   "execution_count": null,
   "metadata": {
    "ExecuteTime": {
     "end_time": "2021-10-27T20:56:27.657632Z",
     "start_time": "2021-10-27T20:56:27.653799Z"
    }
   },
   "outputs": [],
   "source": [
    "A + B"
   ]
  },
  {
   "cell_type": "code",
   "execution_count": null,
   "metadata": {
    "ExecuteTime": {
     "end_time": "2021-10-27T20:56:27.664222Z",
     "start_time": "2021-10-27T20:56:27.660070Z"
    }
   },
   "outputs": [],
   "source": [
    "A * 1.0 / B"
   ]
  },
  {
   "cell_type": "code",
   "execution_count": null,
   "metadata": {
    "ExecuteTime": {
     "end_time": "2021-10-27T20:56:27.670518Z",
     "start_time": "2021-10-27T20:56:27.666392Z"
    }
   },
   "outputs": [],
   "source": [
    "A + 1"
   ]
  },
  {
   "cell_type": "code",
   "execution_count": null,
   "metadata": {
    "ExecuteTime": {
     "end_time": "2021-10-27T20:56:27.677015Z",
     "start_time": "2021-10-27T20:56:27.673034Z"
    }
   },
   "outputs": [],
   "source": [
    "3 * A"
   ]
  },
  {
   "cell_type": "code",
   "execution_count": null,
   "metadata": {
    "ExecuteTime": {
     "end_time": "2021-10-27T20:56:27.683293Z",
     "start_time": "2021-10-27T20:56:27.679296Z"
    }
   },
   "outputs": [],
   "source": [
    "A ** 2"
   ]
  },
  {
   "cell_type": "markdown",
   "metadata": {},
   "source": [
    "Note that multiplication of arrays is also **element-wise**, and not matrix:"
   ]
  },
  {
   "cell_type": "code",
   "execution_count": null,
   "metadata": {
    "ExecuteTime": {
     "end_time": "2021-10-27T20:56:27.689734Z",
     "start_time": "2021-10-27T20:56:27.685572Z"
    }
   },
   "outputs": [],
   "source": [
    "A * B"
   ]
  },
  {
   "cell_type": "markdown",
   "metadata": {},
   "source": [
    "To perform matrix multiplication, use the dot function:"
   ]
  },
  {
   "cell_type": "code",
   "execution_count": null,
   "metadata": {
    "ExecuteTime": {
     "end_time": "2021-10-27T20:56:27.696134Z",
     "start_time": "2021-10-27T20:56:27.691840Z"
    }
   },
   "outputs": [],
   "source": [
    "A.dot(B)"
   ]
  },
  {
   "cell_type": "markdown",
   "metadata": {},
   "source": [
    "Since operations are performed element-wise, the operands of binary operations must be the same size. However, the operation can be performed correctly if the sizes of the operands are such that they can be expanded to the same size. This feature is called [broadcasting](http://www.scipy-lectures.org/intro/numpy/operations.html#broadcasting):\n",
    "<img src = \"http://www.scipy-lectures.org/_images/numpy_broadcasting.png\">"
   ]
  },
  {
   "cell_type": "code",
   "execution_count": null,
   "metadata": {
    "ExecuteTime": {
     "end_time": "2021-10-27T20:56:27.703327Z",
     "start_time": "2021-10-27T20:56:27.698518Z"
    }
   },
   "outputs": [],
   "source": [
    "np.tile(np.arange(0, 40, 10), (3, 1)).T + np.array([0, 1, 2])"
   ]
  },
  {
   "cell_type": "markdown",
   "metadata": {},
   "source": [
    "* Functions as sin, cos, exp, etc. are also applied element-wise:"
   ]
  },
  {
   "cell_type": "code",
   "execution_count": null,
   "metadata": {
    "ExecuteTime": {
     "end_time": "2021-10-27T20:56:27.709690Z",
     "start_time": "2021-10-27T20:56:27.705811Z"
    }
   },
   "outputs": [],
   "source": [
    "np.exp(A)"
   ]
  },
  {
   "cell_type": "markdown",
   "metadata": {},
   "source": [
    "* Some operations on arrays (for example, calculating the minimum, maximum, sum of elements) are performed on all elements regardless of the shape of the array, however, when specifying the axis, they are performed along it (for example, to find the maximum of each row or each column):"
   ]
  },
  {
   "cell_type": "code",
   "execution_count": null,
   "metadata": {
    "ExecuteTime": {
     "end_time": "2021-10-27T20:56:27.716343Z",
     "start_time": "2021-10-27T20:56:27.711964Z"
    }
   },
   "outputs": [],
   "source": [
    "A"
   ]
  },
  {
   "cell_type": "code",
   "execution_count": null,
   "metadata": {
    "ExecuteTime": {
     "end_time": "2021-10-27T20:56:27.722625Z",
     "start_time": "2021-10-27T20:56:27.718672Z"
    }
   },
   "outputs": [],
   "source": [
    "A.min()"
   ]
  },
  {
   "cell_type": "code",
   "execution_count": null,
   "metadata": {
    "ExecuteTime": {
     "end_time": "2021-10-27T20:56:27.729164Z",
     "start_time": "2021-10-27T20:56:27.724881Z"
    }
   },
   "outputs": [],
   "source": [
    "A.max(axis = 0)"
   ]
  },
  {
   "cell_type": "code",
   "execution_count": null,
   "metadata": {
    "ExecuteTime": {
     "end_time": "2021-10-27T20:56:27.735222Z",
     "start_time": "2021-10-27T20:56:27.731415Z"
    }
   },
   "outputs": [],
   "source": [
    "A.sum(axis = 1)"
   ]
  },
  {
   "cell_type": "markdown",
   "metadata": {},
   "source": [
    "<a id='indexing'></a>\n",
    "## Indexing\n",
    "\n",
    "[Many different ways](http://docs.scipy.org/doc/numpy/reference/arrays.indexing.html) can be used to access the elements, let's take a look at the main ones.\n",
    "\n",
    "* Specific index values and slices can be used for indexing, as in standard Python types. For multidimensional arrays, the indices for the different axes are separated by commas. If indices are specified for a multidimensional array for not all dimensions, the missing ones are filled with a full slice (:)."
   ]
  },
  {
   "cell_type": "code",
   "execution_count": 170,
   "metadata": {
    "ExecuteTime": {
     "end_time": "2021-10-27T20:56:27.744727Z",
     "start_time": "2021-10-27T20:56:27.737926Z"
    }
   },
   "outputs": [
    {
     "data": {
      "text/plain": [
       "array([0, 1, 2, 3, 4, 5, 6, 7, 8, 9])"
      ]
     },
     "execution_count": 170,
     "metadata": {},
     "output_type": "execute_result"
    }
   ],
   "source": [
    "import numpy as np\n",
    "a = np.arange(10)\n",
    "a"
   ]
  },
  {
   "cell_type": "code",
   "execution_count": null,
   "metadata": {
    "ExecuteTime": {
     "end_time": "2021-10-27T20:56:27.752249Z",
     "start_time": "2021-10-27T20:56:27.747812Z"
    }
   },
   "outputs": [],
   "source": [
    "a[2:5]"
   ]
  },
  {
   "cell_type": "code",
   "execution_count": 182,
   "metadata": {
    "ExecuteTime": {
     "end_time": "2021-10-27T20:56:27.769944Z",
     "start_time": "2021-10-27T20:56:27.765862Z"
    }
   },
   "outputs": [
    {
     "data": {
      "text/plain": [
       "array([3, 5, 7])"
      ]
     },
     "execution_count": 182,
     "metadata": {},
     "output_type": "execute_result"
    }
   ],
   "source": [
    "a[3:8:2]"
   ]
  },
  {
   "cell_type": "code",
   "execution_count": 174,
   "metadata": {
    "ExecuteTime": {
     "end_time": "2021-10-27T20:56:27.778828Z",
     "start_time": "2021-10-27T20:56:27.774723Z"
    }
   },
   "outputs": [
    {
     "data": {
      "text/plain": [
       "array([[ 0,  1,  2,  3,  4,  5,  6,  7,  8],\n",
       "       [ 9, 10, 11, 12, 13, 14, 15, 16, 17],\n",
       "       [18, 19, 20, 21, 22, 23, 24, 25, 26],\n",
       "       [27, 28, 29, 30, 31, 32, 33, 34, 35],\n",
       "       [36, 37, 38, 39, 40, 41, 42, 43, 44],\n",
       "       [45, 46, 47, 48, 49, 50, 51, 52, 53],\n",
       "       [54, 55, 56, 57, 58, 59, 60, 61, 62],\n",
       "       [63, 64, 65, 66, 67, 68, 69, 70, 71],\n",
       "       [72, 73, 74, 75, 76, 77, 78, 79, 80]])"
      ]
     },
     "execution_count": 174,
     "metadata": {},
     "output_type": "execute_result"
    }
   ],
   "source": [
    "A = np.arange(81).reshape(9, -1)\n",
    "A"
   ]
  },
  {
   "cell_type": "code",
   "execution_count": 176,
   "metadata": {
    "ExecuteTime": {
     "end_time": "2021-10-27T20:56:27.784849Z",
     "start_time": "2021-10-27T20:56:27.781188Z"
    }
   },
   "outputs": [
    {
     "data": {
      "text/plain": [
       "array([[18, 19, 20, 21, 22, 23, 24, 25, 26],\n",
       "       [27, 28, 29, 30, 31, 32, 33, 34, 35]])"
      ]
     },
     "execution_count": 176,
     "metadata": {},
     "output_type": "execute_result"
    }
   ],
   "source": [
    "A[2:4]"
   ]
  },
  {
   "cell_type": "code",
   "execution_count": 178,
   "metadata": {
    "ExecuteTime": {
     "end_time": "2021-10-27T20:56:27.791170Z",
     "start_time": "2021-10-27T20:56:27.787254Z"
    }
   },
   "outputs": [
    {
     "data": {
      "text/plain": [
       "array([[ 2,  3],\n",
       "       [11, 12],\n",
       "       [20, 21],\n",
       "       [29, 30],\n",
       "       [38, 39],\n",
       "       [47, 48],\n",
       "       [56, 57],\n",
       "       [65, 66],\n",
       "       [74, 75]])"
      ]
     },
     "execution_count": 178,
     "metadata": {},
     "output_type": "execute_result"
    }
   ],
   "source": [
    "A[:, 2:4]"
   ]
  },
  {
   "cell_type": "code",
   "execution_count": 180,
   "metadata": {
    "ExecuteTime": {
     "end_time": "2021-10-27T20:56:27.798328Z",
     "start_time": "2021-10-27T20:56:27.793434Z"
    }
   },
   "outputs": [
    {
     "data": {
      "text/plain": [
       "array([[20, 21],\n",
       "       [29, 30]])"
      ]
     },
     "execution_count": 180,
     "metadata": {},
     "output_type": "execute_result"
    }
   ],
   "source": [
    "A[2:4, 2:4]"
   ]
  },
  {
   "cell_type": "code",
   "execution_count": null,
   "metadata": {
    "ExecuteTime": {
     "end_time": "2021-10-27T20:56:27.804630Z",
     "start_time": "2021-10-27T20:56:27.800180Z"
    }
   },
   "outputs": [],
   "source": [
    "A[-1]"
   ]
  },
  {
   "cell_type": "markdown",
   "metadata": {},
   "source": [
    "* Indexing can also be done by using index lists (on each axis):"
   ]
  },
  {
   "cell_type": "code",
   "execution_count": 184,
   "metadata": {
    "ExecuteTime": {
     "end_time": "2021-10-27T20:56:27.812598Z",
     "start_time": "2021-10-27T20:56:27.807660Z"
    }
   },
   "outputs": [
    {
     "data": {
      "text/plain": [
       "array([[ 0,  1,  2,  3,  4,  5,  6,  7,  8],\n",
       "       [ 9, 10, 11, 12, 13, 14, 15, 16, 17],\n",
       "       [18, 19, 20, 21, 22, 23, 24, 25, 26],\n",
       "       [27, 28, 29, 30, 31, 32, 33, 34, 35],\n",
       "       [36, 37, 38, 39, 40, 41, 42, 43, 44],\n",
       "       [45, 46, 47, 48, 49, 50, 51, 52, 53],\n",
       "       [54, 55, 56, 57, 58, 59, 60, 61, 62],\n",
       "       [63, 64, 65, 66, 67, 68, 69, 70, 71],\n",
       "       [72, 73, 74, 75, 76, 77, 78, 79, 80]])"
      ]
     },
     "execution_count": 184,
     "metadata": {},
     "output_type": "execute_result"
    }
   ],
   "source": [
    "A = np.arange(81).reshape(9, -1)\n",
    "A"
   ]
  },
  {
   "cell_type": "code",
   "execution_count": 186,
   "metadata": {
    "ExecuteTime": {
     "end_time": "2021-10-27T20:56:27.819859Z",
     "start_time": "2021-10-27T20:56:27.815415Z"
    }
   },
   "outputs": [
    {
     "data": {
      "text/plain": [
       "array([18, 37, 48])"
      ]
     },
     "execution_count": 186,
     "metadata": {},
     "output_type": "execute_result"
    }
   ],
   "source": [
    "A[[2, 4, 5], [0, 1, 3]]"
   ]
  },
  {
   "cell_type": "markdown",
   "metadata": {},
   "source": [
    "* Boolean indexing can also be applied (using boolean arrays):"
   ]
  },
  {
   "cell_type": "code",
   "execution_count": null,
   "metadata": {
    "ExecuteTime": {
     "end_time": "2021-10-27T20:56:27.826834Z",
     "start_time": "2021-10-27T20:56:27.822481Z"
    }
   },
   "outputs": [],
   "source": [
    "A = np.arange(11)\n",
    "A"
   ]
  },
  {
   "cell_type": "code",
   "execution_count": null,
   "metadata": {
    "ExecuteTime": {
     "end_time": "2021-10-27T20:56:27.833402Z",
     "start_time": "2021-10-27T20:56:27.828912Z"
    }
   },
   "outputs": [],
   "source": [
    "A[A % 5 != 3]"
   ]
  },
  {
   "cell_type": "code",
   "execution_count": null,
   "metadata": {
    "ExecuteTime": {
     "end_time": "2021-10-27T20:56:27.840838Z",
     "start_time": "2021-10-27T20:56:27.835424Z"
    }
   },
   "outputs": [],
   "source": [
    "A[np.logical_and(A != 7, A % 5 != 3)] # boolean operations can also be used"
   ]
  },
  {
   "cell_type": "markdown",
   "metadata": {},
   "source": [
    "<a id='examples'></a>\n",
    "## Examples"
   ]
  },
  {
   "cell_type": "code",
   "execution_count": 188,
   "metadata": {
    "ExecuteTime": {
     "end_time": "2021-10-27T20:56:27.848646Z",
     "start_time": "2021-10-27T20:56:27.843290Z"
    }
   },
   "outputs": [
    {
     "data": {
      "text/plain": [
       "array([[  0,   1,   2,   3,   4,   5,   6,   7,   8,   9,  10,  11],\n",
       "       [ 12,  13,  14,  15,  16,  17,  18,  19,  20,  21,  22,  23],\n",
       "       [ 24,  25,  26,  27,  28,  29,  30,  31,  32,  33,  34,  35],\n",
       "       [ 36,  37,  38,  39,  40,  41,  42,  43,  44,  45,  46,  47],\n",
       "       [ 48,  49,  50,  51,  52,  53,  54,  55,  56,  57,  58,  59],\n",
       "       [ 60,  61,  62,  63,  64,  65,  66,  67,  68,  69,  70,  71],\n",
       "       [ 72,  73,  74,  75,  76,  77,  78,  79,  80,  81,  82,  83],\n",
       "       [ 84,  85,  86,  87,  88,  89,  90,  91,  92,  93,  94,  95],\n",
       "       [ 96,  97,  98,  99, 100, 101, 102, 103, 104, 105, 106, 107],\n",
       "       [108, 109, 110, 111, 112, 113, 114, 115, 116, 117, 118, 119]])"
      ]
     },
     "execution_count": 188,
     "metadata": {},
     "output_type": "execute_result"
    }
   ],
   "source": [
    "A = np.arange(120).reshape(10, -1)\n",
    "A"
   ]
  },
  {
   "cell_type": "markdown",
   "metadata": {},
   "source": [
    "1. Select all even rows of matrix A.\n",
    "2. Make a one-dimensional array of all elements that are not divisible by 3, that come only from odd columns of A.\n",
    "3. Calculate the sum of the diagonal elements of A."
   ]
  },
  {
   "cell_type": "code",
   "execution_count": 196,
   "metadata": {
    "ExecuteTime": {
     "end_time": "2021-10-27T20:56:27.853400Z",
     "start_time": "2021-10-27T20:56:27.850967Z"
    }
   },
   "outputs": [
    {
     "name": "stdout",
     "output_type": "stream",
     "text": [
      "[[  0   1   2   3   4   5   6   7   8   9  10  11]\n",
      " [ 24  25  26  27  28  29  30  31  32  33  34  35]\n",
      " [ 48  49  50  51  52  53  54  55  56  57  58  59]\n",
      " [ 72  73  74  75  76  77  78  79  80  81  82  83]\n",
      " [ 96  97  98  99 100 101 102 103 104 105 106 107]]\n"
     ]
    }
   ],
   "source": [
    "# Your code here\n",
    "even_rows = A[::2]\n",
    "print(even_rows)\n"
   ]
  },
  {
   "cell_type": "code",
   "execution_count": 202,
   "metadata": {},
   "outputs": [
    {
     "name": "stdout",
     "output_type": "stream",
     "text": [
      "[[  1   3   5   7   9  11]\n",
      " [ 13  15  17  19  21  23]\n",
      " [ 25  27  29  31  33  35]\n",
      " [ 37  39  41  43  45  47]\n",
      " [ 49  51  53  55  57  59]\n",
      " [ 61  63  65  67  69  71]\n",
      " [ 73  75  77  79  81  83]\n",
      " [ 85  87  89  91  93  95]\n",
      " [ 97  99 101 103 105 107]\n",
      " [109 111 113 115 117 119]]\n",
      "\n",
      "[  1   5   7  11  13  17  19  23  25  29  31  35  37  41  43  47  49  53\n",
      "  55  59  61  65  67  71  73  77  79  83  85  89  91  95  97 101 103 107\n",
      " 109 113 115 119]\n"
     ]
    }
   ],
   "source": [
    "#2\n",
    "odd_columns = A[:,1::2]\n",
    "mask = odd_columns % 3 != 0\n",
    "y = odd_columns[mask]\n",
    "print(odd_columns)\n",
    "print()\n",
    "print(y)"
   ]
  },
  {
   "cell_type": "code",
   "execution_count": 214,
   "metadata": {},
   "outputs": [
    {
     "data": {
      "text/plain": [
       "np.int64(585)"
      ]
     },
     "execution_count": 214,
     "metadata": {},
     "output_type": "execute_result"
    }
   ],
   "source": [
    "#3\n",
    "A = np.arange(120).reshape(10,-1)\n",
    "A[np.arange(10), np.arange(10)].sum()"
   ]
  },
  {
   "cell_type": "markdown",
   "metadata": {},
   "source": [
    "## Why?\n",
    "\n",
    "Why use NumPy when standard lists/tuples and loops exist?\n",
    "\n",
    "The reason lies in the speed of work. Let's try to calculate the sum of element-wise products of 2 large vectors:"
   ]
  },
  {
   "cell_type": "code",
   "execution_count": 216,
   "metadata": {
    "ExecuteTime": {
     "end_time": "2021-10-27T20:56:28.039983Z",
     "start_time": "2021-10-27T20:56:27.855808Z"
    }
   },
   "outputs": [],
   "source": [
    "import time\n",
    "\n",
    "A_quick_arr = np.random.normal(size = (1000000,))\n",
    "B_quick_arr = np.random.normal(size = (1000000,))\n",
    "\n",
    "A_slow_list, B_slow_list = list(A_quick_arr), list(B_quick_arr)"
   ]
  },
  {
   "cell_type": "code",
   "execution_count": 218,
   "metadata": {
    "ExecuteTime": {
     "end_time": "2021-10-27T20:56:28.453409Z",
     "start_time": "2021-10-27T20:56:28.042004Z"
    }
   },
   "outputs": [
    {
     "name": "stdout",
     "output_type": "stream",
     "text": [
      "CPU times: total: 297 ms\n",
      "Wall time: 525 ms\n"
     ]
    }
   ],
   "source": [
    "%%time\n",
    "\n",
    "ans = 0\n",
    "for i in range(len(A_slow_list)):\n",
    "    ans += A_slow_list[i] * B_slow_list[i]"
   ]
  },
  {
   "cell_type": "code",
   "execution_count": 220,
   "metadata": {
    "ExecuteTime": {
     "end_time": "2021-10-27T20:56:28.850178Z",
     "start_time": "2021-10-27T20:56:28.456367Z"
    }
   },
   "outputs": [
    {
     "name": "stdout",
     "output_type": "stream",
     "text": [
      "CPU times: total: 469 ms\n",
      "Wall time: 574 ms\n"
     ]
    }
   ],
   "source": [
    "%%time\n",
    "\n",
    "ans = 0\n",
    "for i in range(len(A_slow_list)):\n",
    "    ans += A_slow_list[i] * B_slow_list[i]"
   ]
  },
  {
   "cell_type": "code",
   "execution_count": 222,
   "metadata": {
    "ExecuteTime": {
     "end_time": "2021-10-27T20:56:29.267558Z",
     "start_time": "2021-10-27T20:56:28.851944Z"
    }
   },
   "outputs": [
    {
     "name": "stdout",
     "output_type": "stream",
     "text": [
      "CPU times: total: 266 ms\n",
      "Wall time: 411 ms\n"
     ]
    }
   ],
   "source": [
    "%%time\n",
    "\n",
    "ans = sum([A_slow_list[i] * B_slow_list[i] for i in range(1000000)])"
   ]
  },
  {
   "cell_type": "code",
   "execution_count": 224,
   "metadata": {
    "ExecuteTime": {
     "end_time": "2021-10-27T20:56:29.287850Z",
     "start_time": "2021-10-27T20:56:29.269796Z"
    }
   },
   "outputs": [
    {
     "name": "stdout",
     "output_type": "stream",
     "text": [
      "CPU times: total: 0 ns\n",
      "Wall time: 7.89 ms\n"
     ]
    }
   ],
   "source": [
    "%%time\n",
    "\n",
    "ans = np.sum(A_quick_arr * B_quick_arr)"
   ]
  },
  {
   "cell_type": "code",
   "execution_count": 226,
   "metadata": {
    "ExecuteTime": {
     "end_time": "2021-10-27T20:56:29.294464Z",
     "start_time": "2021-10-27T20:56:29.290006Z"
    }
   },
   "outputs": [
    {
     "name": "stdout",
     "output_type": "stream",
     "text": [
      "CPU times: total: 0 ns\n",
      "Wall time: 2.2 ms\n"
     ]
    }
   ],
   "source": [
    "%%time\n",
    "\n",
    "ans = A_quick_arr.dot(B_quick_arr)"
   ]
  },
  {
   "cell_type": "markdown",
   "metadata": {},
   "source": [
    "---\n",
    "<a id='matplotlib'></a>\n",
    "# Matplotlib"
   ]
  },
  {
   "cell_type": "markdown",
   "metadata": {
    "collapsed": true,
    "jupyter": {
     "outputs_hidden": true
    }
   },
   "source": [
    "* [matplotlib](http://matplotlib.org)\n",
    "* [matplotlib - 2D and 3D plotting in Python](http://nbviewer.jupyter.org/github/jrjohansson/scientific-python-lectures/blob/master/Lecture-4-Matplotlib.ipynb)\n",
    "* [visualization in pandas](http://pandas.pydata.org/pandas-docs/stable/visualization.html)\n",
    "\n",
    "**Matplotlib** is a Python library used for visualization."
   ]
  },
  {
   "cell_type": "code",
   "execution_count": 228,
   "metadata": {
    "ExecuteTime": {
     "end_time": "2021-10-27T20:56:42.986251Z",
     "start_time": "2021-10-27T20:56:42.982711Z"
    }
   },
   "outputs": [],
   "source": [
    "%matplotlib inline\n",
    "import matplotlib.pyplot as plt"
   ]
  },
  {
   "cell_type": "code",
   "execution_count": 229,
   "metadata": {
    "ExecuteTime": {
     "end_time": "2021-10-27T20:56:42.991799Z",
     "start_time": "2021-10-27T20:56:42.988527Z"
    }
   },
   "outputs": [],
   "source": [
    "x = np.linspace(1, 10, 20)"
   ]
  },
  {
   "cell_type": "markdown",
   "metadata": {},
   "source": [
    "To plot graphs in matplotlib, we use figures and axes assigned to them, which is quite convenient in the case when it is necessary to plot several graphs or when their location is non-standard."
   ]
  },
  {
   "cell_type": "code",
   "execution_count": 234,
   "metadata": {
    "ExecuteTime": {
     "end_time": "2021-10-27T20:56:43.355720Z",
     "start_time": "2021-10-27T20:56:42.994018Z"
    }
   },
   "outputs": [
    {
     "data": {
      "text/plain": [
       "<matplotlib.legend.Legend at 0x1cc2fc9de20>"
      ]
     },
     "execution_count": 234,
     "metadata": {},
     "output_type": "execute_result"
    },
    {
     "data": {
      "image/png": "[encoded data removed]",
      "text/plain": [
       "<Figure size 500x300 with 1 Axes>"
      ]
     },
     "metadata": {},
     "output_type": "display_data"
    }
   ],
   "source": [
    "fig = plt.figure(figsize=(5, 3))\n",
    "\n",
    "axes = fig.add_axes([0.1, 0.1, 0.8, 0.8])\n",
    "\n",
    "axes.plot(x, x ** 2, 'r')\n",
    "axes.plot(x, x ** 3, 'b*--')\n",
    "\n",
    "axes.set_xlabel('x')\n",
    "axes.set_ylabel('y')\n",
    "axes.set_title('title')\n",
    "axes.legend([r'$x^2$', 'x^3'], loc = 0)"
   ]
  },
  {
   "cell_type": "code",
   "execution_count": 236,
   "metadata": {
    "ExecuteTime": {
     "end_time": "2021-10-27T20:56:43.518556Z",
     "start_time": "2021-10-27T20:56:43.357348Z"
    }
   },
   "outputs": [
    {
     "data": {
      "text/plain": [
       "Text(0.5, 1.0, 'title')"
      ]
     },
     "execution_count": 236,
     "metadata": {},
     "output_type": "execute_result"
    },
    {
     "data": {
      "image/png": "[encoded data removed]",
      "text/plain": [
       "<Figure size 1000x600 with 1 Axes>"
      ]
     },
     "metadata": {},
     "output_type": "display_data"
    }
   ],
   "source": [
    "fig = plt.figure(figsize=(10, 6))\n",
    "\n",
    "axes = fig.add_axes([0.1, 0.1, 0.8, 0.8])\n",
    "\n",
    "axes.scatter(x, x ** 2, color='red', marker='*', s=80)\n",
    "axes.scatter(x, x ** 3)\n",
    "\n",
    "axes.set_xlabel('x')\n",
    "axes.set_ylabel('y')\n",
    "axes.set_title('title')"
   ]
  },
  {
   "cell_type": "markdown",
   "metadata": {},
   "source": [
    "Matplotlib allows you to customize the details of the generated plots:"
   ]
  },
  {
   "cell_type": "code",
   "execution_count": 238,
   "metadata": {
    "ExecuteTime": {
     "end_time": "2021-10-27T20:56:43.705815Z",
     "start_time": "2021-10-27T20:56:43.520760Z"
    }
   },
   "outputs": [
    {
     "data": {
      "text/plain": [
       "<matplotlib.legend.Legend at 0x1cc2ffec440>"
      ]
     },
     "execution_count": 238,
     "metadata": {},
     "output_type": "execute_result"
    },
    {
     "data": {
      "image/png": "[encoded data removed]",
      "text/plain": [
       "<Figure size 1000x600 with 1 Axes>"
      ]
     },
     "metadata": {},
     "output_type": "display_data"
    }
   ],
   "source": [
    "fig = plt.figure(figsize=(10, 6))\n",
    "\n",
    "axes = fig.add_axes([0.1, 0.1, 0.8, 0.8])\n",
    "\n",
    "axes.plot(x, x ** 2, 'r^-', label = r'$y = x^2$', markersize=8, markerfacecolor=\"yellow\", \n",
    "          markeredgewidth=1, markeredgecolor=\"green\")\n",
    "axes.plot(x, x ** 3, 'b*--', label = r'$y = x^3$', alpha = 0.5)\n",
    "\n",
    "axes.set_xlabel('x')\n",
    "axes.set_ylabel('y')\n",
    "axes.set_title('title')\n",
    "axes.legend(loc = 0, fontsize = 18)"
   ]
  },
  {
   "cell_type": "markdown",
   "metadata": {},
   "source": [
    "As mentioned, matplotlib provides a certain amount of freedom in the layout of the subplots:"
   ]
  },
  {
   "cell_type": "code",
   "execution_count": 240,
   "metadata": {
    "ExecuteTime": {
     "end_time": "2021-10-27T20:56:44.090174Z",
     "start_time": "2021-10-27T20:56:43.708003Z"
    }
   },
   "outputs": [
    {
     "data": {
      "text/plain": [
       "Text(0.5, 1.0, 'insert title')"
      ]
     },
     "execution_count": 240,
     "metadata": {},
     "output_type": "execute_result"
    },
    {
     "data": {
      "image/png": "[encoded data removed]",
      "text/plain": [
       "<Figure size 640x480 with 2 Axes>"
      ]
     },
     "metadata": {},
     "output_type": "display_data"
    }
   ],
   "source": [
    "fig = plt.figure()\n",
    "\n",
    "axes1 = fig.add_axes([0.1, 0.1, 0.8, 0.8]) # main axes\n",
    "axes2 = fig.add_axes([0.2, 0.5, 0.4, 0.3]) # inset axes\n",
    "\n",
    "# main figure\n",
    "axes1.plot(x, x ** 2, 'r')\n",
    "axes1.set_xlabel('x')\n",
    "axes1.set_ylabel('y')\n",
    "axes1.set_title('title')\n",
    "\n",
    "# insert\n",
    "axes2.plot(x ** 2, x, 'g')\n",
    "axes2.set_xlabel('y')\n",
    "axes2.set_ylabel('x')\n",
    "axes2.set_title('insert title')"
   ]
  },
  {
   "cell_type": "markdown",
   "metadata": {},
   "source": [
    "You can also use one of the classic configurations:"
   ]
  },
  {
   "cell_type": "code",
   "execution_count": 242,
   "metadata": {
    "ExecuteTime": {
     "end_time": "2021-10-27T20:56:44.744377Z",
     "start_time": "2021-10-27T20:56:44.093212Z"
    }
   },
   "outputs": [
    {
     "data": {
      "image/png": "[encoded data removed]",
      "text/plain": [
       "<Figure size 1600x500 with 3 Axes>"
      ]
     },
     "metadata": {},
     "output_type": "display_data"
    }
   ],
   "source": [
    "fig, axes = plt.subplots(nrows=1, ncols=3, figsize = (16, 5))\n",
    "\n",
    "for pow_num, ax in enumerate(axes):\n",
    "    ax.plot(x, x ** (pow_num + 1), 'r')\n",
    "    ax.set_xlabel('x')\n",
    "    ax.set_ylabel('y')\n",
    "    ax.set_title(r'$y = x^' + str(pow_num + 1)+ r'$', fontsize = 18)\n",
    "fig.tight_layout() # борьба с пересечением подграфиков"
   ]
  },
  {
   "cell_type": "markdown",
   "metadata": {},
   "source": [
    "The resulting graph can be saved to a file:"
   ]
  },
  {
   "cell_type": "code",
   "execution_count": null,
   "metadata": {
    "ExecuteTime": {
     "end_time": "2021-10-27T20:56:45.032684Z",
     "start_time": "2021-10-27T20:56:44.746440Z"
    }
   },
   "outputs": [],
   "source": [
    "fig.savefig(\"pows.png\", dpi=200)"
   ]
  },
  {
   "cell_type": "markdown",
   "metadata": {},
   "source": [
    "Matplotlib also allows you to plot a surface plot using the function values at the grid points:"
   ]
  },
  {
   "cell_type": "code",
   "execution_count": 244,
   "metadata": {
    "ExecuteTime": {
     "end_time": "2021-10-27T20:56:45.044125Z",
     "start_time": "2021-10-27T20:56:45.035345Z"
    }
   },
   "outputs": [],
   "source": [
    "alpha = 0.7\n",
    "phi_ext = 2 * np.pi * 0.5\n",
    "\n",
    "def flux_qubit_potential(phi_m, phi_p):\n",
    "    return 2 + alpha - 2 * np.cos(phi_p) * np.cos(phi_m) - alpha * np.cos(phi_ext - 2*phi_p)\n",
    "\n",
    "phi_m = np.linspace(0, 2*np.pi, 100)\n",
    "phi_p = np.linspace(0, 2*np.pi, 100)\n",
    "X,Y = np.meshgrid(phi_p, phi_m)\n",
    "Z = flux_qubit_potential(X, Y).T"
   ]
  },
  {
   "cell_type": "code",
   "execution_count": 246,
   "metadata": {
    "ExecuteTime": {
     "end_time": "2021-10-27T20:56:45.911182Z",
     "start_time": "2021-10-27T20:56:45.576821Z"
    }
   },
   "outputs": [
    {
     "data": {
      "image/png": "[encoded data removed]",
      "text/plain": [
       "<Figure size 1400x600 with 1 Axes>"
      ]
     },
     "metadata": {},
     "output_type": "display_data"
    }
   ],
   "source": [
    "from mpl_toolkits.mplot3d import Axes3D\n",
    "\n",
    "fig = plt.figure(figsize=(14,6))\n",
    "\n",
    "ax = fig.add_subplot(111, projection='3d')\n",
    "\n",
    "p = ax.plot_surface(X, Y, Z, rstride=4, cstride=4, linewidth=0, cmap='jet')"
   ]
  },
  {
   "cell_type": "markdown",
   "metadata": {},
   "source": [
    "Note, that Matplotlib allows you to use many other types of visualization, you can read more about them, for example, [here](http://matplotlib.org/gallery.html) or [here](http://nbviewer.jupyter.org/github/jrjohansson/scientific-python-lectures/blob/master/Lecture-4-Matplotlib.ipynb)."
   ]
  }
 ],
 "metadata": {
  "kernelspec": {
   "display_name": "Python 3 (ipykernel)",
   "language": "python",
   "name": "python3"
  },
  "language_info": {
   "codemirror_mode": {
    "name": "ipython",
    "version": 3
   },
   "file_extension": ".py",
   "mimetype": "text/x-python",
   "name": "python",
   "nbconvert_exporter": "python",
   "pygments_lexer": "ipython3",
   "version": "3.12.7"
  },
  "latex_envs": {
   "LaTeX_envs_menu_present": true,
   "autoclose": false,
   "autocomplete": true,
   "bibliofile": "biblio.bib",
   "cite_by": "apalike",
   "current_citInitial": 1,
   "eqLabelWithNumbers": true,
   "eqNumInitial": 1,
   "hotkeys": {
    "equation": "Ctrl-E",
    "itemize": "Ctrl-I"
   },
   "labels_anchors": false,
   "latex_user_defs": false,
   "report_style_numbering": false,
   "user_envs_cfg": false
  }
 },
 "nbformat": 4,
 "nbformat_minor": 4
}
